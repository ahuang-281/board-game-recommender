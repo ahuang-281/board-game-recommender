{
 "cells": [
  {
   "cell_type": "code",
   "execution_count": 1,
   "metadata": {
    "collapsed": false
   },
   "outputs": [],
   "source": [
    "%matplotlib inline\n",
    "\n",
    "import numpy as np\n",
    "from scipy.sparse import coo_matrix\n",
    "import pandas as pd\n",
    "from sklearn.cross_validation import train_test_split\n",
    "from sklearn.metrics import mean_squared_error\n",
    "import matplotlib.pyplot as plt"
   ]
  },
  {
   "cell_type": "code",
   "execution_count": 2,
   "metadata": {
    "collapsed": true
   },
   "outputs": [],
   "source": [
    "# Import user-item rating dataframe\n",
    "\n",
    "ratings_red = pd.read_json('ratings_vreduced.json')"
   ]
  },
  {
   "cell_type": "code",
   "execution_count": 3,
   "metadata": {
    "collapsed": false
   },
   "outputs": [
    {
     "name": "stdout",
     "output_type": "stream",
     "text": [
      "15.3119521338% of user-item ratings are filled.\n"
     ]
    }
   ],
   "source": [
    "# Determine how many user-item pairs are filled\n",
    "\n",
    "n_users = len(ratings_red.user.unique())\n",
    "n_games = len(ratings_red.gameid.unique())\n",
    "sparsity = float(len(ratings_red))/(n_users*n_games)*100\n",
    "print str(sparsity)+'% of user-item ratings are filled.'"
   ]
  },
  {
   "cell_type": "code",
   "execution_count": 4,
   "metadata": {
    "collapsed": false
   },
   "outputs": [],
   "source": [
    "# Convert user names and game IDs to matrix indices\n",
    "\n",
    "userdict = {}\n",
    "for i, user in enumerate(ratings_red.user.unique()):\n",
    "    userdict[user] = i\n",
    "    \n",
    "gamedict = {}\n",
    "for i, game in enumerate(ratings_red.gameid.unique()):\n",
    "    gamedict[game] = i\n",
    "    \n",
    "ratings_red['user'] = ratings_red['user'].map(userdict.get)\n",
    "ratings_red['gameid'] = ratings_red['gameid'].map(gamedict.get)"
   ]
  },
  {
   "cell_type": "code",
   "execution_count": 5,
   "metadata": {
    "collapsed": false
   },
   "outputs": [],
   "source": [
    "# Split data in testing and training sets\n",
    "\n",
    "X = ratings_red[['gameid','user']]\n",
    "y = ratings_red['score']\n",
    "X_train, X_test, y_train, y_test = train_test_split(X, y, test_size=0.2, random_state=29, stratify=X['user'])"
   ]
  },
  {
   "cell_type": "code",
   "execution_count": 6,
   "metadata": {
    "collapsed": false
   },
   "outputs": [],
   "source": [
    "# Build a user-item score matrix from training data\n",
    "\n",
    "train = coo_matrix((y_train, (X_train['user'],X_train['gameid'])))\n",
    "train = train.todense()"
   ]
  },
  {
   "cell_type": "code",
   "execution_count": 7,
   "metadata": {
    "collapsed": true
   },
   "outputs": [],
   "source": [
    "def fillavg(ratings):\n",
    "    \"\"\"This function fills the empty items in a rating matrix with the\n",
    "    item average score\"\"\"\n",
    "    rate = pd.DataFrame(ratings.copy())\n",
    "    rate[rate==0] = np.nan\n",
    "    rate = rate.fillna(rate.mean())\n",
    "    return rate.as_matrix()"
   ]
  },
  {
   "cell_type": "code",
   "execution_count": 8,
   "metadata": {
    "collapsed": false
   },
   "outputs": [],
   "source": [
    "# Determine a 'baseline' score predition where all missing scores are predicted by the item's average score\n",
    "\n",
    "pred_baseline = fillavg(train)"
   ]
  },
  {
   "cell_type": "code",
   "execution_count": 9,
   "metadata": {
    "collapsed": false
   },
   "outputs": [],
   "source": [
    "def rmse(X, y, prediction):\n",
    "    \"\"\"This function calculates mean squared-error of the prediction.\n",
    "    Inputs are a dataframe of indices, a dataframe of scores, and the\n",
    "    matrix of predicted values\"\"\"\n",
    "    y_pred = []\n",
    "    for row in X.itertuples():\n",
    "        y_pred.append(prediction[row[2],row[1]])\n",
    "    return np.sqrt(mean_squared_error(y, y_pred))"
   ]
  },
  {
   "cell_type": "code",
   "execution_count": 10,
   "metadata": {
    "collapsed": false
   },
   "outputs": [
    {
     "name": "stdout",
     "output_type": "stream",
     "text": [
      "RMSE: 1.3688170609103507\n"
     ]
    }
   ],
   "source": [
    "# Calculate RMSE for baseline model\n",
    "\n",
    "print 'RMSE: ' + str(rmse(X_test,y_test,pred_baseline))"
   ]
  },
  {
   "cell_type": "code",
   "execution_count": 11,
   "metadata": {
    "collapsed": false
   },
   "outputs": [],
   "source": [
    "def uu_similarity(ratings):\n",
    "    \"\"\"This function calculates a user-user similarity matrix using\n",
    "    a cosine-distance between each user-user pair's ratings\"\"\"\n",
    "    ratings2 = ratings + 1e-10\n",
    "    similarity = ratings2.dot(ratings2.T)\n",
    "    norms = np.matrix(np.sqrt(similarity.diagonal()))\n",
    "    return similarity/norms/norms.T"
   ]
  },
  {
   "cell_type": "code",
   "execution_count": 12,
   "metadata": {
    "collapsed": false
   },
   "outputs": [],
   "source": [
    "def uu_predict(ratings, similarity):\n",
    "    \"\"\"This function predicts user-user ratings by averaging all\n",
    "    ratings for a game weighted by user-user similarity\"\"\"\n",
    "    similarity2 = similarity.copy()\n",
    "    np.fill_diagonal(similarity2, 0)\n",
    "    predictions = np.divide(similarity2.dot(ratings),np.abs(similarity2).dot(ratings!= 0))\n",
    "    return predictions"
   ]
  },
  {
   "cell_type": "code",
   "execution_count": 13,
   "metadata": {
    "collapsed": false
   },
   "outputs": [],
   "source": [
    "sim = uu_similarity(train)"
   ]
  },
  {
   "cell_type": "code",
   "execution_count": 14,
   "metadata": {
    "collapsed": false
   },
   "outputs": [],
   "source": [
    "pred = uu_predict(train, sim)"
   ]
  },
  {
   "cell_type": "code",
   "execution_count": 15,
   "metadata": {
    "collapsed": false
   },
   "outputs": [
    {
     "name": "stdout",
     "output_type": "stream",
     "text": [
      "RMSE: 1.3656142856275606\n"
     ]
    }
   ],
   "source": [
    "print 'RMSE: ' + str(rmse(X_test,y_test,pred))"
   ]
  },
  {
   "cell_type": "code",
   "execution_count": 16,
   "metadata": {
    "collapsed": false
   },
   "outputs": [],
   "source": [
    "def uu_predict_topk(ratings, similarity, k):\n",
    "    \"\"\"This function predicts user-user ratings by averaging ratings\n",
    "    for a game weighted by user-user similarity for only the k most\n",
    "    similar users\"\"\"\n",
    "    similarity2 = similarity.copy()\n",
    "    np.fill_diagonal(similarity2, 0)\n",
    "    nanfill = np.divide(similarity2.dot(ratings),np.abs(similarity2).dot(ratings!= 0))\n",
    "    filt = similarity2.argsort()[:,:len(similarity2)-k]\n",
    "    for index, row in enumerate(filt):\n",
    "        similarity2[index,row]=0\n",
    "    predictions = np.divide(similarity2.dot(ratings),np.abs(similarity2).dot(ratings != 0))\n",
    "    predictions = pd.DataFrame(predictions).fillna(pd.DataFrame(nanfill))\n",
    "    return predictions.as_matrix()"
   ]
  },
  {
   "cell_type": "code",
   "execution_count": 25,
   "metadata": {
    "collapsed": false
   },
   "outputs": [],
   "source": [
    "# calculate rmse for a variety of k using kNN similarity\n",
    "\n",
    "rmse_test = []\n",
    "ks = [10,50,100,150,200,250,300,350,400,450,500]\n",
    "for k in ks:\n",
    "    pred_topk = uu_predict_topk(train, sim.copy(), k)\n",
    "    rmse_test.append(rmse(X_test,y_test,pred_topk))"
   ]
  },
  {
   "cell_type": "code",
   "execution_count": 29,
   "metadata": {
    "collapsed": false
   },
   "outputs": [
    {
     "data": {
      "image/png": "[encoded data removed]",
      "text/plain": [
       "<matplotlib.figure.Figure at 0x6522fd30>"
      ]
     },
     "metadata": {},
     "output_type": "display_data"
    }
   ],
   "source": [
    "plt.plot(ks, rmse_test)\n",
    "plt.ylim([1.3,1.4])\n",
    "plt.xlim([0,500])\n",
    "plt.xlabel('k nearest similarity')\n",
    "plt.ylabel('RMSE')\n",
    "plt.show()"
   ]
  },
  {
   "cell_type": "code",
   "execution_count": 31,
   "metadata": {
    "collapsed": false
   },
   "outputs": [],
   "source": [
    "def unbias(ratings):\n",
    "    \"\"\"This function subtracts out each user's mean rating from their individual ratings\"\"\"\n",
    "    rate = pd.DataFrame(ratings.copy().T)\n",
    "    rate[rate == 0] = np.nan\n",
    "    means = rate.mean()\n",
    "    rate = (rate-means).fillna(0)\n",
    "    return rate.as_matrix().T, means"
   ]
  },
  {
   "cell_type": "code",
   "execution_count": 32,
   "metadata": {
    "collapsed": true
   },
   "outputs": [],
   "source": [
    "def rebias(ratings, means):\n",
    "    \"\"\"This function adds back in each user's average rating to their predicted ratings\"\"\"\n",
    "    rate = pd.DataFrame(ratings.copy().T)\n",
    "    rate = rate+means\n",
    "    rate[rate > 10] = 10 # Correct for ratings greater than 10 (rating scale goes from 1-10)\n",
    "    rate[rate < 1] = 1 # Correct for ratings less than 1 (rating scale goes from 1-10)\n",
    "    return rate.as_matrix().T"
   ]
  },
  {
   "cell_type": "code",
   "execution_count": 33,
   "metadata": {
    "collapsed": false
   },
   "outputs": [],
   "source": [
    "train_unbias, means = unbias(train)"
   ]
  },
  {
   "cell_type": "code",
   "execution_count": 34,
   "metadata": {
    "collapsed": false
   },
   "outputs": [],
   "source": [
    "sim_unbias = uu_similarity(train_unbias)"
   ]
  },
  {
   "cell_type": "code",
   "execution_count": 35,
   "metadata": {
    "collapsed": false
   },
   "outputs": [],
   "source": [
    "pred_unbias = uu_predict(train_unbias, sim_unbias)\n",
    "pred_unbias = rebias(pred_unbias, means)"
   ]
  },
  {
   "cell_type": "code",
   "execution_count": 36,
   "metadata": {
    "collapsed": false
   },
   "outputs": [
    {
     "data": {
      "text/plain": [
       "1.1785943199711686"
      ]
     },
     "execution_count": 36,
     "metadata": {},
     "output_type": "execute_result"
    }
   ],
   "source": [
    "rmse(X_test,y_test,pred_unbias)"
   ]
  },
  {
   "cell_type": "code",
   "execution_count": 37,
   "metadata": {
    "collapsed": false
   },
   "outputs": [],
   "source": [
    "# calculate rmse for a variety of k using kNN similarity with rating bias subtracted\n",
    "\n",
    "rmse_test_unbias = []\n",
    "ks = [10,50,100,150,200,250,300,350,400,450,500]\n",
    "for k in ks:\n",
    "    pred_unbias_topk = uu_predict_topk(train_unbias, sim_unbias, k)\n",
    "    pred_unbias_topk = rebias(pred_unbias_topk, means)\n",
    "    rmse_test_unbias.append(rmse(X_test,y_test,pred_unbias_topk))"
   ]
  },
  {
   "cell_type": "code",
   "execution_count": 43,
   "metadata": {
    "collapsed": false
   },
   "outputs": [
    {
     "data": {
      "image/png": "[encoded data removed]",
      "text/plain": [
       "<matplotlib.figure.Figure at 0x6a602e48>"
      ]
     },
     "metadata": {},
     "output_type": "display_data"
    }
   ],
   "source": [
    "plt.plot(ks, rmse_test_unbias)\n",
    "plt.ylim([1.1,1.2])\n",
    "plt.xlim([0,500])\n",
    "plt.xlabel('k nearest similarity')\n",
    "plt.ylabel('RMSE')\n",
    "plt.show()"
   ]
  },
  {
   "cell_type": "markdown",
   "metadata": {},
   "source": [
    "## Testing on my own account"
   ]
  },
  {
   "cell_type": "code",
   "execution_count": 71,
   "metadata": {
    "collapsed": false
   },
   "outputs": [],
   "source": [
    "# Import my own account's ratings\n",
    "\n",
    "my_ratings = pd.read_json('my_ratings.json')\n",
    "my_ratings2 = my_ratings.copy()\n",
    "my_ratings2['gameid'] = my_ratings2['gameid'].map(gamedict.get)\n",
    "my_ratings2 = my_ratings2.dropna()"
   ]
  },
  {
   "cell_type": "code",
   "execution_count": 72,
   "metadata": {
    "collapsed": false
   },
   "outputs": [],
   "source": [
    "# Convert my ratings into a ratings matrix\n",
    "\n",
    "my_ratings_mat = coo_matrix((my_ratings2.score, (np.zeros_like(my_ratings2.gameid),my_ratings2.gameid)),\n",
    "                            shape = [1, n_games]).todense()"
   ]
  },
  {
   "cell_type": "code",
   "execution_count": 73,
   "metadata": {
    "collapsed": false
   },
   "outputs": [],
   "source": [
    "# Convert full ratings into rating matrix\n",
    "\n",
    "full_ratings = coo_matrix((y, (X['user'],X['gameid']))).todense()"
   ]
  },
  {
   "cell_type": "code",
   "execution_count": 74,
   "metadata": {
    "collapsed": false
   },
   "outputs": [],
   "source": [
    "my_ratings_unbias, my_mean = unbias(my_ratings_mat)\n",
    "full_ratings_unbias, full_means = unbias(full_ratings)"
   ]
  },
  {
   "cell_type": "code",
   "execution_count": 75,
   "metadata": {
    "collapsed": false
   },
   "outputs": [],
   "source": [
    "def su_similarity(u_ratings, ratings):\n",
    "    \"\"\"This function calculates a single user's similarity vector using\n",
    "    a cosine-distance between that user's ratings and every user's ratings\n",
    "    in the full matrix\"\"\"\n",
    "    norms = np.sqrt(full_ratings.dot(full_ratings.T).diagonal())\n",
    "    denom = norms * np.linalg.norm(my_ratings)\n",
    "    return np.divide(u_ratings.dot(full_ratings.T), denom)"
   ]
  },
  {
   "cell_type": "code",
   "execution_count": 76,
   "metadata": {
    "collapsed": false
   },
   "outputs": [],
   "source": [
    "my_sim = su_similarity(my_ratings_unbias, full_ratings_unbias)"
   ]
  },
  {
   "cell_type": "code",
   "execution_count": 77,
   "metadata": {
    "collapsed": true
   },
   "outputs": [],
   "source": [
    "def su_predict_topk(ratings, similarity, k):\n",
    "    \"\"\"This function predicts a single user's ratings by averaging ratings\n",
    "    for a game weighted by user-user similarity for only the k most\n",
    "    similar users\"\"\"\n",
    "    similarity2 = similarity.copy()\n",
    "    filt = similarity2.argsort()[:,:len(similarity2)-k]\n",
    "    for index, row in enumerate(filt):\n",
    "        similarity2[index,row]=0\n",
    "    predictions = np.divide(similarity2.dot(ratings),np.abs(similarity2).dot(ratings != 0))\n",
    "    return predictions"
   ]
  },
  {
   "cell_type": "code",
   "execution_count": 78,
   "metadata": {
    "collapsed": false
   },
   "outputs": [],
   "source": [
    "# Predict my ratings based on 350 most similar users\n",
    "\n",
    "my_pred = su_predict_topk(full_ratings_unbias, my_sim, 350)\n",
    "my_pred = rebias(my_pred, my_mean)\n",
    "my_pred = pd.DataFrame(my_pred).transpose()\n",
    "my_pred.columns = ['predicted_score']"
   ]
  },
  {
   "cell_type": "code",
   "execution_count": 66,
   "metadata": {
    "collapsed": true
   },
   "outputs": [],
   "source": [
    "# Import game database file in order to parse game IDs back to the game names\n",
    "\n",
    "game_df = pd.read_json('bgg_database.json')['name']\n",
    "game_df.index.name = 'gameid'\n",
    "game_df = game_df.reset_index()"
   ]
  },
  {
   "cell_type": "code",
   "execution_count": 79,
   "metadata": {
    "collapsed": false
   },
   "outputs": [],
   "source": [
    "# Replace game IDs with game names\n",
    "\n",
    "recommendations = pd.DataFrame.from_dict(gamedict, orient = 'index').reset_index()\n",
    "recommendations.columns = ['gameid','index']\n",
    "recommendations = recommendations.set_index('index').sort_index()\n",
    "del recommendations.index.name\n",
    "recommendations = recommendations.join(my_pred)\n",
    "recommendations = recommendations.merge(game_df, how = 'left', left_on = 'gameid', right_on = 'gameid')"
   ]
  },
  {
   "cell_type": "code",
   "execution_count": 82,
   "metadata": {
    "collapsed": false
   },
   "outputs": [
    {
     "data": {
      "text/html": [
       "<div>\n",
       "<table border=\"1\" class=\"dataframe\">\n",
       "  <thead>\n",
       "    <tr style=\"text-align: right;\">\n",
       "      <th></th>\n",
       "      <th>gameid</th>\n",
       "      <th>predicted_score</th>\n",
       "      <th>name</th>\n",
       "    </tr>\n",
       "  </thead>\n",
       "  <tbody>\n",
       "    <tr>\n",
       "      <th>2293</th>\n",
       "      <td>38718</td>\n",
       "      <td>10.000000</td>\n",
       "      <td>Normandy '44</td>\n",
       "    </tr>\n",
       "    <tr>\n",
       "      <th>941</th>\n",
       "      <td>17651</td>\n",
       "      <td>10.000000</td>\n",
       "      <td>Under the Lily Banners</td>\n",
       "    </tr>\n",
       "    <tr>\n",
       "      <th>81</th>\n",
       "      <td>124839</td>\n",
       "      <td>10.000000</td>\n",
       "      <td>Hoplomachus: The Lost Cities</td>\n",
       "    </tr>\n",
       "    <tr>\n",
       "      <th>297</th>\n",
       "      <td>139131</td>\n",
       "      <td>10.000000</td>\n",
       "      <td>Hoplomachus: Rise of Rome</td>\n",
       "    </tr>\n",
       "    <tr>\n",
       "      <th>319</th>\n",
       "      <td>14083</td>\n",
       "      <td>10.000000</td>\n",
       "      <td>Fire in the Sky: The Great Pacific War 1941-1945</td>\n",
       "    </tr>\n",
       "    <tr>\n",
       "      <th>928</th>\n",
       "      <td>1758</td>\n",
       "      <td>10.000000</td>\n",
       "      <td>Advanced Heroquest</td>\n",
       "    </tr>\n",
       "    <tr>\n",
       "      <th>683</th>\n",
       "      <td>162009</td>\n",
       "      <td>10.000000</td>\n",
       "      <td>The U.S. Civil War</td>\n",
       "    </tr>\n",
       "    <tr>\n",
       "      <th>2708</th>\n",
       "      <td>67600</td>\n",
       "      <td>10.000000</td>\n",
       "      <td>D-Day at Tarawa</td>\n",
       "    </tr>\n",
       "    <tr>\n",
       "      <th>2145</th>\n",
       "      <td>3408</td>\n",
       "      <td>10.000000</td>\n",
       "      <td>This Accursed Civil War</td>\n",
       "    </tr>\n",
       "    <tr>\n",
       "      <th>1109</th>\n",
       "      <td>18746</td>\n",
       "      <td>9.806325</td>\n",
       "      <td>Gustav Adolf the Great: With God and Victoriou...</td>\n",
       "    </tr>\n",
       "    <tr>\n",
       "      <th>1825</th>\n",
       "      <td>101682</td>\n",
       "      <td>9.806325</td>\n",
       "      <td>Saints in Armor</td>\n",
       "    </tr>\n",
       "    <tr>\n",
       "      <th>127</th>\n",
       "      <td>12750</td>\n",
       "      <td>9.705668</td>\n",
       "      <td>1860: Railways on the Isle of Wight</td>\n",
       "    </tr>\n",
       "    <tr>\n",
       "      <th>2615</th>\n",
       "      <td>61487</td>\n",
       "      <td>9.671716</td>\n",
       "      <td>Unconditional Surrender! World War 2 in Europe</td>\n",
       "    </tr>\n",
       "    <tr>\n",
       "      <th>242</th>\n",
       "      <td>134520</td>\n",
       "      <td>9.539657</td>\n",
       "      <td>Phantom Leader Deluxe</td>\n",
       "    </tr>\n",
       "    <tr>\n",
       "      <th>2638</th>\n",
       "      <td>63170</td>\n",
       "      <td>9.484124</td>\n",
       "      <td>1817</td>\n",
       "    </tr>\n",
       "    <tr>\n",
       "      <th>548</th>\n",
       "      <td>154875</td>\n",
       "      <td>9.341515</td>\n",
       "      <td>Silent Victory: U.S. Submarines in the Pacific...</td>\n",
       "    </tr>\n",
       "    <tr>\n",
       "      <th>2132</th>\n",
       "      <td>33434</td>\n",
       "      <td>9.256381</td>\n",
       "      <td>Funkenschlag: EnBW</td>\n",
       "    </tr>\n",
       "    <tr>\n",
       "      <th>1250</th>\n",
       "      <td>19679</td>\n",
       "      <td>9.253106</td>\n",
       "      <td>Hordes</td>\n",
       "    </tr>\n",
       "    <tr>\n",
       "      <th>2063</th>\n",
       "      <td>3097</td>\n",
       "      <td>9.209354</td>\n",
       "      <td>1849: The Game of Sicilian Railways</td>\n",
       "    </tr>\n",
       "    <tr>\n",
       "      <th>1784</th>\n",
       "      <td>242722</td>\n",
       "      <td>9.203434</td>\n",
       "      <td>Here I Stand (500th Anniversary Reprint Edition)</td>\n",
       "    </tr>\n",
       "  </tbody>\n",
       "</table>\n",
       "</div>"
      ],
      "text/plain": [
       "      gameid  predicted_score  \\\n",
       "2293   38718        10.000000   \n",
       "941    17651        10.000000   \n",
       "81    124839        10.000000   \n",
       "297   139131        10.000000   \n",
       "319    14083        10.000000   \n",
       "928     1758        10.000000   \n",
       "683   162009        10.000000   \n",
       "2708   67600        10.000000   \n",
       "2145    3408        10.000000   \n",
       "1109   18746         9.806325   \n",
       "1825  101682         9.806325   \n",
       "127    12750         9.705668   \n",
       "2615   61487         9.671716   \n",
       "242   134520         9.539657   \n",
       "2638   63170         9.484124   \n",
       "548   154875         9.341515   \n",
       "2132   33434         9.256381   \n",
       "1250   19679         9.253106   \n",
       "2063    3097         9.209354   \n",
       "1784  242722         9.203434   \n",
       "\n",
       "                                                   name  \n",
       "2293                                       Normandy '44  \n",
       "941                              Under the Lily Banners  \n",
       "81                         Hoplomachus: The Lost Cities  \n",
       "297                           Hoplomachus: Rise of Rome  \n",
       "319    Fire in the Sky: The Great Pacific War 1941-1945  \n",
       "928                                  Advanced Heroquest  \n",
       "683                                  The U.S. Civil War  \n",
       "2708                                    D-Day at Tarawa  \n",
       "2145                            This Accursed Civil War  \n",
       "1109  Gustav Adolf the Great: With God and Victoriou...  \n",
       "1825                                    Saints in Armor  \n",
       "127                 1860: Railways on the Isle of Wight  \n",
       "2615     Unconditional Surrender! World War 2 in Europe  \n",
       "242                               Phantom Leader Deluxe  \n",
       "2638                                               1817  \n",
       "548   Silent Victory: U.S. Submarines in the Pacific...  \n",
       "2132                                 Funkenschlag: EnBW  \n",
       "1250                                             Hordes  \n",
       "2063                1849: The Game of Sicilian Railways  \n",
       "1784   Here I Stand (500th Anniversary Reprint Edition)  "
      ]
     },
     "execution_count": 82,
     "metadata": {},
     "output_type": "execute_result"
    }
   ],
   "source": [
    "# Display my top 20 predicted games filtering out games that I have already rated\n",
    "\n",
    "owned_filter = recommendations.gameid.isin(my_ratings.gameid)\n",
    "recommendations[~owned_filter].sort_values('predicted_score', ascending = False).head(20)"
   ]
  },
  {
   "cell_type": "code",
   "execution_count": null,
   "metadata": {
    "collapsed": true
   },
   "outputs": [],
   "source": []
  }
 ],
 "metadata": {
  "kernelspec": {
   "display_name": "Python 2",
   "language": "python",
   "name": "python2"
  },
  "language_info": {
   "codemirror_mode": {
    "name": "ipython",
    "version": 2
   },
   "file_extension": ".py",
   "mimetype": "text/x-python",
   "name": "python",
   "nbconvert_exporter": "python",
   "pygments_lexer": "ipython2",
   "version": "2.7.11"
  }
 },
 "nbformat": 4,
 "nbformat_minor": 0
}
