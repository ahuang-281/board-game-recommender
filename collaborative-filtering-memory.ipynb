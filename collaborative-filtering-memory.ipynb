{
 "cells": [
  {
   "cell_type": "code",
   "execution_count": 1,
   "metadata": {
    "collapsed": false
   },
   "outputs": [],
   "source": [
    "import numpy as np\n",
    "from scipy.sparse import coo_matrix\n",
    "import pandas as pd\n",
    "from sklearn.cross_validation import train_test_split\n",
    "from sklearn.metrics import mean_squared_error\n",
    "import matplotlib.pyplot as plt\n",
    "\n",
    "%matplotlib inline"
   ]
  },
  {
   "cell_type": "code",
   "execution_count": 2,
   "metadata": {
    "collapsed": true
   },
   "outputs": [],
   "source": [
    "# Import user-item rating dataframe\n",
    "\n",
    "ratings_red = pd.read_json('ratings_vreduced.json')"
   ]
  },
  {
   "cell_type": "code",
   "execution_count": 3,
   "metadata": {
    "collapsed": false
   },
   "outputs": [
    {
     "name": "stdout",
     "output_type": "stream",
     "text": [
      "8.79270223819% of user-item ratings are filled.\n"
     ]
    }
   ],
   "source": [
    "# Determine how many user-item pairs are filled\n",
    "\n",
    "n_users = len(ratings_red.user.unique())\n",
    "n_games = len(ratings_red.gameid.unique())\n",
    "sparsity = float(len(ratings_red))/(n_users*n_games)*100\n",
    "print str(sparsity)+'% of user-item ratings are filled.'"
   ]
  },
  {
   "cell_type": "code",
   "execution_count": 4,
   "metadata": {
    "collapsed": false
   },
   "outputs": [],
   "source": [
    "# Convert user names and game IDs to matrix indices\n",
    "\n",
    "userdict = {}\n",
    "for i, user in enumerate(ratings_red.user.unique()):\n",
    "    userdict[user] = i\n",
    "    \n",
    "gamedict = {}\n",
    "for i, game in enumerate(ratings_red.gameid.unique()):\n",
    "    gamedict[game] = i\n",
    "    \n",
    "ratings_red['user'] = ratings_red['user'].map(userdict.get)\n",
    "ratings_red['gameid'] = ratings_red['gameid'].map(gamedict.get)"
   ]
  },
  {
   "cell_type": "code",
   "execution_count": 5,
   "metadata": {
    "collapsed": false
   },
   "outputs": [],
   "source": [
    "# Split data in testing and training sets\n",
    "\n",
    "X = ratings_red[['gameid','user']]\n",
    "y = ratings_red['score']\n",
    "X_train, X_test, y_train, y_test = train_test_split(X, y, test_size=0.2, random_state=29, stratify=X['user'])"
   ]
  },
  {
   "cell_type": "code",
   "execution_count": 25,
   "metadata": {
    "collapsed": false
   },
   "outputs": [],
   "source": [
    "# Build a user-item score matrix from training data\n",
    "\n",
    "train = coo_matrix((y_train, (X_train['user'],X_train['gameid'])))\n",
    "train = train.todense()"
   ]
  },
  {
   "cell_type": "code",
   "execution_count": 26,
   "metadata": {
    "collapsed": true
   },
   "outputs": [],
   "source": [
    "def fillavg(ratings):\n",
    "    \"\"\"This function fills the empty items in a rating matrix with the item average score\"\"\"\n",
    "    rate = pd.DataFrame(ratings.copy())\n",
    "    rate[rate==0] = np.nan\n",
    "    rate = rate.fillna(rate.mean())\n",
    "    return rate.as_matrix()"
   ]
  },
  {
   "cell_type": "code",
   "execution_count": 27,
   "metadata": {
    "collapsed": false
   },
   "outputs": [],
   "source": [
    "# Determine a 'baseline' score predition where all missing scores are predicted by the item's average score\n",
    "\n",
    "pred_baseline = fillavg(train)"
   ]
  },
  {
   "cell_type": "code",
   "execution_count": 28,
   "metadata": {
    "collapsed": false
   },
   "outputs": [],
   "source": [
    "def rmse(X, y, prediction):\n",
    "    \"\"\"This function calculates mean squared-error of the prediction.\n",
    "    Inputs are a dataframe of indices, a dataframe of scores, and the matrix of predicted values\"\"\"\n",
    "    y_pred = []\n",
    "    for row in X.itertuples():\n",
    "        y_pred.append(prediction[row[2],row[1]])\n",
    "    return np.sqrt(mean_squared_error(y, y_pred))"
   ]
  },
  {
   "cell_type": "code",
   "execution_count": 29,
   "metadata": {
    "collapsed": false
   },
   "outputs": [
    {
     "name": "stdout",
     "output_type": "stream",
     "text": [
      "RMSE: 1.3723781512\n"
     ]
    }
   ],
   "source": [
    "# Calculate RMSE for baseline model\n",
    "\n",
    "print 'RMSE: ' + str(rmse(X_test,y_test,pred_baseline))"
   ]
  },
  {
   "cell_type": "code",
   "execution_count": 30,
   "metadata": {
    "collapsed": false
   },
   "outputs": [],
   "source": [
    "def uu_similarity(ratings):\n",
    "    ratings2 = ratings + 1e-10\n",
    "    similarity = ratings2.dot(ratings2.T)\n",
    "    norms = np.matrix(np.sqrt(similarity.diagonal()))\n",
    "    return similarity/norms/norms.T"
   ]
  },
  {
   "cell_type": "code",
   "execution_count": 31,
   "metadata": {
    "collapsed": false
   },
   "outputs": [],
   "source": [
    "def uu_predict(ratings, similarity):\n",
    "    similarity2 = similarity.copy()\n",
    "    np.fill_diagonal(similarity2, 0)\n",
    "    predictions = np.divide(similarity2.dot(ratings),np.abs(similarity2).dot(ratings!= 0))\n",
    "    return predictions"
   ]
  },
  {
   "cell_type": "code",
   "execution_count": 32,
   "metadata": {
    "collapsed": false
   },
   "outputs": [],
   "source": [
    "sim = uu_similarity(train)"
   ]
  },
  {
   "cell_type": "code",
   "execution_count": 14,
   "metadata": {
    "collapsed": false
   },
   "outputs": [],
   "source": [
    "pred = uu_predict(train, sim)"
   ]
  },
  {
   "cell_type": "code",
   "execution_count": 15,
   "metadata": {
    "collapsed": false
   },
   "outputs": [
    {
     "name": "stdout",
     "output_type": "stream",
     "text": [
      "RMSE: 1.36863782534\n"
     ]
    }
   ],
   "source": [
    "print 'RMSE: ' + str(rmse(X_test,y_test,pred))"
   ]
  },
  {
   "cell_type": "code",
   "execution_count": 16,
   "metadata": {
    "collapsed": false
   },
   "outputs": [],
   "source": [
    "def uu_predict_topk(ratings, similarity, k):\n",
    "    similarity2 = similarity.copy()\n",
    "    np.fill_diagonal(similarity2, 0)\n",
    "    nanfill = np.divide(similarity2.dot(ratings),np.abs(similarity2).dot(ratings!= 0))\n",
    "    filt = similarity2.argsort()[:,:len(similarity2)-k]\n",
    "    for index, row in enumerate(filt):\n",
    "        similarity2[index,row]=0\n",
    "    predictions = np.divide(similarity2.dot(ratings),np.abs(similarity2).dot(ratings != 0))\n",
    "    predictions = pd.DataFrame(predictions).fillna(pd.DataFrame(nanfill))\n",
    "    return predictions.as_matrix()"
   ]
  },
  {
   "cell_type": "code",
   "execution_count": 17,
   "metadata": {
    "collapsed": false
   },
   "outputs": [],
   "source": [
    "rmse_test = []\n",
    "ks = [10,25,50,100,250,500,1000,2000,3000]\n",
    "for k in ks:\n",
    "    pred_topk = uu_predict_topk(train, sim.copy(), k)\n",
    "    rmse_test.append(rmse(X_test,y_test,pred_topk))"
   ]
  },
  {
   "cell_type": "code",
   "execution_count": 19,
   "metadata": {
    "collapsed": false
   },
   "outputs": [
    {
     "data": {
      "image/png": "[encoded data removed]",
      "text/plain": [
       "<matplotlib.figure.Figure at 0xd891dd8>"
      ]
     },
     "metadata": {},
     "output_type": "display_data"
    }
   ],
   "source": [
    "plt.plot(ks, rmse_test)\n",
    "plt.ylim([0,2])\n",
    "plt.xlim([0,3000])\n",
    "plt.xlabel('k nearest similarity')\n",
    "plt.ylabel('RMSE')\n",
    "plt.show()"
   ]
  },
  {
   "cell_type": "code",
   "execution_count": 162,
   "metadata": {
    "collapsed": false
   },
   "outputs": [],
   "source": [
    "def unbias(ratings):\n",
    "    rate = pd.DataFrame(ratings.copy().T)\n",
    "    rate[rate == 0] = np.nan\n",
    "    means = rate.mean()\n",
    "    rate = (rate-means).fillna(0)\n",
    "    return rate.as_matrix().T, means"
   ]
  },
  {
   "cell_type": "code",
   "execution_count": 163,
   "metadata": {
    "collapsed": true
   },
   "outputs": [],
   "source": [
    "def rebias(ratings, means):\n",
    "    rate = pd.DataFrame(ratings.copy().T)\n",
    "    rate = rate+means\n",
    "    rate[rate > 10] = 10\n",
    "    rate[rate < 1] = 1\n",
    "    return rate.as_matrix().T"
   ]
  },
  {
   "cell_type": "code",
   "execution_count": 22,
   "metadata": {
    "collapsed": false
   },
   "outputs": [],
   "source": [
    "train_unbias, means = unbias(train)"
   ]
  },
  {
   "cell_type": "code",
   "execution_count": 23,
   "metadata": {
    "collapsed": false
   },
   "outputs": [],
   "source": [
    "sim_unbias = uu_similarity(train_unbias)"
   ]
  },
  {
   "cell_type": "code",
   "execution_count": 24,
   "metadata": {
    "collapsed": false
   },
   "outputs": [],
   "source": [
    "pred_unbias = uu_predict(train_unbias, sim_unbias)\n",
    "pred_unbias = rebias(pred_unbias, means)"
   ]
  },
  {
   "cell_type": "code",
   "execution_count": 25,
   "metadata": {
    "collapsed": false
   },
   "outputs": [
    {
     "data": {
      "text/plain": [
       "1.184754839754125"
      ]
     },
     "execution_count": 25,
     "metadata": {},
     "output_type": "execute_result"
    }
   ],
   "source": [
    "rmse(X_test,y_test,pred_unbias)"
   ]
  },
  {
   "cell_type": "code",
   "execution_count": 26,
   "metadata": {
    "collapsed": false
   },
   "outputs": [],
   "source": [
    "rmse_test_unbias = []\n",
    "ks = [10,25,50,100,250,500,1000,2000,3000]\n",
    "for k in ks:\n",
    "    pred_unbias_topk = uu_predict_topk(train_unbias, sim_unbias, k)\n",
    "    pred_unbias_topk = rebias(pred_unbias_topk, means)\n",
    "    rmse_test_unbias.append(rmse(X_test,y_test,pred_unbias_topk))"
   ]
  },
  {
   "cell_type": "code",
   "execution_count": 30,
   "metadata": {
    "collapsed": false
   },
   "outputs": [
    {
     "data": {
      "image/png": "[encoded data removed]",
      "text/plain": [
       "<matplotlib.figure.Figure at 0x37042ef0>"
      ]
     },
     "metadata": {},
     "output_type": "display_data"
    }
   ],
   "source": [
    "plt.plot(ks, rmse_test)\n",
    "plt.plot(ks, rmse_test_unbias)\n",
    "plt.ylim([0,2])\n",
    "plt.xlim([0,3000])\n",
    "plt.xlabel('k nearest similarity')\n",
    "plt.ylabel('RMSE')\n",
    "plt.legend(['bias not subtracted', 'bias subtracted'], loc = 4)\n",
    "plt.show()"
   ]
  },
  {
   "cell_type": "markdown",
   "metadata": {},
   "source": [
    "## Testing on my own account"
   ]
  },
  {
   "cell_type": "code",
   "execution_count": 126,
   "metadata": {
    "collapsed": false
   },
   "outputs": [],
   "source": [
    "my_ratings = pd.read_json('my_ratings.json')\n",
    "my_ratings2 = my_ratings.copy()\n",
    "my_ratings2['gameid'] = my_ratings2['gameid'].map(gamedict.get)"
   ]
  },
  {
   "cell_type": "code",
   "execution_count": 127,
   "metadata": {
    "collapsed": false
   },
   "outputs": [],
   "source": [
    "my_ratings_mat = coo_matrix((my_ratings2.score, (np.zeros_like(my_ratings2.gameid),my_ratings2.gameid)), shape = [1, n_games]).todense()"
   ]
  },
  {
   "cell_type": "code",
   "execution_count": 128,
   "metadata": {
    "collapsed": false
   },
   "outputs": [],
   "source": [
    "full_ratings = coo_matrix((y, (X['user'],X['gameid']))).todense()"
   ]
  },
  {
   "cell_type": "code",
   "execution_count": 166,
   "metadata": {
    "collapsed": false
   },
   "outputs": [],
   "source": [
    "my_ratings_unbias, my_mean = unbias(my_ratings_mat)\n",
    "full_ratings_unbias, full_means = unbias(full_ratings)"
   ]
  },
  {
   "cell_type": "code",
   "execution_count": 129,
   "metadata": {
    "collapsed": false
   },
   "outputs": [],
   "source": [
    "def su_similarity(u_ratings, ratings):\n",
    "    norms = np.sqrt(full_ratings.dot(full_ratings.T).diagonal())\n",
    "    denom = norms * np.linalg.norm(my_ratings)\n",
    "    return np.divide(u_ratings.dot(full_ratings.T), denom)"
   ]
  },
  {
   "cell_type": "code",
   "execution_count": 130,
   "metadata": {
    "collapsed": false
   },
   "outputs": [],
   "source": [
    "my_sim = su_similarity(my_ratings_unbias, full_ratings_unbias)"
   ]
  },
  {
   "cell_type": "code",
   "execution_count": 202,
   "metadata": {
    "collapsed": true
   },
   "outputs": [],
   "source": [
    "def su_predict_topk(ratings, similarity, k):\n",
    "    similarity2 = similarity.copy()\n",
    "    filt = similarity2.argsort()[:,:len(similarity2)-k]\n",
    "    for index, row in enumerate(filt):\n",
    "        similarity2[index,row]=0\n",
    "    predictions = np.divide(similarity2.dot(ratings),np.abs(similarity2).dot(ratings != 0))\n",
    "    return predictions"
   ]
  },
  {
   "cell_type": "code",
   "execution_count": 203,
   "metadata": {
    "collapsed": false
   },
   "outputs": [],
   "source": [
    "my_pred = su_predict_topk(full_ratings_unbias, my_sim, 1000)\n",
    "my_pred = rebias(my_pred, my_mean)\n",
    "my_pred = pd.DataFrame(my_pred).transpose()\n",
    "my_pred.columns = ['predicted_score']"
   ]
  },
  {
   "cell_type": "code",
   "execution_count": 154,
   "metadata": {
    "collapsed": true
   },
   "outputs": [],
   "source": [
    "game_df = pd.read_json('bgg_database.json')['name']\n",
    "game_df.index.name = 'gameid'\n",
    "game_df = game_df.reset_index()"
   ]
  },
  {
   "cell_type": "code",
   "execution_count": 205,
   "metadata": {
    "collapsed": false
   },
   "outputs": [],
   "source": [
    "recommendations = pd.DataFrame.from_dict(gamedict, orient = 'index').reset_index()\n",
    "recommendations.columns = ['gameid','index']\n",
    "recommendations = recommendations.set_index('index').sort_index()\n",
    "del recommendations.index.name\n",
    "recommendations = recommendations.join(my_pred)\n",
    "recommendations = recommendations.merge(game_df, how = 'left', left_on = 'gameid', right_on = 'gameid')"
   ]
  },
  {
   "cell_type": "code",
   "execution_count": 206,
   "metadata": {
    "collapsed": false
   },
   "outputs": [],
   "source": [
    "owned_filter = recommendations.gameid.isin(my_ratings.gameid)"
   ]
  },
  {
   "cell_type": "code",
   "execution_count": 222,
   "metadata": {
    "collapsed": false
   },
   "outputs": [
    {
     "data": {
      "text/html": [
       "<div>\n",
       "<table border=\"1\" class=\"dataframe\">\n",
       "  <thead>\n",
       "    <tr style=\"text-align: right;\">\n",
       "      <th></th>\n",
       "      <th>gameid</th>\n",
       "      <th>predicted_score</th>\n",
       "      <th>name</th>\n",
       "    </tr>\n",
       "  </thead>\n",
       "  <tbody>\n",
       "    <tr>\n",
       "      <th>5259</th>\n",
       "      <td>27266</td>\n",
       "      <td>10.000000</td>\n",
       "      <td>Silent Death: The Next Millennium Deluxe Edition</td>\n",
       "    </tr>\n",
       "    <tr>\n",
       "      <th>4975</th>\n",
       "      <td>248949</td>\n",
       "      <td>10.000000</td>\n",
       "      <td>Skull Tales: Full Sail!</td>\n",
       "    </tr>\n",
       "    <tr>\n",
       "      <th>101</th>\n",
       "      <td>68250</td>\n",
       "      <td>9.912898</td>\n",
       "      <td>Objective: Kiev</td>\n",
       "    </tr>\n",
       "    <tr>\n",
       "      <th>5730</th>\n",
       "      <td>3408</td>\n",
       "      <td>9.867956</td>\n",
       "      <td>This Accursed Civil War</td>\n",
       "    </tr>\n",
       "    <tr>\n",
       "      <th>6823</th>\n",
       "      <td>5985</td>\n",
       "      <td>9.687181</td>\n",
       "      <td>Miscellaneous Game Accessory</td>\n",
       "    </tr>\n",
       "    <tr>\n",
       "      <th>5944</th>\n",
       "      <td>37257</td>\n",
       "      <td>9.658741</td>\n",
       "      <td>The Uncharted Seas</td>\n",
       "    </tr>\n",
       "    <tr>\n",
       "      <th>3258</th>\n",
       "      <td>18746</td>\n",
       "      <td>9.617956</td>\n",
       "      <td>Gustav Adolf the Great: With God and Victoriou...</td>\n",
       "    </tr>\n",
       "    <tr>\n",
       "      <th>1190</th>\n",
       "      <td>1313</td>\n",
       "      <td>9.581778</td>\n",
       "      <td>1826: Railroading in France and Belgium from 1826</td>\n",
       "    </tr>\n",
       "    <tr>\n",
       "      <th>1327</th>\n",
       "      <td>1358</td>\n",
       "      <td>9.414547</td>\n",
       "      <td>Field Command</td>\n",
       "    </tr>\n",
       "    <tr>\n",
       "      <th>6042</th>\n",
       "      <td>38764</td>\n",
       "      <td>9.305827</td>\n",
       "      <td>Shuuro</td>\n",
       "    </tr>\n",
       "    <tr>\n",
       "      <th>6505</th>\n",
       "      <td>487</td>\n",
       "      <td>9.236946</td>\n",
       "      <td>Power</td>\n",
       "    </tr>\n",
       "    <tr>\n",
       "      <th>1020</th>\n",
       "      <td>127493</td>\n",
       "      <td>9.206153</td>\n",
       "      <td>Bolt Action</td>\n",
       "    </tr>\n",
       "    <tr>\n",
       "      <th>1092</th>\n",
       "      <td>129165</td>\n",
       "      <td>9.168266</td>\n",
       "      <td>Wings of Glory: WW1 Duel Pack</td>\n",
       "    </tr>\n",
       "    <tr>\n",
       "      <th>6791</th>\n",
       "      <td>5833</td>\n",
       "      <td>8.867956</td>\n",
       "      <td>The Great Battles of Julius Caesar: The Civil ...</td>\n",
       "    </tr>\n",
       "    <tr>\n",
       "      <th>3382</th>\n",
       "      <td>191612</td>\n",
       "      <td>8.787692</td>\n",
       "      <td>Skies Above the Reich</td>\n",
       "    </tr>\n",
       "    <tr>\n",
       "      <th>5010</th>\n",
       "      <td>251247</td>\n",
       "      <td>8.777894</td>\n",
       "      <td>Barrage</td>\n",
       "    </tr>\n",
       "    <tr>\n",
       "      <th>5118</th>\n",
       "      <td>256916</td>\n",
       "      <td>8.731886</td>\n",
       "      <td>Concordia Venus</td>\n",
       "    </tr>\n",
       "    <tr>\n",
       "      <th>3991</th>\n",
       "      <td>209418</td>\n",
       "      <td>8.706442</td>\n",
       "      <td>Dominion (Second Edition)</td>\n",
       "    </tr>\n",
       "    <tr>\n",
       "      <th>4750</th>\n",
       "      <td>23828</td>\n",
       "      <td>8.682064</td>\n",
       "      <td>Dixie: Gettysburg</td>\n",
       "    </tr>\n",
       "    <tr>\n",
       "      <th>1608</th>\n",
       "      <td>1447</td>\n",
       "      <td>8.666527</td>\n",
       "      <td>1841</td>\n",
       "    </tr>\n",
       "  </tbody>\n",
       "</table>\n",
       "</div>"
      ],
      "text/plain": [
       "      gameid  predicted_score  \\\n",
       "5259   27266        10.000000   \n",
       "4975  248949        10.000000   \n",
       "101    68250         9.912898   \n",
       "5730    3408         9.867956   \n",
       "6823    5985         9.687181   \n",
       "5944   37257         9.658741   \n",
       "3258   18746         9.617956   \n",
       "1190    1313         9.581778   \n",
       "1327    1358         9.414547   \n",
       "6042   38764         9.305827   \n",
       "6505     487         9.236946   \n",
       "1020  127493         9.206153   \n",
       "1092  129165         9.168266   \n",
       "6791    5833         8.867956   \n",
       "3382  191612         8.787692   \n",
       "5010  251247         8.777894   \n",
       "5118  256916         8.731886   \n",
       "3991  209418         8.706442   \n",
       "4750   23828         8.682064   \n",
       "1608    1447         8.666527   \n",
       "\n",
       "                                                   name  \n",
       "5259   Silent Death: The Next Millennium Deluxe Edition  \n",
       "4975                            Skull Tales: Full Sail!  \n",
       "101                                     Objective: Kiev  \n",
       "5730                            This Accursed Civil War  \n",
       "6823                       Miscellaneous Game Accessory  \n",
       "5944                                 The Uncharted Seas  \n",
       "3258  Gustav Adolf the Great: With God and Victoriou...  \n",
       "1190  1826: Railroading in France and Belgium from 1826  \n",
       "1327                                      Field Command  \n",
       "6042                                             Shuuro  \n",
       "6505                                              Power  \n",
       "1020                                        Bolt Action  \n",
       "1092                      Wings of Glory: WW1 Duel Pack  \n",
       "6791  The Great Battles of Julius Caesar: The Civil ...  \n",
       "3382                              Skies Above the Reich  \n",
       "5010                                            Barrage  \n",
       "5118                                    Concordia Venus  \n",
       "3991                          Dominion (Second Edition)  \n",
       "4750                                  Dixie: Gettysburg  \n",
       "1608                                               1841  "
      ]
     },
     "execution_count": 222,
     "metadata": {},
     "output_type": "execute_result"
    }
   ],
   "source": [
    "recommendations[~owned_filter].sort_values('predicted_score', ascending = False).head(20)"
   ]
  }
 ],
 "metadata": {
  "kernelspec": {
   "display_name": "Python 2",
   "language": "python",
   "name": "python2"
  },
  "language_info": {
   "codemirror_mode": {
    "name": "ipython",
    "version": 2
   },
   "file_extension": ".py",
   "mimetype": "text/x-python",
   "name": "python",
   "nbconvert_exporter": "python",
   "pygments_lexer": "ipython2",
   "version": "2.7.11"
  }
 },
 "nbformat": 4,
 "nbformat_minor": 0
}
