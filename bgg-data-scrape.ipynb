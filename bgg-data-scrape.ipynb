{
 "cells": [
  {
   "cell_type": "markdown",
   "metadata": {},
   "source": [
    "# Board Game Recommender - Data Scraping\n",
    "\n",
    "This notebook walks through the process of gathering board game ratings and other descriptive info off of BoardGameGeek.com (BGG)."
   ]
  },
  {
   "cell_type": "markdown",
   "metadata": {},
   "source": [
    "The first step is to import the necessary packages needed to gather and parse internet data and then to organize it into a interpretable format."
   ]
  },
  {
   "cell_type": "code",
   "execution_count": 1,
   "metadata": {},
   "outputs": [],
   "source": [
    "%matplotlib inline\n",
    "\n",
    "import requests\n",
    "from bs4 import BeautifulSoup\n",
    "import re\n",
    "import pandas as pd\n",
    "import time\n",
    "import matplotlib.pyplot as plt \n",
    "from IPython.display import display, clear_output"
   ]
  },
  {
   "cell_type": "markdown",
   "metadata": {
    "collapsed": true
   },
   "source": [
    "We will be doing several requests to BGG, so a function is defined below with functionality to address the server returning errors for too many requests and for server errors.  By default, the function waits 1 second after the request.  This wait time doubles each time the server consecutively returns an error."
   ]
  },
  {
   "cell_type": "code",
   "execution_count": 2,
   "metadata": {},
   "outputs": [],
   "source": [
    "def politerequest(url, delay=1):\n",
    "    \"\"\"This function tries to get a webpage.\n",
    "    If the request returns a status code 429 Too Many Requests, the program waits before the next attempt\"\"\"\n",
    "    \n",
    "    # make a request to the url and then wait\n",
    "    r = requests.get(url)\n",
    "    time.sleep(delay)\n",
    "    \n",
    "    # wait longer if server returns status 429 for too many requests or 5xx for server error\n",
    "    n = 0\n",
    "    while (r.status_code == 429) | (r.status_code >= 500):\n",
    "        waittime = 2**n\n",
    "        n+=1\n",
    "        display('Too many attempts. Waiting ' + str(waittime) + ' seconds.')\n",
    "        clear_output(wait=True)\n",
    "        time.sleep(waittime)\n",
    "        r = requests.get(game_url)\n",
    "    return r"
   ]
  },
  {
   "cell_type": "markdown",
   "metadata": {},
   "source": [
    "In order to gather game information, we will use the BGG XML API 2.  However, in order to request information from this API, we need to feed the API a \"thing\" ID--a unique number assigned to each entry in the BGG.  These IDs are scraped from the BGG webpage.  On [the \"browse\" page of BGG](https://boardgamegeek.com/browse/boardgame/page/), games are sorted by a rank determined by a proprietary formula that considers vote counts and average rating scores.  The IDs are parsed out of the URLs for each game for the top 5000 ranked games on the list.  In addition to ID numbers, game ranks and number of votes are also gathered.  These will be useful later on to minimize the number of requests to the API."
   ]
  },
  {
   "cell_type": "code",
   "execution_count": 3,
   "metadata": {},
   "outputs": [
    {
     "data": {
      "text/plain": [
       "'Done gathering 5077 game IDs, names, and rankings.'"
      ]
     },
     "metadata": {},
     "output_type": "display_data"
    }
   ],
   "source": [
    "# base url to find board game rankings and IDs\n",
    "base_url = 'https://boardgamegeek.com/browse/boardgame/page/'\n",
    "game_dict = {}\n",
    "\n",
    "# page to start on\n",
    "page = 1\n",
    "\n",
    "# set number of games to scrape info on, games will be chosen and ordered by popularity\n",
    "gamecount = 5000\n",
    "\n",
    "while len(game_dict) < gamecount:\n",
    "    \n",
    "    # make request and display current page on BGG; site loads 100 games per page\n",
    "    r = politerequest(base_url + str(page),0.25)\n",
    "    \n",
    "    # iterate page\n",
    "    page += 1\n",
    "    \n",
    "    # load page html and parse out game name, rank, ID number, and number of voter\n",
    "    soup = BeautifulSoup(r.content, 'lxml')\n",
    "    games = soup.find_all('div', id = re.compile('results_objectname.+?'))\n",
    "    ranks = soup.find_all('td', class_ = 'collection_rank')\n",
    "    nums_votersoup = soup.find_all('td', class_ = 'collection_bggrating')[2::3]\n",
    "    \n",
    "    # create dictionary from scraped information\n",
    "    for rank, game, num_votersoup in zip(ranks, games, nums_votersoup):\n",
    "        num_voters = int(num_votersoup.text)\n",
    "        try:\n",
    "            rank_num = rank.a.get('name')\n",
    "        except:\n",
    "            rank_num = None\n",
    "        if (rank_num is not None) & (num_voters >= 100):\n",
    "            game_id = re.search('boardgame/(.+?)/', str(game)).group(1)\n",
    "            game_name = game.a.get_text()\n",
    "            game_rank = rank_num\n",
    "            game_dict[game_id] = {'name': game_name, 'rank': game_rank, 'num_voters': num_voters}\n",
    "    \n",
    "    # update display progress\n",
    "    clear_output(wait=True)\n",
    "    display('Done gathering '+str(len(game_dict))+' of '+str(gamecount)+' game IDs, names, and rankings.')\n",
    "\n",
    "# update display when finished\n",
    "clear_output(wait=True)\n",
    "display('Done gathering '+str(len(game_dict))+' game IDs, names, and rankings.')"
   ]
  },
  {
   "cell_type": "markdown",
   "metadata": {},
   "source": [
    "Information for multiple games can be accessed from the API at once.  In order to do this, the list of game IDs are grouped together in \"chunks\" of 25.  Before grouping, the games are ordered by number of ratings.  The API only returns 100 ratings for each game at a time, so by grouping games together by similar number of ratings, we can reduce calls to the API."
   ]
  },
  {
   "cell_type": "code",
   "execution_count": 4,
   "metadata": {},
   "outputs": [],
   "source": [
    "def chunks(l, n):\n",
    "    '''Iterator function to group together game IDs to reduce API requests'''\n",
    "    # for item i in a range that is a length of l,\n",
    "    for i in range(0, len(l), n):\n",
    "        # create an index range for l of n items:\n",
    "        yield l[i:i+n]\n",
    "\n",
    "# number of game IDs to group\n",
    "chunksize = 25\n",
    "\n",
    "# sort IDs by number of votes to minimize number of requests to API\n",
    "rank_df = pd.DataFrame.from_dict(game_dict, orient = 'index')\n",
    "rank_df = rank_df.sort_values('num_voters', ascending = False)\n",
    "\n",
    "# call chunks to group IDs\n",
    "id_blocks = list(chunks(list(rank_df.index), chunksize))\n",
    "\n",
    "# join lists of IDs into strings for API requests\n",
    "id_block_str = []\n",
    "for id_block in id_blocks:\n",
    "    id_block_str.append(','.join(id_block))"
   ]
  },
  {
   "cell_type": "markdown",
   "metadata": {},
   "source": [
    "Once games are grouped, the total number of requests needed to gather all ratings can be calculated based on the distribution of vote counts per game."
   ]
  },
  {
   "cell_type": "code",
   "execution_count": 5,
   "metadata": {},
   "outputs": [
    {
     "data": {
      "image/png": "[encoded data removed]",
      "text/plain": [
       "<Figure size 432x288 with 1 Axes>"
      ]
     },
     "metadata": {
      "needs_background": "light"
     },
     "output_type": "display_data"
    },
    {
     "name": "stdout",
     "output_type": "stream",
     "text": [
      "Gathering data for these 5077 games will take about 5127 requests\n"
     ]
    }
   ],
   "source": [
    "# plot histogram of game vote counts\n",
    "rank_df.hist('num_voters',bins=100,log=True)\n",
    "plt.xlabel('Vote Count')\n",
    "plt.ylabel('Frequency')\n",
    "plt.title('Distribution of Vote Counts for Games')\n",
    "plt.show()\n",
    "\n",
    "# calculate how many API requests to get an idea of time\n",
    "vote_counts = list(rank_df.num_voters)[::chunksize]\n",
    "totalpages = 0\n",
    "for vote_count in vote_counts:\n",
    "    totalpages += vote_count//100+1\n",
    "print 'Gathering data for these '+str(len(game_dict))+' games will take about '+str(totalpages)+' requests'"
   ]
  },
  {
   "cell_type": "markdown",
   "metadata": {},
   "source": [
    "Finally, all of the information for each game can be requested from the API.  The bulk of the requests are for collecting all of the ratings, as the API only returns 100 ratings per page, and some games have over 80,000 ratings (*e.g.* collecting all of the ratings for the game Pandemic requires 845 requests)."
   ]
  },
  {
   "cell_type": "code",
   "execution_count": 6,
   "metadata": {},
   "outputs": [
    {
     "data": {
      "text/plain": [
       "'Done'"
      ]
     },
     "metadata": {},
     "output_type": "display_data"
    }
   ],
   "source": [
    "for index, id_block in enumerate(id_block_str,1):\n",
    "    # load first page and parse out actual number of comments to determine how many pages of information to request for this block of games\n",
    "    # 100 comments per page\n",
    "    game_url = 'https://boardgamegeek.com/xmlapi2/thing?id='+id_block+'&stats=1&ratingcomments=1&page=1'\n",
    "    r = politerequest(game_url, 1)\n",
    "    soup = BeautifulSoup(r.content, 'lxml-xml')\n",
    "    itemssoup = soup.findAll('item')\n",
    "    ncommentpages = int(soup.find('comments')['totalitems'])//100+1\n",
    "    \n",
    "    for page in range(1,ncommentpages+1):\n",
    "        # display progress\n",
    "        clear_output(wait=True)\n",
    "        display(str('Parsing page '+str(page)+' of '+str(ncommentpages)+' in block '+str(index)+' of '+str(len(id_block_str))))\n",
    "        \n",
    "        if page == 1:\n",
    "            # gather and store important game information on the first page\n",
    "            for itemsoup in itemssoup:\n",
    "                id = itemsoup['id']\n",
    "\n",
    "                attributes = {}\n",
    "                attributesoup = itemsoup.findAll('link')\n",
    "                for attribute in attributesoup:\n",
    "                    attributes[attribute['type']] = attribute['value']\n",
    "\n",
    "                ratings = {}\n",
    "                commentsoup = itemsoup.findAll('comment')\n",
    "                for comment in commentsoup:\n",
    "                    ratings[comment['username']] = comment['rating']\n",
    "\n",
    "                player_count = {}\n",
    "                countsoup = itemsoup.findAll('results', numplayers = re.compile(''))\n",
    "                for count in countsoup:\n",
    "                    resultsoup = count.findAll('result')\n",
    "                    vote_count = {}\n",
    "                    for result in resultsoup:\n",
    "                        vote_count[result['value']] = result['numvotes']\n",
    "                    player_count[count['numplayers']] = vote_count\n",
    "                \n",
    "                families = []\n",
    "                familysoup = itemsoup.findAll('rank')\n",
    "                for family in familysoup:\n",
    "                    if family['type'] == 'family':\n",
    "                        families.append(family['name'])\n",
    "                \n",
    "                average_rating = itemsoup.average['value']\n",
    "                weighted_rating = itemsoup.bayesaverage['value']\n",
    "                play_time = itemsoup.playingtime['value']\n",
    "                weight = itemsoup.averageweight['value']\n",
    "                description = itemsoup.description.text\n",
    "                year = itemsoup.yearpublished['value']\n",
    "                \n",
    "                game_dict[id].update({'average_rating':average_rating, 'weighted_rating':weighted_rating, 'description':description,\n",
    "                                    'attributes': attributes, 'player_count': player_count, 'families':families, 'play_time':play_time, 'year':year,\n",
    "                                    'weight':weight, 'ratings':ratings})\n",
    "\n",
    "        else:\n",
    "            # if there is more than 1 page, load them 1 at a time\n",
    "            game_url = 'https://boardgamegeek.com/xmlapi2/thing?id='+id_block+'&stats=1&ratingcomments=1&page='+str(page)\n",
    "            r = politerequest(game_url, 1)\n",
    "            soup = BeautifulSoup(r.content, 'lxml-xml')\n",
    "            itemssoup = soup.findAll('item')\n",
    "            \n",
    "            # gather and store game ratings from current page\n",
    "            for itemsoup in itemssoup:\n",
    "                id = itemsoup['id']\n",
    "                commentsoup = itemsoup.findAll('comment')\n",
    "                for comment in commentsoup:\n",
    "                    game_dict[id]['ratings'][comment['username']] = comment['rating']\n",
    "                    \n",
    "        current_time = str(time.ctime())\n",
    "        for itemsoup in itemssoup:\n",
    "                id = itemsoup['id']\n",
    "                game_dict[id]['last_updated'] = current_time\n",
    "        \n",
    "clear_output(wait=True)\n",
    "display('Done')"
   ]
  },
  {
   "cell_type": "markdown",
   "metadata": {},
   "source": [
    "Now that all of the data are gathered in a dictionary, this dictionary can be converted to a DataFrame and exported."
   ]
  },
  {
   "cell_type": "code",
   "execution_count": 7,
   "metadata": {},
   "outputs": [
    {
     "name": "stdout",
     "output_type": "stream",
     "text": [
      "<class 'pandas.core.frame.DataFrame'>\n",
      "Index: 5077 entries, 1 to 99975\n",
      "Data columns (total 14 columns):\n",
      "ratings            5077 non-null object\n",
      "last_updated       5077 non-null object\n",
      "player_count       5077 non-null object\n",
      "num_voters         5077 non-null int64\n",
      "name               5077 non-null object\n",
      "weight             5077 non-null object\n",
      "rank               5077 non-null object\n",
      "average_rating     5077 non-null object\n",
      "year               5077 non-null object\n",
      "families           5077 non-null object\n",
      "play_time          5077 non-null object\n",
      "attributes         5077 non-null object\n",
      "weighted_rating    5077 non-null object\n",
      "description        5077 non-null object\n",
      "dtypes: int64(1), object(13)\n",
      "memory usage: 595.0+ KB\n"
     ]
    }
   ],
   "source": [
    "game_df = pd.DataFrame.from_dict(game_dict, orient = 'index')\n",
    "game_df.info()"
   ]
  },
  {
   "cell_type": "code",
   "execution_count": 8,
   "metadata": {},
   "outputs": [
    {
     "data": {
      "text/html": [
       "<div>\n",
       "<style scoped>\n",
       "    .dataframe tbody tr th:only-of-type {\n",
       "        vertical-align: middle;\n",
       "    }\n",
       "\n",
       "    .dataframe tbody tr th {\n",
       "        vertical-align: top;\n",
       "    }\n",
       "\n",
       "    .dataframe thead th {\n",
       "        text-align: right;\n",
       "    }\n",
       "</style>\n",
       "<table border=\"1\" class=\"dataframe\">\n",
       "  <thead>\n",
       "    <tr style=\"text-align: right;\">\n",
       "      <th></th>\n",
       "      <th>ratings</th>\n",
       "      <th>last_updated</th>\n",
       "      <th>player_count</th>\n",
       "      <th>num_voters</th>\n",
       "      <th>name</th>\n",
       "      <th>weight</th>\n",
       "      <th>rank</th>\n",
       "      <th>average_rating</th>\n",
       "      <th>year</th>\n",
       "      <th>families</th>\n",
       "      <th>play_time</th>\n",
       "      <th>attributes</th>\n",
       "      <th>weighted_rating</th>\n",
       "      <th>description</th>\n",
       "    </tr>\n",
       "  </thead>\n",
       "  <tbody>\n",
       "    <tr>\n",
       "      <th>1</th>\n",
       "      <td>{u'aSoso': u'10', u'Annagul': u'7', u'the_ka':...</td>\n",
       "      <td>Tue Mar 19 03:05:58 2019</td>\n",
       "      <td>{u'1': {u'Recommended': u'1', u'Not Recommende...</td>\n",
       "      <td>4762</td>\n",
       "      <td>Die Macher</td>\n",
       "      <td>4.3443</td>\n",
       "      <td>218</td>\n",
       "      <td>7.63445</td>\n",
       "      <td>1986</td>\n",
       "      <td>[strategygames]</td>\n",
       "      <td>240</td>\n",
       "      <td>{u'boardgamedesigner': u'Karl-Heinz Schmiel', ...</td>\n",
       "      <td>7.19502</td>\n",
       "      <td>Die Macher is a game about seven sequential po...</td>\n",
       "    </tr>\n",
       "    <tr>\n",
       "      <th>10</th>\n",
       "      <td>{u'Igorken': u'6', u'druvey': u'4', u'Joverowa...</td>\n",
       "      <td>Tue Mar 19 02:27:37 2019</td>\n",
       "      <td>{u'6+': {u'Recommended': u'1', u'Not Recommend...</td>\n",
       "      <td>7353</td>\n",
       "      <td>Elfenland</td>\n",
       "      <td>2.1625</td>\n",
       "      <td>862</td>\n",
       "      <td>6.73148</td>\n",
       "      <td>1998</td>\n",
       "      <td>[familygames]</td>\n",
       "      <td>60</td>\n",
       "      <td>{u'boardgamedesigner': u'Alan R. Moon', u'boar...</td>\n",
       "      <td>6.53778</td>\n",
       "      <td>Elfenland is a redesign of the original White ...</td>\n",
       "    </tr>\n",
       "    <tr>\n",
       "      <th>100169</th>\n",
       "      <td>{u'dougadamsau': u'8', u'cayluster': u'8.5', u...</td>\n",
       "      <td>Tue Mar 19 05:07:46 2019</td>\n",
       "      <td>{u'1': {u'Recommended': u'1', u'Not Recommende...</td>\n",
       "      <td>148</td>\n",
       "      <td>Hero of Weehawken</td>\n",
       "      <td>2.1579</td>\n",
       "      <td>3991</td>\n",
       "      <td>7.58219</td>\n",
       "      <td>2011</td>\n",
       "      <td>[thematic]</td>\n",
       "      <td>45</td>\n",
       "      <td>{u'boardgamedesigner': u'Robert Leonhard', u'b...</td>\n",
       "      <td>5.72384</td>\n",
       "      <td>Historic Gaming #7&amp;#10;&amp;#10;Hero of Weehawken ...</td>\n",
       "    </tr>\n",
       "    <tr>\n",
       "      <th>1002</th>\n",
       "      <td>{u'dakarp': u'8', u'hurrlipurr': u'7', u'sanny...</td>\n",
       "      <td>Tue Mar 19 04:55:28 2019</td>\n",
       "      <td>{u'1': {u'Recommended': u'0', u'Not Recommende...</td>\n",
       "      <td>444</td>\n",
       "      <td>Cosmic Eidex</td>\n",
       "      <td>2.6786</td>\n",
       "      <td>2820</td>\n",
       "      <td>6.90013</td>\n",
       "      <td>1998</td>\n",
       "      <td>[strategygames]</td>\n",
       "      <td>60</td>\n",
       "      <td>{u'boardgamedesigner': u'Urs Hostettler', u'bo...</td>\n",
       "      <td>5.87115</td>\n",
       "      <td>Cosmic Eidex is an intriguing little trick-tak...</td>\n",
       "    </tr>\n",
       "    <tr>\n",
       "      <th>100423</th>\n",
       "      <td>{u'Igorken': u'7', u'sterry221': u'9', u'the_k...</td>\n",
       "      <td>Tue Mar 19 00:08:24 2019</td>\n",
       "      <td>{u'8+': {u'Recommended': u'1', u'Not Recommend...</td>\n",
       "      <td>19106</td>\n",
       "      <td>Elder Sign</td>\n",
       "      <td>2.3571</td>\n",
       "      <td>491</td>\n",
       "      <td>7.007</td>\n",
       "      <td>2011</td>\n",
       "      <td>[thematic]</td>\n",
       "      <td>90</td>\n",
       "      <td>{u'boardgamedesigner': u'Kevin Wilson', u'boar...</td>\n",
       "      <td>6.85712</td>\n",
       "      <td>Game description from the publisher:&amp;#10;&amp;#10;...</td>\n",
       "    </tr>\n",
       "  </tbody>\n",
       "</table>\n",
       "</div>"
      ],
      "text/plain": [
       "                                                  ratings  \\\n",
       "1       {u'aSoso': u'10', u'Annagul': u'7', u'the_ka':...   \n",
       "10      {u'Igorken': u'6', u'druvey': u'4', u'Joverowa...   \n",
       "100169  {u'dougadamsau': u'8', u'cayluster': u'8.5', u...   \n",
       "1002    {u'dakarp': u'8', u'hurrlipurr': u'7', u'sanny...   \n",
       "100423  {u'Igorken': u'7', u'sterry221': u'9', u'the_k...   \n",
       "\n",
       "                    last_updated  \\\n",
       "1       Tue Mar 19 03:05:58 2019   \n",
       "10      Tue Mar 19 02:27:37 2019   \n",
       "100169  Tue Mar 19 05:07:46 2019   \n",
       "1002    Tue Mar 19 04:55:28 2019   \n",
       "100423  Tue Mar 19 00:08:24 2019   \n",
       "\n",
       "                                             player_count  num_voters  \\\n",
       "1       {u'1': {u'Recommended': u'1', u'Not Recommende...        4762   \n",
       "10      {u'6+': {u'Recommended': u'1', u'Not Recommend...        7353   \n",
       "100169  {u'1': {u'Recommended': u'1', u'Not Recommende...         148   \n",
       "1002    {u'1': {u'Recommended': u'0', u'Not Recommende...         444   \n",
       "100423  {u'8+': {u'Recommended': u'1', u'Not Recommend...       19106   \n",
       "\n",
       "                     name  weight  rank average_rating  year         families  \\\n",
       "1              Die Macher  4.3443   218        7.63445  1986  [strategygames]   \n",
       "10              Elfenland  2.1625   862        6.73148  1998    [familygames]   \n",
       "100169  Hero of Weehawken  2.1579  3991        7.58219  2011       [thematic]   \n",
       "1002         Cosmic Eidex  2.6786  2820        6.90013  1998  [strategygames]   \n",
       "100423         Elder Sign  2.3571   491          7.007  2011       [thematic]   \n",
       "\n",
       "       play_time                                         attributes  \\\n",
       "1            240  {u'boardgamedesigner': u'Karl-Heinz Schmiel', ...   \n",
       "10            60  {u'boardgamedesigner': u'Alan R. Moon', u'boar...   \n",
       "100169        45  {u'boardgamedesigner': u'Robert Leonhard', u'b...   \n",
       "1002          60  {u'boardgamedesigner': u'Urs Hostettler', u'bo...   \n",
       "100423        90  {u'boardgamedesigner': u'Kevin Wilson', u'boar...   \n",
       "\n",
       "       weighted_rating                                        description  \n",
       "1              7.19502  Die Macher is a game about seven sequential po...  \n",
       "10             6.53778  Elfenland is a redesign of the original White ...  \n",
       "100169         5.72384  Historic Gaming #7&#10;&#10;Hero of Weehawken ...  \n",
       "1002           5.87115  Cosmic Eidex is an intriguing little trick-tak...  \n",
       "100423         6.85712  Game description from the publisher:&#10;&#10;...  "
      ]
     },
     "execution_count": 8,
     "metadata": {},
     "output_type": "execute_result"
    }
   ],
   "source": [
    "game_df.to_json('bgg_database.json')\n",
    "game_df.head()"
   ]
  }
 ],
 "metadata": {
  "celltoolbar": "Raw Cell Format",
  "kernelspec": {
   "display_name": "Python 2",
   "language": "python",
   "name": "python2"
  },
  "language_info": {
   "codemirror_mode": {
    "name": "ipython",
    "version": 2
   },
   "file_extension": ".py",
   "mimetype": "text/x-python",
   "name": "python",
   "nbconvert_exporter": "python",
   "pygments_lexer": "ipython2",
   "version": "2.7.15"
  }
 },
 "nbformat": 4,
 "nbformat_minor": 1
}
