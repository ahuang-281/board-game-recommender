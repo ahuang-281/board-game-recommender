{
 "cells": [
  {
   "cell_type": "markdown",
   "metadata": {},
   "source": [
    "# Board Game Recommender"
   ]
  },
  {
   "cell_type": "code",
   "execution_count": 1,
   "metadata": {
    "collapsed": false
   },
   "outputs": [],
   "source": [
    "# Import necessary packages\n",
    "import requests\n",
    "from bs4 import BeautifulSoup\n",
    "import re\n",
    "import pandas as pd\n",
    "import time\n",
    "import matplotlib.pyplot as plt \n",
    "from IPython.display import display, clear_output\n",
    "\n",
    "%matplotlib inline"
   ]
  },
  {
   "cell_type": "code",
   "execution_count": null,
   "metadata": {
    "collapsed": true
   },
   "outputs": [],
   "source": []
  },
  {
   "cell_type": "code",
   "execution_count": 2,
   "metadata": {
    "collapsed": false
   },
   "outputs": [],
   "source": [
    "def politerequest(url, delay=1):\n",
    "    \"\"\"This function tries to get a webpage.\n",
    "    If the request returns a status code 429 Too Many Requests, the program waits before the next attempt\"\"\"\n",
    "    \n",
    "    # make a request to the url and then wait\n",
    "    r = requests.get(url)\n",
    "    time.sleep(delay)\n",
    "    \n",
    "    # wait longer if server returns status 429 for too many requests or 5xx for server error\n",
    "    n = 0\n",
    "    while (r.status_code == 429) | (r.status_code >= 500):\n",
    "        waittime = 2**n\n",
    "        n+=1\n",
    "        display('Too many attempts. Waiting ' + str(waittime) + ' seconds.')\n",
    "        clear_output(wait=True)\n",
    "        time.sleep(waittime)\n",
    "        r = requests.get(game_url)\n",
    "    return r"
   ]
  },
  {
   "cell_type": "code",
   "execution_count": null,
   "metadata": {
    "collapsed": false
   },
   "outputs": [],
   "source": []
  },
  {
   "cell_type": "code",
   "execution_count": 10,
   "metadata": {
    "collapsed": false
   },
   "outputs": [
    {
     "data": {
      "text/plain": [
       "'Done gathering 7012 game IDs, names, and rankings.'"
      ]
     },
     "metadata": {},
     "output_type": "display_data"
    }
   ],
   "source": [
    "# base url to find board game rankings and IDs\n",
    "base_url = 'https://boardgamegeek.com/browse/boardgame/page/'\n",
    "game_dict = {}\n",
    "\n",
    "# page to start on\n",
    "page = 1\n",
    "\n",
    "# set number of games to scrape info on, games will be chosen and ordered by popularity\n",
    "gamecount = 7000\n",
    "\n",
    "while len(game_dict) < gamecount:\n",
    "    \n",
    "    # make request and display current page on BGG; site loads 100 games per page\n",
    "    r = politerequest(base_url + str(page),0.25)\n",
    "    \n",
    "    # iterate page\n",
    "    page += 1\n",
    "    \n",
    "    # load page html and parse out game name, rank, ID number, and number of voter\n",
    "    soup = BeautifulSoup(r.content, 'lxml')\n",
    "    games = soup.find_all('div', id = re.compile('results_objectname.+?'))\n",
    "    ranks = soup.find_all('td', class_ = 'collection_rank')\n",
    "    nums_votersoup = soup.find_all('td', class_ = 'collection_bggrating')[2::3]\n",
    "    \n",
    "    # create dictionary from scraped information\n",
    "    for rank, game, num_votersoup in zip(ranks, games, nums_votersoup):\n",
    "        num_voters = int(num_votersoup.text)\n",
    "        try:\n",
    "            rank_num = rank.a.get('name')\n",
    "        except:\n",
    "            rank_num = None\n",
    "        if (rank_num is not None) & (num_voters >= 100):\n",
    "            game_id = re.search('boardgame/(.+?)/', str(game)).group(1)\n",
    "            game_name = game.a.get_text()\n",
    "            game_rank = rank_num\n",
    "            game_dict[game_id] = {'name': game_name, 'rank': game_rank, 'num_voters': num_voters}\n",
    "    \n",
    "    # update display progress\n",
    "    clear_output(wait=True)\n",
    "    display('Done gathering '+str(len(game_dict))+' of '+str(gamecount)+' game IDs, names, and rankings.')\n",
    "\n",
    "# update display when finished\n",
    "clear_output(wait=True)\n",
    "display('Done gathering '+str(len(game_dict))+' game IDs, names, and rankings.')"
   ]
  },
  {
   "cell_type": "code",
   "execution_count": null,
   "metadata": {
    "collapsed": false
   },
   "outputs": [],
   "source": []
  },
  {
   "cell_type": "code",
   "execution_count": 11,
   "metadata": {
    "collapsed": false
   },
   "outputs": [],
   "source": [
    "def chunks(l, n):\n",
    "    '''Iterator function to group together game IDs to reduce API requests'''\n",
    "    # for item i in a range that is a length of l,\n",
    "    for i in range(0, len(l), n):\n",
    "        # create an index range for l of n items:\n",
    "        yield l[i:i+n]\n",
    "\n",
    "# number of game IDs to group\n",
    "chunksize = 25\n",
    "\n",
    "# sort IDs by number of votes to minimize number of requests to API\n",
    "rank_df = pd.DataFrame.from_dict(game_dict, orient = 'index')\n",
    "rank_df = rank_df.sort_values('num_voters', ascending = False)\n",
    "\n",
    "# call chunks to group IDs\n",
    "id_blocks = list(chunks(list(rank_df.index), chunksize))\n",
    "\n",
    "# join lists of IDs into strings for API requests\n",
    "id_block_str = []\n",
    "for id_block in id_blocks:\n",
    "    id_block_str.append(','.join(id_block))"
   ]
  },
  {
   "cell_type": "code",
   "execution_count": null,
   "metadata": {
    "collapsed": false
   },
   "outputs": [],
   "source": []
  },
  {
   "cell_type": "code",
   "execution_count": 12,
   "metadata": {
    "collapsed": false
   },
   "outputs": [
    {
     "data": {
      "image/png": "[encoded data removed]",
      "text/plain": [
       "<matplotlib.figure.Figure at 0xc591e80>"
      ]
     },
     "metadata": {},
     "output_type": "display_data"
    },
    {
     "name": "stdout",
     "output_type": "stream",
     "text": [
      "Gathering data for these 7012 games will take about 5276 requests\n"
     ]
    }
   ],
   "source": [
    "# plot histogram of game vote counts\n",
    "rank_df.hist('num_voters',bins=100,log=True)\n",
    "plt.xlabel('Vote Count')\n",
    "plt.ylabel('Frequency')\n",
    "plt.title('Distribution of Vote Counts for Games')\n",
    "plt.show()\n",
    "\n",
    "# calculate how many API requests to get an idea of time\n",
    "vote_counts = list(rank_df.num_voters)[::chunksize]\n",
    "totalpages = 0\n",
    "for vote_count in vote_counts:\n",
    "    totalpages += vote_count//100+1\n",
    "print 'Gathering data for these '+str(len(game_dict))+' games will take about '+str(totalpages)+' requests'"
   ]
  },
  {
   "cell_type": "code",
   "execution_count": null,
   "metadata": {
    "collapsed": false
   },
   "outputs": [],
   "source": []
  },
  {
   "cell_type": "code",
   "execution_count": 21,
   "metadata": {
    "collapsed": false
   },
   "outputs": [
    {
     "data": {
      "text/plain": [
       "'Done'"
      ]
     },
     "metadata": {},
     "output_type": "display_data"
    }
   ],
   "source": [
    "for index, id_block in enumerate(id_block_str,1):\n",
    "    # load first page and parse out actual number of comments to determine how many pages of information to request for this block of games\n",
    "    # 100 comments per page\n",
    "    game_url = 'https://boardgamegeek.com/xmlapi2/thing?id='+id_block+'&stats=1&ratingcomments=1&page=1'\n",
    "    r = politerequest(game_url, 1)\n",
    "    soup = BeautifulSoup(r.content, 'lxml-xml')\n",
    "    itemssoup = soup.findAll('item')\n",
    "    ncommentpages = int(soup.find('comments')['totalitems'])//100+1\n",
    "    \n",
    "    for page in range(1,ncommentpages+1):\n",
    "        # display progress\n",
    "        clear_output(wait=True)\n",
    "        display(str('Parsing page '+str(page)+' of '+str(ncommentpages)+' in block '+str(index)+' of '+str(len(id_block_str))))\n",
    "        \n",
    "        if page == 1:\n",
    "            # gather and store important game information on the first page\n",
    "            for itemsoup in itemssoup:\n",
    "                id = itemsoup['id']\n",
    "\n",
    "                attributes = {}\n",
    "                attributesoup = itemsoup.findAll('link')\n",
    "                for attribute in attributesoup:\n",
    "                    attributes[attribute['type']] = attribute['value']\n",
    "\n",
    "                ratings = {}\n",
    "                commentsoup = itemsoup.findAll('comment')\n",
    "                for comment in commentsoup:\n",
    "                    ratings[comment['username']] = comment['rating']\n",
    "\n",
    "                player_count = {}\n",
    "                countsoup = itemsoup.findAll('results', numplayers = re.compile(''))\n",
    "                for count in countsoup:\n",
    "                    resultsoup = count.findAll('result')\n",
    "                    vote_count = {}\n",
    "                    for result in resultsoup:\n",
    "                        vote_count[result['value']] = result['numvotes']\n",
    "                    player_count[count['numplayers']] = vote_count\n",
    "                \n",
    "                average_rating = itemsoup.average['value']\n",
    "                weighted_rating = itemsoup.bayesaverage['value']\n",
    "                play_time = itemsoup.playingtime['value']\n",
    "                weight = itemsoup.averageweight['value']\n",
    "                description = itemsoup.description.text\n",
    "                year = itemsoup.yearpublished['value']\n",
    "                \n",
    "                game_dict[id].update({'average_rating':average_rating, 'weighted_rating':weighted_rating, 'description':description,\n",
    "                                    'attributes': attributes, 'player_count': player_count, 'play_time':play_time, 'year':year,\n",
    "                                    'weight':weight, 'ratings':ratings})\n",
    "\n",
    "        else:\n",
    "            # if there is more than 1 page, load them 1 at a time\n",
    "            game_url = 'https://boardgamegeek.com/xmlapi2/thing?id='+id_block+'&stats=1&ratingcomments=1&page='+str(page)\n",
    "            r = politerequest(game_url, 1)\n",
    "            soup = BeautifulSoup(r.content, 'lxml-xml')\n",
    "            itemssoup = soup.findAll('item')\n",
    "            \n",
    "            # gather and store game ratings from current page\n",
    "            for itemsoup in itemssoup:\n",
    "                id = itemsoup['id']\n",
    "                commentsoup = itemsoup.findAll('comment')\n",
    "                for comment in commentsoup:\n",
    "                    game_dict[id]['ratings'][comment['username']] = comment['rating']\n",
    "                    \n",
    "        current_time = str(time.ctime())\n",
    "        for itemsoup in itemssoup:\n",
    "                id = itemsoup['id']\n",
    "                game_dict[id]['last_updated'] = current_time\n",
    "        \n",
    "clear_output(wait=True)\n",
    "display('Done')"
   ]
  },
  {
   "cell_type": "code",
   "execution_count": 22,
   "metadata": {
    "collapsed": false
   },
   "outputs": [
    {
     "name": "stdout",
     "output_type": "stream",
     "text": [
      "<class 'pandas.core.frame.DataFrame'>\n",
      "Index: 7012 entries, 1 to 99975\n",
      "Data columns (total 13 columns):\n",
      "ratings            7012 non-null object\n",
      "last_updated       7012 non-null object\n",
      "player_count       7012 non-null object\n",
      "num_voters         7012 non-null int64\n",
      "name               7012 non-null object\n",
      "weight             7012 non-null object\n",
      "rank               7012 non-null object\n",
      "average_rating     7012 non-null object\n",
      "year               7012 non-null object\n",
      "attributes         7012 non-null object\n",
      "play_time          7012 non-null object\n",
      "weighted_rating    7012 non-null object\n",
      "description        7012 non-null object\n",
      "dtypes: int64(1), object(12)\n",
      "memory usage: 766.9+ KB\n"
     ]
    }
   ],
   "source": [
    "game_df = pd.DataFrame.from_dict(game_dict, orient = 'index')\n",
    "game_df.info()"
   ]
  },
  {
   "cell_type": "code",
   "execution_count": null,
   "metadata": {
    "collapsed": true
   },
   "outputs": [],
   "source": []
  },
  {
   "cell_type": "code",
   "execution_count": 24,
   "metadata": {
    "collapsed": false
   },
   "outputs": [
    {
     "data": {
      "text/html": [
       "<div>\n",
       "<table border=\"1\" class=\"dataframe\">\n",
       "  <thead>\n",
       "    <tr style=\"text-align: right;\">\n",
       "      <th></th>\n",
       "      <th>ratings</th>\n",
       "      <th>last_updated</th>\n",
       "      <th>player_count</th>\n",
       "      <th>num_voters</th>\n",
       "      <th>name</th>\n",
       "      <th>weight</th>\n",
       "      <th>rank</th>\n",
       "      <th>average_rating</th>\n",
       "      <th>year</th>\n",
       "      <th>attributes</th>\n",
       "      <th>play_time</th>\n",
       "      <th>weighted_rating</th>\n",
       "      <th>description</th>\n",
       "    </tr>\n",
       "  </thead>\n",
       "  <tbody>\n",
       "    <tr>\n",
       "      <th>1</th>\n",
       "      <td>{u'aSoso': u'10', u'Annagul': u'7', u'the_ka':...</td>\n",
       "      <td>Tue Jan 29 22:56:21 2019</td>\n",
       "      <td>{u'1': {u'Recommended': u'1', u'Not Recommende...</td>\n",
       "      <td>4752</td>\n",
       "      <td>Die Macher</td>\n",
       "      <td>4.3434</td>\n",
       "      <td>208</td>\n",
       "      <td>7.64052</td>\n",
       "      <td>1986</td>\n",
       "      <td>{u'boardgamedesigner': u'Karl-Heinz Schmiel', ...</td>\n",
       "      <td>240</td>\n",
       "      <td>7.20468</td>\n",
       "      <td>Die Macher is a game about seven sequential po...</td>\n",
       "    </tr>\n",
       "    <tr>\n",
       "      <th>10</th>\n",
       "      <td>{u'Igorken': u'6', u'druvey': u'4', u'Joverowa...</td>\n",
       "      <td>Tue Jan 29 22:25:44 2019</td>\n",
       "      <td>{u'6+': {u'Recommended': u'1', u'Not Recommend...</td>\n",
       "      <td>7302</td>\n",
       "      <td>Elfenland</td>\n",
       "      <td>2.162</td>\n",
       "      <td>850</td>\n",
       "      <td>6.73401</td>\n",
       "      <td>1998</td>\n",
       "      <td>{u'boardgamedesigner': u'Alan R. Moon', u'boar...</td>\n",
       "      <td>60</td>\n",
       "      <td>6.54036</td>\n",
       "      <td>Elfenland is a redesign of the original White ...</td>\n",
       "    </tr>\n",
       "    <tr>\n",
       "      <th>100169</th>\n",
       "      <td>{u'dougadamsau': u'8', u'cayluster': u'8.5', u...</td>\n",
       "      <td>Wed Jan 30 00:49:00 2019</td>\n",
       "      <td>{u'1': {u'Recommended': u'1', u'Not Recommende...</td>\n",
       "      <td>146</td>\n",
       "      <td>Hero of Weehawken</td>\n",
       "      <td>2.1579</td>\n",
       "      <td>3965</td>\n",
       "      <td>7.57304</td>\n",
       "      <td>2011</td>\n",
       "      <td>{u'boardgamedesigner': u'Robert Leonhard', u'b...</td>\n",
       "      <td>45</td>\n",
       "      <td>5.72521</td>\n",
       "      <td>Historic Gaming #7&amp;#10;&amp;#10;Hero of Weehawken ...</td>\n",
       "    </tr>\n",
       "    <tr>\n",
       "      <th>100172</th>\n",
       "      <td>{u'skelebone': u'8', u'infinity13': u'7.5', u'...</td>\n",
       "      <td>Wed Jan 30 00:49:06 2019</td>\n",
       "      <td>{u'6+': {u'Recommended': u'0', u'Not Recommend...</td>\n",
       "      <td>144</td>\n",
       "      <td>Seven Sisters</td>\n",
       "      <td>2.4118</td>\n",
       "      <td>5653</td>\n",
       "      <td>6.81274</td>\n",
       "      <td>2012</td>\n",
       "      <td>{u'boardgamedesigner': u'Brad Champeny', u'boa...</td>\n",
       "      <td>60</td>\n",
       "      <td>5.62356</td>\n",
       "      <td>The King's birthday has arrived! Wealthy arist...</td>\n",
       "    </tr>\n",
       "    <tr>\n",
       "      <th>1002</th>\n",
       "      <td>{u'dakarp': u'8', u'hurrlipurr': u'7', u'sanny...</td>\n",
       "      <td>Wed Jan 30 00:33:14 2019</td>\n",
       "      <td>{u'1': {u'Recommended': u'0', u'Not Recommende...</td>\n",
       "      <td>442</td>\n",
       "      <td>Cosmic Eidex</td>\n",
       "      <td>2.6909</td>\n",
       "      <td>2783</td>\n",
       "      <td>6.90081</td>\n",
       "      <td>1998</td>\n",
       "      <td>{u'boardgamedesigner': u'Urs Hostettler', u'bo...</td>\n",
       "      <td>60</td>\n",
       "      <td>5.87718</td>\n",
       "      <td>Cosmic Eidex is an intriguing little trick-tak...</td>\n",
       "    </tr>\n",
       "  </tbody>\n",
       "</table>\n",
       "</div>"
      ],
      "text/plain": [
       "                                                  ratings  \\\n",
       "1       {u'aSoso': u'10', u'Annagul': u'7', u'the_ka':...   \n",
       "10      {u'Igorken': u'6', u'druvey': u'4', u'Joverowa...   \n",
       "100169  {u'dougadamsau': u'8', u'cayluster': u'8.5', u...   \n",
       "100172  {u'skelebone': u'8', u'infinity13': u'7.5', u'...   \n",
       "1002    {u'dakarp': u'8', u'hurrlipurr': u'7', u'sanny...   \n",
       "\n",
       "                    last_updated  \\\n",
       "1       Tue Jan 29 22:56:21 2019   \n",
       "10      Tue Jan 29 22:25:44 2019   \n",
       "100169  Wed Jan 30 00:49:00 2019   \n",
       "100172  Wed Jan 30 00:49:06 2019   \n",
       "1002    Wed Jan 30 00:33:14 2019   \n",
       "\n",
       "                                             player_count  num_voters  \\\n",
       "1       {u'1': {u'Recommended': u'1', u'Not Recommende...        4752   \n",
       "10      {u'6+': {u'Recommended': u'1', u'Not Recommend...        7302   \n",
       "100169  {u'1': {u'Recommended': u'1', u'Not Recommende...         146   \n",
       "100172  {u'6+': {u'Recommended': u'0', u'Not Recommend...         144   \n",
       "1002    {u'1': {u'Recommended': u'0', u'Not Recommende...         442   \n",
       "\n",
       "                     name  weight  rank average_rating  year  \\\n",
       "1              Die Macher  4.3434   208        7.64052  1986   \n",
       "10              Elfenland   2.162   850        6.73401  1998   \n",
       "100169  Hero of Weehawken  2.1579  3965        7.57304  2011   \n",
       "100172      Seven Sisters  2.4118  5653        6.81274  2012   \n",
       "1002         Cosmic Eidex  2.6909  2783        6.90081  1998   \n",
       "\n",
       "                                               attributes play_time  \\\n",
       "1       {u'boardgamedesigner': u'Karl-Heinz Schmiel', ...       240   \n",
       "10      {u'boardgamedesigner': u'Alan R. Moon', u'boar...        60   \n",
       "100169  {u'boardgamedesigner': u'Robert Leonhard', u'b...        45   \n",
       "100172  {u'boardgamedesigner': u'Brad Champeny', u'boa...        60   \n",
       "1002    {u'boardgamedesigner': u'Urs Hostettler', u'bo...        60   \n",
       "\n",
       "       weighted_rating                                        description  \n",
       "1              7.20468  Die Macher is a game about seven sequential po...  \n",
       "10             6.54036  Elfenland is a redesign of the original White ...  \n",
       "100169         5.72521  Historic Gaming #7&#10;&#10;Hero of Weehawken ...  \n",
       "100172         5.62356  The King's birthday has arrived! Wealthy arist...  \n",
       "1002           5.87718  Cosmic Eidex is an intriguing little trick-tak...  "
      ]
     },
     "execution_count": 24,
     "metadata": {},
     "output_type": "execute_result"
    }
   ],
   "source": [
    "game_df.to_json('bgg_database.json')\n",
    "game_df.head()"
   ]
  },
  {
   "cell_type": "code",
   "execution_count": null,
   "metadata": {
    "collapsed": false
   },
   "outputs": [],
   "source": []
  },
  {
   "cell_type": "code",
   "execution_count": null,
   "metadata": {
    "collapsed": false
   },
   "outputs": [],
   "source": []
  },
  {
   "cell_type": "code",
   "execution_count": null,
   "metadata": {
    "collapsed": false
   },
   "outputs": [],
   "source": []
  },
  {
   "cell_type": "code",
   "execution_count": null,
   "metadata": {
    "collapsed": true
   },
   "outputs": [],
   "source": []
  }
 ],
 "metadata": {
  "celltoolbar": "Raw Cell Format",
  "kernelspec": {
   "display_name": "Python 2",
   "language": "python",
   "name": "python2"
  },
  "language_info": {
   "codemirror_mode": {
    "name": "ipython",
    "version": 2
   },
   "file_extension": ".py",
   "mimetype": "text/x-python",
   "name": "python",
   "nbconvert_exporter": "python",
   "pygments_lexer": "ipython2",
   "version": "2.7.11"
  }
 },
 "nbformat": 4,
 "nbformat_minor": 0
}
