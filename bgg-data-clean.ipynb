{
 "cells": [
  {
   "cell_type": "markdown",
   "metadata": {},
   "source": [
    "# Board Game Recommender - Data Cleaning\n",
    "\n",
    "This notebook walks through the process of preparing the data gathered in bgg-data-scrape for use in the recommender system."
   ]
  },
  {
   "cell_type": "markdown",
   "metadata": {},
   "source": [
    "The first step is to import the necessary packages as well as the data"
   ]
  },
  {
   "cell_type": "code",
   "execution_count": 1,
   "metadata": {},
   "outputs": [],
   "source": [
    "%matplotlib inline\n",
    "\n",
    "import numpy as np\n",
    "import pandas as pd\n",
    "import matplotlib.pyplot as plt "
   ]
  },
  {
   "cell_type": "code",
   "execution_count": 2,
   "metadata": {},
   "outputs": [],
   "source": [
    "# Read the saved BGG database\n",
    "game_df = pd.read_json('bgg_database.json')"
   ]
  },
  {
   "cell_type": "code",
   "execution_count": 3,
   "metadata": {},
   "outputs": [
    {
     "data": {
      "text/html": [
       "<div>\n",
       "<style scoped>\n",
       "    .dataframe tbody tr th:only-of-type {\n",
       "        vertical-align: middle;\n",
       "    }\n",
       "\n",
       "    .dataframe tbody tr th {\n",
       "        vertical-align: top;\n",
       "    }\n",
       "\n",
       "    .dataframe thead th {\n",
       "        text-align: right;\n",
       "    }\n",
       "</style>\n",
       "<table border=\"1\" class=\"dataframe\">\n",
       "  <thead>\n",
       "    <tr style=\"text-align: right;\">\n",
       "      <th></th>\n",
       "      <th>gameid</th>\n",
       "      <th>attributes</th>\n",
       "      <th>average_rating</th>\n",
       "      <th>description</th>\n",
       "      <th>families</th>\n",
       "      <th>last_updated</th>\n",
       "      <th>name</th>\n",
       "      <th>num_voters</th>\n",
       "      <th>play_time</th>\n",
       "      <th>player_count</th>\n",
       "      <th>rank</th>\n",
       "      <th>ratings</th>\n",
       "      <th>weight</th>\n",
       "      <th>weighted_rating</th>\n",
       "      <th>year</th>\n",
       "    </tr>\n",
       "  </thead>\n",
       "  <tbody>\n",
       "    <tr>\n",
       "      <th>1691</th>\n",
       "      <td>174430</td>\n",
       "      <td>{u'boardgamedesigner': u'Isaac Childres', u'bo...</td>\n",
       "      <td>8.91228</td>\n",
       "      <td>Gloomhaven  is a game of Euro-inspired tactica...</td>\n",
       "      <td>[thematic, strategygames]</td>\n",
       "      <td>Mon Mar 18 23:34:48 2019</td>\n",
       "      <td>Gloomhaven</td>\n",
       "      <td>23504</td>\n",
       "      <td>120</td>\n",
       "      <td>{u'1': {u'Recommended': u'267', u'Not Recommen...</td>\n",
       "      <td>1</td>\n",
       "      <td>{u'pinbot': u'9', u'ladenedge': u'10', u'thesp...</td>\n",
       "      <td>3.7753</td>\n",
       "      <td>8.61315</td>\n",
       "      <td>2017</td>\n",
       "    </tr>\n",
       "    <tr>\n",
       "      <th>1344</th>\n",
       "      <td>161936</td>\n",
       "      <td>{u'boardgamedesigner': u'Matt Leacock', u'boar...</td>\n",
       "      <td>8.64675</td>\n",
       "      <td>Pandemic Legacy is a co-operative campaign gam...</td>\n",
       "      <td>[thematic, strategygames]</td>\n",
       "      <td>Mon Mar 18 22:47:26 2019</td>\n",
       "      <td>Pandemic Legacy: Season 1</td>\n",
       "      <td>30370</td>\n",
       "      <td>60</td>\n",
       "      <td>{u'1': {u'Recommended': u'63', u'Not Recommend...</td>\n",
       "      <td>2</td>\n",
       "      <td>{u'jocar84': u'9.5', u'horgboth': u'9', u'DerS...</td>\n",
       "      <td>2.8318</td>\n",
       "      <td>8.49226</td>\n",
       "      <td>2015</td>\n",
       "    </tr>\n",
       "    <tr>\n",
       "      <th>1903</th>\n",
       "      <td>182028</td>\n",
       "      <td>{u'boardgamedesigner': u'Vlaada Chvátil', u'bo...</td>\n",
       "      <td>8.54243</td>\n",
       "      <td>Through the Ages: A New Story of Civilization ...</td>\n",
       "      <td>[strategygames]</td>\n",
       "      <td>Tue Mar 19 00:58:33 2019</td>\n",
       "      <td>Through the Ages: A New Story of Civilization</td>\n",
       "      <td>15179</td>\n",
       "      <td>120</td>\n",
       "      <td>{u'1': {u'Recommended': u'5', u'Not Recommende...</td>\n",
       "      <td>3</td>\n",
       "      <td>{u'the_ka': u'8', u'jmwillis5': u'9.37', u'Doe...</td>\n",
       "      <td>4.3657</td>\n",
       "      <td>8.26341</td>\n",
       "      <td>2015</td>\n",
       "    </tr>\n",
       "    <tr>\n",
       "      <th>1489</th>\n",
       "      <td>167791</td>\n",
       "      <td>{u'boardgamedesigner': u'Jacob Fryxelius', u'b...</td>\n",
       "      <td>8.40232</td>\n",
       "      <td>In the 2400s, mankind begins to terraform the ...</td>\n",
       "      <td>[strategygames]</td>\n",
       "      <td>Mon Mar 18 21:30:17 2019</td>\n",
       "      <td>Terraforming Mars</td>\n",
       "      <td>36736</td>\n",
       "      <td>120</td>\n",
       "      <td>{u'1': {u'Recommended': u'434', u'Not Recommen...</td>\n",
       "      <td>4</td>\n",
       "      <td>{u'AkeTharus': u'10', u'jocar84': u'9', u'andi...</td>\n",
       "      <td>3.2313</td>\n",
       "      <td>8.23708</td>\n",
       "      <td>2016</td>\n",
       "    </tr>\n",
       "    <tr>\n",
       "      <th>377</th>\n",
       "      <td>12333</td>\n",
       "      <td>{u'boardgamedesigner': u'Jason Matthews', u'bo...</td>\n",
       "      <td>8.32508</td>\n",
       "      <td>&amp;quot;Now the trumpet summons us again, not as...</td>\n",
       "      <td>[wargames, strategygames]</td>\n",
       "      <td>Mon Mar 18 22:47:26 2019</td>\n",
       "      <td>Twilight Struggle</td>\n",
       "      <td>33857</td>\n",
       "      <td>180</td>\n",
       "      <td>{u'1': {u'Recommended': u'22', u'Not Recommend...</td>\n",
       "      <td>5</td>\n",
       "      <td>{u'wooda': u'8', u'andi1977': u'10', u'Elirirz...</td>\n",
       "      <td>3.5645</td>\n",
       "      <td>8.17631</td>\n",
       "      <td>2005</td>\n",
       "    </tr>\n",
       "  </tbody>\n",
       "</table>\n",
       "</div>"
      ],
      "text/plain": [
       "      gameid                                         attributes  \\\n",
       "1691  174430  {u'boardgamedesigner': u'Isaac Childres', u'bo...   \n",
       "1344  161936  {u'boardgamedesigner': u'Matt Leacock', u'boar...   \n",
       "1903  182028  {u'boardgamedesigner': u'Vlaada Chvátil', u'bo...   \n",
       "1489  167791  {u'boardgamedesigner': u'Jacob Fryxelius', u'b...   \n",
       "377    12333  {u'boardgamedesigner': u'Jason Matthews', u'bo...   \n",
       "\n",
       "      average_rating                                        description  \\\n",
       "1691         8.91228  Gloomhaven  is a game of Euro-inspired tactica...   \n",
       "1344         8.64675  Pandemic Legacy is a co-operative campaign gam...   \n",
       "1903         8.54243  Through the Ages: A New Story of Civilization ...   \n",
       "1489         8.40232  In the 2400s, mankind begins to terraform the ...   \n",
       "377          8.32508  &quot;Now the trumpet summons us again, not as...   \n",
       "\n",
       "                       families              last_updated  \\\n",
       "1691  [thematic, strategygames]  Mon Mar 18 23:34:48 2019   \n",
       "1344  [thematic, strategygames]  Mon Mar 18 22:47:26 2019   \n",
       "1903            [strategygames]  Tue Mar 19 00:58:33 2019   \n",
       "1489            [strategygames]  Mon Mar 18 21:30:17 2019   \n",
       "377   [wargames, strategygames]  Mon Mar 18 22:47:26 2019   \n",
       "\n",
       "                                               name  num_voters  play_time  \\\n",
       "1691                                     Gloomhaven       23504        120   \n",
       "1344                      Pandemic Legacy: Season 1       30370         60   \n",
       "1903  Through the Ages: A New Story of Civilization       15179        120   \n",
       "1489                              Terraforming Mars       36736        120   \n",
       "377                               Twilight Struggle       33857        180   \n",
       "\n",
       "                                           player_count  rank  \\\n",
       "1691  {u'1': {u'Recommended': u'267', u'Not Recommen...     1   \n",
       "1344  {u'1': {u'Recommended': u'63', u'Not Recommend...     2   \n",
       "1903  {u'1': {u'Recommended': u'5', u'Not Recommende...     3   \n",
       "1489  {u'1': {u'Recommended': u'434', u'Not Recommen...     4   \n",
       "377   {u'1': {u'Recommended': u'22', u'Not Recommend...     5   \n",
       "\n",
       "                                                ratings  weight  \\\n",
       "1691  {u'pinbot': u'9', u'ladenedge': u'10', u'thesp...  3.7753   \n",
       "1344  {u'jocar84': u'9.5', u'horgboth': u'9', u'DerS...  2.8318   \n",
       "1903  {u'the_ka': u'8', u'jmwillis5': u'9.37', u'Doe...  4.3657   \n",
       "1489  {u'AkeTharus': u'10', u'jocar84': u'9', u'andi...  3.2313   \n",
       "377   {u'wooda': u'8', u'andi1977': u'10', u'Elirirz...  3.5645   \n",
       "\n",
       "      weighted_rating  year  \n",
       "1691          8.61315  2017  \n",
       "1344          8.49226  2015  \n",
       "1903          8.26341  2015  \n",
       "1489          8.23708  2016  \n",
       "377           8.17631  2005  "
      ]
     },
     "execution_count": 3,
     "metadata": {},
     "output_type": "execute_result"
    }
   ],
   "source": [
    "game_df.index.name = 'gameid'\n",
    "game_df = game_df.reset_index().sort_values('rank')\n",
    "game_df.head()"
   ]
  },
  {
   "cell_type": "markdown",
   "metadata": {},
   "source": [
    "To make the data easy to save and handle, the dictionaries of ratings for each game are extracted from the \"ratings\" column of the data frame and organized into a long-format data frame."
   ]
  },
  {
   "cell_type": "code",
   "execution_count": 4,
   "metadata": {},
   "outputs": [],
   "source": [
    "# Create a dataframe of only the user, game ID, and score for each game\n",
    "ratings = []\n",
    "for i, row in game_df.iterrows():\n",
    "    for user, score in row.ratings.iteritems():\n",
    "        rating = (row['gameid'], user, float(score))\n",
    "        ratings.append(rating)\n",
    "ratings = pd.DataFrame(ratings, columns = ['gameid', 'user', 'score'])"
   ]
  },
  {
   "cell_type": "code",
   "execution_count": 5,
   "metadata": {},
   "outputs": [
    {
     "data": {
      "text/html": [
       "<div>\n",
       "<style scoped>\n",
       "    .dataframe tbody tr th:only-of-type {\n",
       "        vertical-align: middle;\n",
       "    }\n",
       "\n",
       "    .dataframe tbody tr th {\n",
       "        vertical-align: top;\n",
       "    }\n",
       "\n",
       "    .dataframe thead th {\n",
       "        text-align: right;\n",
       "    }\n",
       "</style>\n",
       "<table border=\"1\" class=\"dataframe\">\n",
       "  <thead>\n",
       "    <tr style=\"text-align: right;\">\n",
       "      <th></th>\n",
       "      <th>gameid</th>\n",
       "      <th>user</th>\n",
       "      <th>score</th>\n",
       "    </tr>\n",
       "  </thead>\n",
       "  <tbody>\n",
       "    <tr>\n",
       "      <th>0</th>\n",
       "      <td>174430</td>\n",
       "      <td>pinbot</td>\n",
       "      <td>9.0</td>\n",
       "    </tr>\n",
       "    <tr>\n",
       "      <th>1</th>\n",
       "      <td>174430</td>\n",
       "      <td>ladenedge</td>\n",
       "      <td>10.0</td>\n",
       "    </tr>\n",
       "    <tr>\n",
       "      <th>2</th>\n",
       "      <td>174430</td>\n",
       "      <td>thesponsduke</td>\n",
       "      <td>9.0</td>\n",
       "    </tr>\n",
       "    <tr>\n",
       "      <th>3</th>\n",
       "      <td>174430</td>\n",
       "      <td>capman2000</td>\n",
       "      <td>8.0</td>\n",
       "    </tr>\n",
       "    <tr>\n",
       "      <th>4</th>\n",
       "      <td>174430</td>\n",
       "      <td>Jedirikk</td>\n",
       "      <td>9.0</td>\n",
       "    </tr>\n",
       "  </tbody>\n",
       "</table>\n",
       "</div>"
      ],
      "text/plain": [
       "   gameid          user  score\n",
       "0  174430        pinbot    9.0\n",
       "1  174430     ladenedge   10.0\n",
       "2  174430  thesponsduke    9.0\n",
       "3  174430    capman2000    8.0\n",
       "4  174430      Jedirikk    9.0"
      ]
     },
     "execution_count": 5,
     "metadata": {},
     "output_type": "execute_result"
    }
   ],
   "source": [
    "ratings.head()"
   ]
  },
  {
   "cell_type": "code",
   "execution_count": 6,
   "metadata": {},
   "outputs": [
    {
     "data": {
      "text/plain": [
       "(11310912, 3)"
      ]
     },
     "execution_count": 6,
     "metadata": {},
     "output_type": "execute_result"
    }
   ],
   "source": [
    "ratings.shape"
   ]
  },
  {
   "cell_type": "markdown",
   "metadata": {},
   "source": [
    "There are over 11 million ratings contained in this data frame.  However, many users may have very few ratings (perhaps only 1 rating).  These users will not be useful for collaborative filtering, so those data points should be removed.  To sort those out, a histogram of the distribution of number of ratings each user has given will be useful.  The histogram plotted below shows that around 20000 users have rated fewer than 50 games."
   ]
  },
  {
   "cell_type": "code",
   "execution_count": 7,
   "metadata": {},
   "outputs": [
    {
     "name": "stdout",
     "output_type": "stream",
     "text": [
      "272553 users have rated at least 1 game.\n"
     ]
    },
    {
     "data": {
      "text/html": [
       "<div>\n",
       "<style scoped>\n",
       "    .dataframe tbody tr th:only-of-type {\n",
       "        vertical-align: middle;\n",
       "    }\n",
       "\n",
       "    .dataframe tbody tr th {\n",
       "        vertical-align: top;\n",
       "    }\n",
       "\n",
       "    .dataframe thead th {\n",
       "        text-align: right;\n",
       "    }\n",
       "</style>\n",
       "<table border=\"1\" class=\"dataframe\">\n",
       "  <thead>\n",
       "    <tr style=\"text-align: right;\">\n",
       "      <th></th>\n",
       "      <th>user</th>\n",
       "      <th>num_ratings</th>\n",
       "    </tr>\n",
       "  </thead>\n",
       "  <tbody>\n",
       "    <tr>\n",
       "      <th>205016</th>\n",
       "      <td>leffe dubbel</td>\n",
       "      <td>4585</td>\n",
       "    </tr>\n",
       "    <tr>\n",
       "      <th>31171</th>\n",
       "      <td>Doel</td>\n",
       "      <td>2662</td>\n",
       "    </tr>\n",
       "    <tr>\n",
       "      <th>126858</th>\n",
       "      <td>Walt Mulder</td>\n",
       "      <td>2510</td>\n",
       "    </tr>\n",
       "    <tr>\n",
       "      <th>120761</th>\n",
       "      <td>TomVasel</td>\n",
       "      <td>2457</td>\n",
       "    </tr>\n",
       "    <tr>\n",
       "      <th>50126</th>\n",
       "      <td>Hessu68</td>\n",
       "      <td>2366</td>\n",
       "    </tr>\n",
       "  </tbody>\n",
       "</table>\n",
       "</div>"
      ],
      "text/plain": [
       "                user  num_ratings\n",
       "205016  leffe dubbel         4585\n",
       "31171           Doel         2662\n",
       "126858   Walt Mulder         2510\n",
       "120761      TomVasel         2457\n",
       "50126        Hessu68         2366"
      ]
     },
     "execution_count": 7,
     "metadata": {},
     "output_type": "execute_result"
    }
   ],
   "source": [
    "# Find the distribution of number of ratings each user has given\n",
    "user_rating_counts = ratings.groupby('user').size().reset_index()\n",
    "user_rating_counts.columns = ['user', 'num_ratings']\n",
    "user_rating_counts = user_rating_counts.sort_values('num_ratings', ascending=False)\n",
    "print str(len(user_rating_counts)) + ' users have rated at least 1 game.'\n",
    "user_rating_counts.head()"
   ]
  },
  {
   "cell_type": "code",
   "execution_count": 20,
   "metadata": {},
   "outputs": [
    {
     "data": {
      "image/png": "[encoded data removed]",
      "text/plain": [
       "<Figure size 432x288 with 1 Axes>"
      ]
     },
     "metadata": {
      "needs_background": "light"
     },
     "output_type": "display_data"
    }
   ],
   "source": [
    "# Visualize above distribution\n",
    "user_rating_counts.hist(column = 'num_ratings', bins = range(0,2550,50))\n",
    "plt.title('Distribution of the number of games users have rated')\n",
    "plt.yscale('log')\n",
    "plt.ylabel('frequency')\n",
    "plt.xlabel('number of ratings')\n",
    "plt.xlim(0, 2500)\n",
    "plt.show()"
   ]
  },
  {
   "cell_type": "markdown",
   "metadata": {},
   "source": [
    "The same should be done for games.  However, even the least rated game in the database has 100 ratings.  This is because BoardGameGeek.com does not rank games until they have at least 100 ratings."
   ]
  },
  {
   "cell_type": "code",
   "execution_count": 9,
   "metadata": {},
   "outputs": [
    {
     "data": {
      "text/html": [
       "<div>\n",
       "<style scoped>\n",
       "    .dataframe tbody tr th:only-of-type {\n",
       "        vertical-align: middle;\n",
       "    }\n",
       "\n",
       "    .dataframe tbody tr th {\n",
       "        vertical-align: top;\n",
       "    }\n",
       "\n",
       "    .dataframe thead th {\n",
       "        text-align: right;\n",
       "    }\n",
       "</style>\n",
       "<table border=\"1\" class=\"dataframe\">\n",
       "  <thead>\n",
       "    <tr style=\"text-align: right;\">\n",
       "      <th></th>\n",
       "      <th>gameid</th>\n",
       "      <th>num_ratings</th>\n",
       "    </tr>\n",
       "  </thead>\n",
       "  <tbody>\n",
       "    <tr>\n",
       "      <th>10</th>\n",
       "      <td>13</td>\n",
       "      <td>83852</td>\n",
       "    </tr>\n",
       "    <tr>\n",
       "      <th>345</th>\n",
       "      <td>822</td>\n",
       "      <td>83545</td>\n",
       "    </tr>\n",
       "    <tr>\n",
       "      <th>1712</th>\n",
       "      <td>30549</td>\n",
       "      <td>81719</td>\n",
       "    </tr>\n",
       "    <tr>\n",
       "      <th>2297</th>\n",
       "      <td>68448</td>\n",
       "      <td>67758</td>\n",
       "    </tr>\n",
       "    <tr>\n",
       "      <th>1855</th>\n",
       "      <td>36218</td>\n",
       "      <td>67366</td>\n",
       "    </tr>\n",
       "  </tbody>\n",
       "</table>\n",
       "</div>"
      ],
      "text/plain": [
       "      gameid  num_ratings\n",
       "10        13        83852\n",
       "345      822        83545\n",
       "1712   30549        81719\n",
       "2297   68448        67758\n",
       "1855   36218        67366"
      ]
     },
     "execution_count": 9,
     "metadata": {},
     "output_type": "execute_result"
    }
   ],
   "source": [
    "item_rating_counts = ratings.groupby('gameid').size().reset_index()\n",
    "item_rating_counts.columns = ['gameid', 'num_ratings']\n",
    "item_rating_counts = item_rating_counts.sort_values('num_ratings', ascending=False)\n",
    "item_rating_counts.head()"
   ]
  },
  {
   "cell_type": "code",
   "execution_count": 10,
   "metadata": {},
   "outputs": [
    {
     "data": {
      "text/plain": [
       "100"
      ]
     },
     "execution_count": 10,
     "metadata": {},
     "output_type": "execute_result"
    }
   ],
   "source": [
    "item_rating_counts.num_ratings.min()"
   ]
  },
  {
   "cell_type": "code",
   "execution_count": 11,
   "metadata": {},
   "outputs": [
    {
     "data": {
      "image/png": "[encoded data removed]",
      "text/plain": [
       "<Figure size 432x288 with 1 Axes>"
      ]
     },
     "metadata": {
      "needs_background": "light"
     },
     "output_type": "display_data"
    }
   ],
   "source": [
    "item_rating_counts.hist(column = 'num_ratings', bins = range(0,85500,500))\n",
    "plt.title('Distribution of the number of ratings each game has')\n",
    "plt.yscale('log')\n",
    "plt.ylabel('frequency')\n",
    "plt.xlabel('number of ratings')\n",
    "plt.xlim(0, 85000)\n",
    "plt.show()"
   ]
  },
  {
   "cell_type": "markdown",
   "metadata": {},
   "source": [
    "Now the data can be trimmed.  The function trim_mins_to is defined to trim data to specified minimum values.  Because removing data based on user count affects item count (and *vice versa*), the removals are performed iteratively, alternating between the 2 criteria, until no more removals are performed."
   ]
  },
  {
   "cell_type": "code",
   "execution_count": 12,
   "metadata": {},
   "outputs": [],
   "source": [
    "def trim_mins_to(ratings, user_min=0, item_min=0):\n",
    "    \"\"\"This function removes data points from the rating matrix corresponding\n",
    "    to users and items with fewer than a defined number of ratings.\"\"\"\n",
    "    min_check = False\n",
    "    \n",
    "    while min_check == False:\n",
    "        # make table of user rating counts\n",
    "        user_rating_counts = ratings.groupby('user').size().reset_index()\n",
    "        user_rating_counts.columns = ['user', 'num_ratings']\n",
    "        \n",
    "        # trim users with fewer ratings than user_min\n",
    "        high_n_users = user_rating_counts[user_rating_counts.num_ratings >= user_min]\n",
    "        ratings = ratings[ratings['user'].isin(high_n_users['user'])]\n",
    "        \n",
    "        # make table of item rating counts\n",
    "        item_rating_counts = ratings.groupby('gameid').size().reset_index()\n",
    "        item_rating_counts.columns = ['gameid', 'num_ratings']\n",
    "        \n",
    "        # check if items need to be trimmed after trimming users\n",
    "        if item_rating_counts.num_ratings.min() >= item_min:\n",
    "            min_check = True\n",
    "        else:\n",
    "            # trim items with fewer ratings than item_min\n",
    "            high_n_items = item_rating_counts[item_rating_counts.num_ratings >= item_min]\n",
    "            ratings = ratings[ratings['gameid'].isin(high_n_items['gameid'])]\n",
    "            \n",
    "    return ratings"
   ]
  },
  {
   "cell_type": "markdown",
   "metadata": {},
   "source": [
    "Now the data are trimmed until there are at least 50 ratings for each game, and each user has rated at least 50 games.  This number is defined somewhat arbitrarily."
   ]
  },
  {
   "cell_type": "code",
   "execution_count": 13,
   "metadata": {},
   "outputs": [],
   "source": [
    "# trim users and items with under 50 ratings\n",
    "ratings = trim_mins_to(ratings, 50, 50)"
   ]
  },
  {
   "cell_type": "code",
   "execution_count": 14,
   "metadata": {},
   "outputs": [
    {
     "name": "stdout",
     "output_type": "stream",
     "text": [
      "59032 users\n",
      "5076 games\n"
     ]
    }
   ],
   "source": [
    "# show how many users and games remain after trimming\n",
    "n_users = len(ratings.user.unique())\n",
    "n_games = len(ratings.gameid.unique())\n",
    "print str(n_users) + ' users'\n",
    "print str(n_games) + ' games'"
   ]
  },
  {
   "cell_type": "code",
   "execution_count": 16,
   "metadata": {},
   "outputs": [],
   "source": [
    "# save trimmed ratings\n",
    "ratings.to_json('ratings_reduced.json')"
   ]
  },
  {
   "cell_type": "markdown",
   "metadata": {},
   "source": [
    "The first method for collaborative filtering (see collaborative-filtering-memory notebook) will be using user similarity based on cosine similarity.  The computational cost of this method scales as the square of the number of users, so the number of users should be trimmed down further for testing this model"
   ]
  },
  {
   "cell_type": "code",
   "execution_count": 17,
   "metadata": {},
   "outputs": [],
   "source": [
    "# trim users with under 300 ratings and items with under 50 ratings\n",
    "ratings = trim_mins_to(ratings, 300, 50)"
   ]
  },
  {
   "cell_type": "code",
   "execution_count": 18,
   "metadata": {},
   "outputs": [
    {
     "name": "stdout",
     "output_type": "stream",
     "text": [
      "5585 users\n",
      "4535 games\n"
     ]
    }
   ],
   "source": [
    "# show how many users and games remain after trimming\n",
    "n_users = len(ratings.user.unique())\n",
    "n_games = len(ratings.gameid.unique())\n",
    "print str(n_users) + ' users'\n",
    "print str(n_games) + ' games'"
   ]
  },
  {
   "cell_type": "code",
   "execution_count": 19,
   "metadata": {},
   "outputs": [],
   "source": [
    "# save trimmed ratings\n",
    "ratings.to_json('ratings_vreduced.json')"
   ]
  },
  {
   "cell_type": "code",
   "execution_count": null,
   "metadata": {},
   "outputs": [],
   "source": []
  }
 ],
 "metadata": {
  "kernelspec": {
   "display_name": "Python 2",
   "language": "python",
   "name": "python2"
  },
  "language_info": {
   "codemirror_mode": {
    "name": "ipython",
    "version": 2
   },
   "file_extension": ".py",
   "mimetype": "text/x-python",
   "name": "python",
   "nbconvert_exporter": "python",
   "pygments_lexer": "ipython2",
   "version": "2.7.15"
  }
 },
 "nbformat": 4,
 "nbformat_minor": 1
}
