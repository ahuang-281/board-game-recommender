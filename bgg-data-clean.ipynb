{
 "cells": [
  {
   "cell_type": "code",
   "execution_count": 2,
   "metadata": {
    "collapsed": true
   },
   "outputs": [],
   "source": [
    "import numpy as np\n",
    "import pandas as pd\n",
    "import matplotlib.pyplot as plt \n",
    "\n",
    "%matplotlib inline"
   ]
  },
  {
   "cell_type": "code",
   "execution_count": 2,
   "metadata": {
    "collapsed": false
   },
   "outputs": [],
   "source": [
    "# Read the saved BGG database\n",
    "game_df = pd.read_json('bgg_database.json')"
   ]
  },
  {
   "cell_type": "code",
   "execution_count": 3,
   "metadata": {
    "collapsed": false
   },
   "outputs": [
    {
     "data": {
      "text/html": [
       "<div>\n",
       "<table border=\"1\" class=\"dataframe\">\n",
       "  <thead>\n",
       "    <tr style=\"text-align: right;\">\n",
       "      <th></th>\n",
       "      <th>attributes</th>\n",
       "      <th>average_rating</th>\n",
       "      <th>description</th>\n",
       "      <th>last_updated</th>\n",
       "      <th>name</th>\n",
       "      <th>num_voters</th>\n",
       "      <th>play_time</th>\n",
       "      <th>player_count</th>\n",
       "      <th>rank</th>\n",
       "      <th>ratings</th>\n",
       "      <th>weight</th>\n",
       "      <th>weighted_rating</th>\n",
       "      <th>year</th>\n",
       "    </tr>\n",
       "  </thead>\n",
       "  <tbody>\n",
       "    <tr>\n",
       "      <th>1</th>\n",
       "      <td>{u'boardgamedesigner': u'Karl-Heinz Schmiel', ...</td>\n",
       "      <td>7.64052</td>\n",
       "      <td>Die Macher is a game about seven sequential po...</td>\n",
       "      <td>Tue Jan 29 22:56:21 2019</td>\n",
       "      <td>Die Macher</td>\n",
       "      <td>4752</td>\n",
       "      <td>240</td>\n",
       "      <td>{u'1': {u'Recommended': u'1', u'Not Recommende...</td>\n",
       "      <td>208</td>\n",
       "      <td>{u'aSoso': u'10', u'Annagul': u'7', u'the_ka':...</td>\n",
       "      <td>4.3434</td>\n",
       "      <td>7.20468</td>\n",
       "      <td>1986</td>\n",
       "    </tr>\n",
       "    <tr>\n",
       "      <th>10</th>\n",
       "      <td>{u'boardgamedesigner': u'Alan R. Moon', u'boar...</td>\n",
       "      <td>6.73401</td>\n",
       "      <td>Elfenland is a redesign of the original White ...</td>\n",
       "      <td>Tue Jan 29 22:25:44 2019</td>\n",
       "      <td>Elfenland</td>\n",
       "      <td>7302</td>\n",
       "      <td>60</td>\n",
       "      <td>{u'6+': {u'Recommended': u'1', u'Not Recommend...</td>\n",
       "      <td>850</td>\n",
       "      <td>{u'Igorken': u'6', u'druvey': u'4', u'Joverowa...</td>\n",
       "      <td>2.1620</td>\n",
       "      <td>6.54036</td>\n",
       "      <td>1998</td>\n",
       "    </tr>\n",
       "    <tr>\n",
       "      <th>100169</th>\n",
       "      <td>{u'boardgamedesigner': u'Robert Leonhard', u'b...</td>\n",
       "      <td>7.57304</td>\n",
       "      <td>Historic Gaming #7&amp;#10;&amp;#10;Hero of Weehawken ...</td>\n",
       "      <td>Wed Jan 30 00:49:00 2019</td>\n",
       "      <td>Hero of Weehawken</td>\n",
       "      <td>146</td>\n",
       "      <td>45</td>\n",
       "      <td>{u'1': {u'Recommended': u'1', u'Not Recommende...</td>\n",
       "      <td>3965</td>\n",
       "      <td>{u'userid122002': u'7', u'dougadamsau': u'8', ...</td>\n",
       "      <td>2.1579</td>\n",
       "      <td>5.72521</td>\n",
       "      <td>2011</td>\n",
       "    </tr>\n",
       "    <tr>\n",
       "      <th>100172</th>\n",
       "      <td>{u'boardgamedesigner': u'Brad Champeny', u'boa...</td>\n",
       "      <td>6.81274</td>\n",
       "      <td>The King's birthday has arrived! Wealthy arist...</td>\n",
       "      <td>Wed Jan 30 00:49:06 2019</td>\n",
       "      <td>Seven Sisters</td>\n",
       "      <td>144</td>\n",
       "      <td>60</td>\n",
       "      <td>{u'6+': {u'Recommended': u'0', u'Not Recommend...</td>\n",
       "      <td>5653</td>\n",
       "      <td>{u'skelebone': u'8', u'infinity13': u'7.5', u'...</td>\n",
       "      <td>2.4118</td>\n",
       "      <td>5.62356</td>\n",
       "      <td>2012</td>\n",
       "    </tr>\n",
       "    <tr>\n",
       "      <th>1002</th>\n",
       "      <td>{u'boardgamedesigner': u'Urs Hostettler', u'bo...</td>\n",
       "      <td>6.90081</td>\n",
       "      <td>Cosmic Eidex is an intriguing little trick-tak...</td>\n",
       "      <td>Wed Jan 30 00:33:14 2019</td>\n",
       "      <td>Cosmic Eidex</td>\n",
       "      <td>442</td>\n",
       "      <td>60</td>\n",
       "      <td>{u'1': {u'Recommended': u'0', u'Not Recommende...</td>\n",
       "      <td>2783</td>\n",
       "      <td>{u'dakarp': u'8', u'hurrlipurr': u'7', u'sanny...</td>\n",
       "      <td>2.6909</td>\n",
       "      <td>5.87718</td>\n",
       "      <td>1998</td>\n",
       "    </tr>\n",
       "  </tbody>\n",
       "</table>\n",
       "</div>"
      ],
      "text/plain": [
       "                                               attributes  average_rating  \\\n",
       "1       {u'boardgamedesigner': u'Karl-Heinz Schmiel', ...         7.64052   \n",
       "10      {u'boardgamedesigner': u'Alan R. Moon', u'boar...         6.73401   \n",
       "100169  {u'boardgamedesigner': u'Robert Leonhard', u'b...         7.57304   \n",
       "100172  {u'boardgamedesigner': u'Brad Champeny', u'boa...         6.81274   \n",
       "1002    {u'boardgamedesigner': u'Urs Hostettler', u'bo...         6.90081   \n",
       "\n",
       "                                              description  \\\n",
       "1       Die Macher is a game about seven sequential po...   \n",
       "10      Elfenland is a redesign of the original White ...   \n",
       "100169  Historic Gaming #7&#10;&#10;Hero of Weehawken ...   \n",
       "100172  The King's birthday has arrived! Wealthy arist...   \n",
       "1002    Cosmic Eidex is an intriguing little trick-tak...   \n",
       "\n",
       "                    last_updated               name  num_voters  play_time  \\\n",
       "1       Tue Jan 29 22:56:21 2019         Die Macher        4752        240   \n",
       "10      Tue Jan 29 22:25:44 2019          Elfenland        7302         60   \n",
       "100169  Wed Jan 30 00:49:00 2019  Hero of Weehawken         146         45   \n",
       "100172  Wed Jan 30 00:49:06 2019      Seven Sisters         144         60   \n",
       "1002    Wed Jan 30 00:33:14 2019       Cosmic Eidex         442         60   \n",
       "\n",
       "                                             player_count  rank  \\\n",
       "1       {u'1': {u'Recommended': u'1', u'Not Recommende...   208   \n",
       "10      {u'6+': {u'Recommended': u'1', u'Not Recommend...   850   \n",
       "100169  {u'1': {u'Recommended': u'1', u'Not Recommende...  3965   \n",
       "100172  {u'6+': {u'Recommended': u'0', u'Not Recommend...  5653   \n",
       "1002    {u'1': {u'Recommended': u'0', u'Not Recommende...  2783   \n",
       "\n",
       "                                                  ratings  weight  \\\n",
       "1       {u'aSoso': u'10', u'Annagul': u'7', u'the_ka':...  4.3434   \n",
       "10      {u'Igorken': u'6', u'druvey': u'4', u'Joverowa...  2.1620   \n",
       "100169  {u'userid122002': u'7', u'dougadamsau': u'8', ...  2.1579   \n",
       "100172  {u'skelebone': u'8', u'infinity13': u'7.5', u'...  2.4118   \n",
       "1002    {u'dakarp': u'8', u'hurrlipurr': u'7', u'sanny...  2.6909   \n",
       "\n",
       "        weighted_rating  year  \n",
       "1               7.20468  1986  \n",
       "10              6.54036  1998  \n",
       "100169          5.72521  2011  \n",
       "100172          5.62356  2012  \n",
       "1002            5.87718  1998  "
      ]
     },
     "execution_count": 3,
     "metadata": {},
     "output_type": "execute_result"
    }
   ],
   "source": [
    "game_df.head()"
   ]
  },
  {
   "cell_type": "code",
   "execution_count": 9,
   "metadata": {
    "collapsed": false
   },
   "outputs": [],
   "source": [
    "# Create a dataframe of only the user, game, and score for each game\n",
    "ratings = []\n",
    "for i, row in game_df.iterrows():\n",
    "    for user, score in row.ratings.iteritems():\n",
    "        rating = (row['name'], user, float(score))\n",
    "        ratings.append(rating)\n",
    "ratings = pd.DataFrame(ratings, columns = ['name', 'user', 'score'])"
   ]
  },
  {
   "cell_type": "code",
   "execution_count": 10,
   "metadata": {
    "collapsed": false
   },
   "outputs": [
    {
     "data": {
      "text/html": [
       "<div>\n",
       "<table border=\"1\" class=\"dataframe\">\n",
       "  <thead>\n",
       "    <tr style=\"text-align: right;\">\n",
       "      <th></th>\n",
       "      <th>name</th>\n",
       "      <th>user</th>\n",
       "      <th>score</th>\n",
       "    </tr>\n",
       "  </thead>\n",
       "  <tbody>\n",
       "    <tr>\n",
       "      <th>0</th>\n",
       "      <td>Die Macher</td>\n",
       "      <td>aSoso</td>\n",
       "      <td>10</td>\n",
       "    </tr>\n",
       "    <tr>\n",
       "      <th>1</th>\n",
       "      <td>Die Macher</td>\n",
       "      <td>Annagul</td>\n",
       "      <td>7</td>\n",
       "    </tr>\n",
       "    <tr>\n",
       "      <th>2</th>\n",
       "      <td>Die Macher</td>\n",
       "      <td>the_ka</td>\n",
       "      <td>9</td>\n",
       "    </tr>\n",
       "    <tr>\n",
       "      <th>3</th>\n",
       "      <td>Die Macher</td>\n",
       "      <td>treece keenes</td>\n",
       "      <td>1</td>\n",
       "    </tr>\n",
       "    <tr>\n",
       "      <th>4</th>\n",
       "      <td>Die Macher</td>\n",
       "      <td>dakarp</td>\n",
       "      <td>7</td>\n",
       "    </tr>\n",
       "  </tbody>\n",
       "</table>\n",
       "</div>"
      ],
      "text/plain": [
       "         name           user  score\n",
       "0  Die Macher          aSoso     10\n",
       "1  Die Macher        Annagul      7\n",
       "2  Die Macher         the_ka      9\n",
       "3  Die Macher  treece keenes      1\n",
       "4  Die Macher         dakarp      7"
      ]
     },
     "execution_count": 10,
     "metadata": {},
     "output_type": "execute_result"
    }
   ],
   "source": [
    "ratings.head()"
   ]
  },
  {
   "cell_type": "code",
   "execution_count": 3,
   "metadata": {
    "collapsed": false
   },
   "outputs": [],
   "source": []
  },
  {
   "cell_type": "code",
   "execution_count": 4,
   "metadata": {
    "collapsed": false
   },
   "outputs": [
    {
     "name": "stdout",
     "output_type": "stream",
     "text": [
      "270383 users have rated at least 1 game.\n"
     ]
    },
    {
     "data": {
      "text/html": [
       "<div>\n",
       "<table border=\"1\" class=\"dataframe\">\n",
       "  <thead>\n",
       "    <tr style=\"text-align: right;\">\n",
       "      <th></th>\n",
       "      <th>user</th>\n",
       "      <th>freq</th>\n",
       "    </tr>\n",
       "  </thead>\n",
       "  <tbody>\n",
       "    <tr>\n",
       "      <th>203147</th>\n",
       "      <td>leffe dubbel</td>\n",
       "      <td>5390</td>\n",
       "    </tr>\n",
       "    <tr>\n",
       "      <th>30846</th>\n",
       "      <td>Doel</td>\n",
       "      <td>3182</td>\n",
       "    </tr>\n",
       "    <tr>\n",
       "      <th>119456</th>\n",
       "      <td>TomVasel</td>\n",
       "      <td>2994</td>\n",
       "    </tr>\n",
       "    <tr>\n",
       "      <th>125480</th>\n",
       "      <td>Walt Mulder</td>\n",
       "      <td>2936</td>\n",
       "    </tr>\n",
       "    <tr>\n",
       "      <th>49627</th>\n",
       "      <td>Hessu68</td>\n",
       "      <td>2830</td>\n",
       "    </tr>\n",
       "  </tbody>\n",
       "</table>\n",
       "</div>"
      ],
      "text/plain": [
       "                user  freq\n",
       "203147  leffe dubbel  5390\n",
       "30846           Doel  3182\n",
       "119456      TomVasel  2994\n",
       "125480   Walt Mulder  2936\n",
       "49627        Hessu68  2830"
      ]
     },
     "execution_count": 4,
     "metadata": {},
     "output_type": "execute_result"
    }
   ],
   "source": [
    "# Find the distribution of number of ratings each user has given\n",
    "\n",
    "rating_counts = ratings.groupby('user').size().reset_index()\n",
    "rating_counts.columns = ['user', 'freq']\n",
    "rating_counts = rating_counts.sort_values('freq', ascending=False)\n",
    "print str(len(rating_counts)) + ' users have rated at least 1 game.'\n",
    "rating_counts.head()"
   ]
  },
  {
   "cell_type": "code",
   "execution_count": 5,
   "metadata": {
    "collapsed": false
   },
   "outputs": [
    {
     "data": {
      "image/png": "[encoded data removed]",
      "text/plain": [
       "<matplotlib.figure.Figure at 0xb129668>"
      ]
     },
     "metadata": {},
     "output_type": "display_data"
    }
   ],
   "source": [
    "# Visualize above distribution\n",
    "\n",
    "rating_counts.hist(column = 'freq', bins = 100)\n",
    "plt.title('Distribution of the number of games users have rated')\n",
    "plt.yscale('log')\n",
    "plt.ylabel('frequency')\n",
    "plt.xlabel('number of ratings')\n",
    "plt.xlim(0, 2500)\n",
    "plt.show()"
   ]
  },
  {
   "cell_type": "code",
   "execution_count": 6,
   "metadata": {
    "collapsed": false
   },
   "outputs": [
    {
     "name": "stdout",
     "output_type": "stream",
     "text": [
      "59715 users have rated at least 50 games.\n"
     ]
    },
    {
     "data": {
      "text/html": [
       "<div>\n",
       "<table border=\"1\" class=\"dataframe\">\n",
       "  <thead>\n",
       "    <tr style=\"text-align: right;\">\n",
       "      <th></th>\n",
       "      <th>user</th>\n",
       "      <th>freq</th>\n",
       "    </tr>\n",
       "  </thead>\n",
       "  <tbody>\n",
       "    <tr>\n",
       "      <th>157340</th>\n",
       "      <td>d5884jp</td>\n",
       "      <td>50</td>\n",
       "    </tr>\n",
       "    <tr>\n",
       "      <th>55612</th>\n",
       "      <td>JasperJones</td>\n",
       "      <td>50</td>\n",
       "    </tr>\n",
       "    <tr>\n",
       "      <th>54313</th>\n",
       "      <td>JVB7878</td>\n",
       "      <td>50</td>\n",
       "    </tr>\n",
       "    <tr>\n",
       "      <th>1028</th>\n",
       "      <td>77rpm</td>\n",
       "      <td>50</td>\n",
       "    </tr>\n",
       "    <tr>\n",
       "      <th>226739</th>\n",
       "      <td>paxpain</td>\n",
       "      <td>50</td>\n",
       "    </tr>\n",
       "  </tbody>\n",
       "</table>\n",
       "</div>"
      ],
      "text/plain": [
       "               user  freq\n",
       "157340      d5884jp    50\n",
       "55612   JasperJones    50\n",
       "54313       JVB7878    50\n",
       "1028          77rpm    50\n",
       "226739      paxpain    50"
      ]
     },
     "execution_count": 6,
     "metadata": {},
     "output_type": "execute_result"
    }
   ],
   "source": [
    "# Remove users who have not rated many games\n",
    "\n",
    "high_n_users = rating_counts[rating_counts.freq >=50]\n",
    "print str(len(high_n_users)) + ' users have rated at least 50 games.'\n",
    "high_n_users.tail()"
   ]
  },
  {
   "cell_type": "code",
   "execution_count": 10,
   "metadata": {
    "collapsed": false
   },
   "outputs": [
    {
     "name": "stdout",
     "output_type": "stream",
     "text": [
      "59715 users\n",
      "6949 games\n"
     ]
    }
   ],
   "source": [
    "ratings_red = ratings[ratings['user'].isin(high_n_users['user'])]\n",
    "n_users = ratings_red.user.unique().shape[0]\n",
    "n_games = ratings_red.name.unique().shape[0]\n",
    "print str(n_users) + ' users'\n",
    "print str(n_games) + ' games'"
   ]
  },
  {
   "cell_type": "code",
   "execution_count": 33,
   "metadata": {
    "collapsed": true
   },
   "outputs": [],
   "source": [
    "# Save matrix with only the most frequest raters\n",
    "\n",
    "ratings_red.to_json('ratings_reduced.json')"
   ]
  },
  {
   "cell_type": "code",
   "execution_count": null,
   "metadata": {
    "collapsed": false
   },
   "outputs": [],
   "source": []
  }
 ],
 "metadata": {
  "kernelspec": {
   "display_name": "Python 2",
   "language": "python",
   "name": "python2"
  },
  "language_info": {
   "codemirror_mode": {
    "name": "ipython",
    "version": 2
   },
   "file_extension": ".py",
   "mimetype": "text/x-python",
   "name": "python",
   "nbconvert_exporter": "python",
   "pygments_lexer": "ipython2",
   "version": "2.7.11"
  }
 },
 "nbformat": 4,
 "nbformat_minor": 0
}
