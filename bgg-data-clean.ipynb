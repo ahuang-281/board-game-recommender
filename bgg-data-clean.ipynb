{
 "cells": [
  {
   "cell_type": "code",
   "execution_count": 1,
   "metadata": {
    "collapsed": true
   },
   "outputs": [],
   "source": [
    "import numpy as np\n",
    "import pandas as pd\n",
    "import matplotlib.pyplot as plt \n",
    "\n",
    "%matplotlib inline"
   ]
  },
  {
   "cell_type": "code",
   "execution_count": 2,
   "metadata": {
    "collapsed": false
   },
   "outputs": [],
   "source": [
    "# Read the saved BGG database\n",
    "game_df = pd.read_json('bgg_database.json')"
   ]
  },
  {
   "cell_type": "code",
   "execution_count": 3,
   "metadata": {
    "collapsed": false
   },
   "outputs": [
    {
     "data": {
      "text/html": [
       "<div>\n",
       "<table border=\"1\" class=\"dataframe\">\n",
       "  <thead>\n",
       "    <tr style=\"text-align: right;\">\n",
       "      <th></th>\n",
       "      <th>gameid</th>\n",
       "      <th>attributes</th>\n",
       "      <th>average_rating</th>\n",
       "      <th>description</th>\n",
       "      <th>last_updated</th>\n",
       "      <th>name</th>\n",
       "      <th>num_voters</th>\n",
       "      <th>play_time</th>\n",
       "      <th>player_count</th>\n",
       "      <th>rank</th>\n",
       "      <th>ratings</th>\n",
       "      <th>weight</th>\n",
       "      <th>weighted_rating</th>\n",
       "      <th>year</th>\n",
       "    </tr>\n",
       "  </thead>\n",
       "  <tbody>\n",
       "    <tr>\n",
       "      <th>0</th>\n",
       "      <td>1</td>\n",
       "      <td>{u'boardgamedesigner': u'Karl-Heinz Schmiel', ...</td>\n",
       "      <td>7.64052</td>\n",
       "      <td>Die Macher is a game about seven sequential po...</td>\n",
       "      <td>Tue Jan 29 22:56:21 2019</td>\n",
       "      <td>Die Macher</td>\n",
       "      <td>4752</td>\n",
       "      <td>240</td>\n",
       "      <td>{u'1': {u'Recommended': u'1', u'Not Recommende...</td>\n",
       "      <td>208</td>\n",
       "      <td>{u'aSoso': u'10', u'Annagul': u'7', u'the_ka':...</td>\n",
       "      <td>4.3434</td>\n",
       "      <td>7.20468</td>\n",
       "      <td>1986</td>\n",
       "    </tr>\n",
       "    <tr>\n",
       "      <th>1</th>\n",
       "      <td>10</td>\n",
       "      <td>{u'boardgamedesigner': u'Alan R. Moon', u'boar...</td>\n",
       "      <td>6.73401</td>\n",
       "      <td>Elfenland is a redesign of the original White ...</td>\n",
       "      <td>Tue Jan 29 22:25:44 2019</td>\n",
       "      <td>Elfenland</td>\n",
       "      <td>7302</td>\n",
       "      <td>60</td>\n",
       "      <td>{u'6+': {u'Recommended': u'1', u'Not Recommend...</td>\n",
       "      <td>850</td>\n",
       "      <td>{u'Igorken': u'6', u'druvey': u'4', u'Joverowa...</td>\n",
       "      <td>2.1620</td>\n",
       "      <td>6.54036</td>\n",
       "      <td>1998</td>\n",
       "    </tr>\n",
       "    <tr>\n",
       "      <th>2</th>\n",
       "      <td>100169</td>\n",
       "      <td>{u'boardgamedesigner': u'Robert Leonhard', u'b...</td>\n",
       "      <td>7.57304</td>\n",
       "      <td>Historic Gaming #7&amp;#10;&amp;#10;Hero of Weehawken ...</td>\n",
       "      <td>Wed Jan 30 00:49:00 2019</td>\n",
       "      <td>Hero of Weehawken</td>\n",
       "      <td>146</td>\n",
       "      <td>45</td>\n",
       "      <td>{u'1': {u'Recommended': u'1', u'Not Recommende...</td>\n",
       "      <td>3965</td>\n",
       "      <td>{u'userid122002': u'7', u'dougadamsau': u'8', ...</td>\n",
       "      <td>2.1579</td>\n",
       "      <td>5.72521</td>\n",
       "      <td>2011</td>\n",
       "    </tr>\n",
       "    <tr>\n",
       "      <th>3</th>\n",
       "      <td>100172</td>\n",
       "      <td>{u'boardgamedesigner': u'Brad Champeny', u'boa...</td>\n",
       "      <td>6.81274</td>\n",
       "      <td>The King's birthday has arrived! Wealthy arist...</td>\n",
       "      <td>Wed Jan 30 00:49:06 2019</td>\n",
       "      <td>Seven Sisters</td>\n",
       "      <td>144</td>\n",
       "      <td>60</td>\n",
       "      <td>{u'6+': {u'Recommended': u'0', u'Not Recommend...</td>\n",
       "      <td>5653</td>\n",
       "      <td>{u'skelebone': u'8', u'infinity13': u'7.5', u'...</td>\n",
       "      <td>2.4118</td>\n",
       "      <td>5.62356</td>\n",
       "      <td>2012</td>\n",
       "    </tr>\n",
       "    <tr>\n",
       "      <th>4</th>\n",
       "      <td>1002</td>\n",
       "      <td>{u'boardgamedesigner': u'Urs Hostettler', u'bo...</td>\n",
       "      <td>6.90081</td>\n",
       "      <td>Cosmic Eidex is an intriguing little trick-tak...</td>\n",
       "      <td>Wed Jan 30 00:33:14 2019</td>\n",
       "      <td>Cosmic Eidex</td>\n",
       "      <td>442</td>\n",
       "      <td>60</td>\n",
       "      <td>{u'1': {u'Recommended': u'0', u'Not Recommende...</td>\n",
       "      <td>2783</td>\n",
       "      <td>{u'dakarp': u'8', u'hurrlipurr': u'7', u'sanny...</td>\n",
       "      <td>2.6909</td>\n",
       "      <td>5.87718</td>\n",
       "      <td>1998</td>\n",
       "    </tr>\n",
       "  </tbody>\n",
       "</table>\n",
       "</div>"
      ],
      "text/plain": [
       "   gameid                                         attributes  average_rating  \\\n",
       "0       1  {u'boardgamedesigner': u'Karl-Heinz Schmiel', ...         7.64052   \n",
       "1      10  {u'boardgamedesigner': u'Alan R. Moon', u'boar...         6.73401   \n",
       "2  100169  {u'boardgamedesigner': u'Robert Leonhard', u'b...         7.57304   \n",
       "3  100172  {u'boardgamedesigner': u'Brad Champeny', u'boa...         6.81274   \n",
       "4    1002  {u'boardgamedesigner': u'Urs Hostettler', u'bo...         6.90081   \n",
       "\n",
       "                                         description  \\\n",
       "0  Die Macher is a game about seven sequential po...   \n",
       "1  Elfenland is a redesign of the original White ...   \n",
       "2  Historic Gaming #7&#10;&#10;Hero of Weehawken ...   \n",
       "3  The King's birthday has arrived! Wealthy arist...   \n",
       "4  Cosmic Eidex is an intriguing little trick-tak...   \n",
       "\n",
       "               last_updated               name  num_voters  play_time  \\\n",
       "0  Tue Jan 29 22:56:21 2019         Die Macher        4752        240   \n",
       "1  Tue Jan 29 22:25:44 2019          Elfenland        7302         60   \n",
       "2  Wed Jan 30 00:49:00 2019  Hero of Weehawken         146         45   \n",
       "3  Wed Jan 30 00:49:06 2019      Seven Sisters         144         60   \n",
       "4  Wed Jan 30 00:33:14 2019       Cosmic Eidex         442         60   \n",
       "\n",
       "                                        player_count  rank  \\\n",
       "0  {u'1': {u'Recommended': u'1', u'Not Recommende...   208   \n",
       "1  {u'6+': {u'Recommended': u'1', u'Not Recommend...   850   \n",
       "2  {u'1': {u'Recommended': u'1', u'Not Recommende...  3965   \n",
       "3  {u'6+': {u'Recommended': u'0', u'Not Recommend...  5653   \n",
       "4  {u'1': {u'Recommended': u'0', u'Not Recommende...  2783   \n",
       "\n",
       "                                             ratings  weight  weighted_rating  \\\n",
       "0  {u'aSoso': u'10', u'Annagul': u'7', u'the_ka':...  4.3434          7.20468   \n",
       "1  {u'Igorken': u'6', u'druvey': u'4', u'Joverowa...  2.1620          6.54036   \n",
       "2  {u'userid122002': u'7', u'dougadamsau': u'8', ...  2.1579          5.72521   \n",
       "3  {u'skelebone': u'8', u'infinity13': u'7.5', u'...  2.4118          5.62356   \n",
       "4  {u'dakarp': u'8', u'hurrlipurr': u'7', u'sanny...  2.6909          5.87718   \n",
       "\n",
       "   year  \n",
       "0  1986  \n",
       "1  1998  \n",
       "2  2011  \n",
       "3  2012  \n",
       "4  1998  "
      ]
     },
     "execution_count": 3,
     "metadata": {},
     "output_type": "execute_result"
    }
   ],
   "source": [
    "game_df.index.name = 'gameid'\n",
    "game_df = game_df.reset_index()\n",
    "game_df.head()"
   ]
  },
  {
   "cell_type": "code",
   "execution_count": 9,
   "metadata": {
    "collapsed": false
   },
   "outputs": [],
   "source": [
    "game_df = game_df[game_df['rank'] <= 3000]\n",
    "game_df.to_json('bgg_database_3k.json')"
   ]
  },
  {
   "cell_type": "code",
   "execution_count": 14,
   "metadata": {
    "collapsed": false
   },
   "outputs": [],
   "source": [
    "# Create a dataframe of only the user, game ID, and score for each game\n",
    "ratings = []\n",
    "for i, row in game_df.iterrows():\n",
    "    for user, score in row.ratings.iteritems():\n",
    "        rating = (row['gameid'], user, float(score))\n",
    "        ratings.append(rating)\n",
    "ratings = pd.DataFrame(ratings, columns = ['gameid', 'user', 'score'])"
   ]
  },
  {
   "cell_type": "code",
   "execution_count": 15,
   "metadata": {
    "collapsed": false
   },
   "outputs": [
    {
     "data": {
      "text/html": [
       "<div>\n",
       "<table border=\"1\" class=\"dataframe\">\n",
       "  <thead>\n",
       "    <tr style=\"text-align: right;\">\n",
       "      <th></th>\n",
       "      <th>gameid</th>\n",
       "      <th>user</th>\n",
       "      <th>score</th>\n",
       "    </tr>\n",
       "  </thead>\n",
       "  <tbody>\n",
       "    <tr>\n",
       "      <th>0</th>\n",
       "      <td>1</td>\n",
       "      <td>aSoso</td>\n",
       "      <td>10</td>\n",
       "    </tr>\n",
       "    <tr>\n",
       "      <th>1</th>\n",
       "      <td>1</td>\n",
       "      <td>Annagul</td>\n",
       "      <td>7</td>\n",
       "    </tr>\n",
       "    <tr>\n",
       "      <th>2</th>\n",
       "      <td>1</td>\n",
       "      <td>the_ka</td>\n",
       "      <td>9</td>\n",
       "    </tr>\n",
       "    <tr>\n",
       "      <th>3</th>\n",
       "      <td>1</td>\n",
       "      <td>treece keenes</td>\n",
       "      <td>1</td>\n",
       "    </tr>\n",
       "    <tr>\n",
       "      <th>4</th>\n",
       "      <td>1</td>\n",
       "      <td>dakarp</td>\n",
       "      <td>7</td>\n",
       "    </tr>\n",
       "  </tbody>\n",
       "</table>\n",
       "</div>"
      ],
      "text/plain": [
       "   gameid           user  score\n",
       "0       1          aSoso     10\n",
       "1       1        Annagul      7\n",
       "2       1         the_ka      9\n",
       "3       1  treece keenes      1\n",
       "4       1         dakarp      7"
      ]
     },
     "execution_count": 15,
     "metadata": {},
     "output_type": "execute_result"
    }
   ],
   "source": [
    "ratings.head()"
   ]
  },
  {
   "cell_type": "code",
   "execution_count": 16,
   "metadata": {
    "collapsed": false
   },
   "outputs": [
    {
     "data": {
      "text/plain": [
       "(10208493, 3)"
      ]
     },
     "execution_count": 16,
     "metadata": {},
     "output_type": "execute_result"
    }
   ],
   "source": [
    "ratings.shape"
   ]
  },
  {
   "cell_type": "code",
   "execution_count": 17,
   "metadata": {
    "collapsed": false
   },
   "outputs": [
    {
     "name": "stdout",
     "output_type": "stream",
     "text": [
      "261259 users have rated at least 1 game.\n"
     ]
    },
    {
     "data": {
      "text/html": [
       "<div>\n",
       "<table border=\"1\" class=\"dataframe\">\n",
       "  <thead>\n",
       "    <tr style=\"text-align: right;\">\n",
       "      <th></th>\n",
       "      <th>user</th>\n",
       "      <th>num_ratings</th>\n",
       "    </tr>\n",
       "  </thead>\n",
       "  <tbody>\n",
       "    <tr>\n",
       "      <th>196282</th>\n",
       "      <td>leffe dubbel</td>\n",
       "      <td>2687</td>\n",
       "    </tr>\n",
       "    <tr>\n",
       "      <th>254852</th>\n",
       "      <td>we3die</td>\n",
       "      <td>2301</td>\n",
       "    </tr>\n",
       "    <tr>\n",
       "      <th>29777</th>\n",
       "      <td>Doel</td>\n",
       "      <td>1928</td>\n",
       "    </tr>\n",
       "    <tr>\n",
       "      <th>115181</th>\n",
       "      <td>Tolkana</td>\n",
       "      <td>1834</td>\n",
       "    </tr>\n",
       "    <tr>\n",
       "      <th>53641</th>\n",
       "      <td>JasonSaastad</td>\n",
       "      <td>1831</td>\n",
       "    </tr>\n",
       "  </tbody>\n",
       "</table>\n",
       "</div>"
      ],
      "text/plain": [
       "                user  num_ratings\n",
       "196282  leffe dubbel         2687\n",
       "254852        we3die         2301\n",
       "29777           Doel         1928\n",
       "115181       Tolkana         1834\n",
       "53641   JasonSaastad         1831"
      ]
     },
     "execution_count": 17,
     "metadata": {},
     "output_type": "execute_result"
    }
   ],
   "source": [
    "# Find the distribution of number of ratings each user has given\n",
    "\n",
    "rating_counts = ratings.groupby('user').size().reset_index()\n",
    "rating_counts.columns = ['user', 'num_ratings']\n",
    "rating_counts = rating_counts.sort_values('num_ratings', ascending=False)\n",
    "print str(len(rating_counts)) + ' users have rated at least 1 game.'\n",
    "rating_counts.head()"
   ]
  },
  {
   "cell_type": "code",
   "execution_count": 18,
   "metadata": {
    "collapsed": false
   },
   "outputs": [
    {
     "data": {
      "image/png": "[encoded data removed]",
      "text/plain": [
       "<matplotlib.figure.Figure at 0xdc911cf8>"
      ]
     },
     "metadata": {},
     "output_type": "display_data"
    }
   ],
   "source": [
    "# Visualize above distribution\n",
    "\n",
    "rating_counts.hist(column = 'num_ratings', bins = range(0,2550,50))\n",
    "plt.title('Distribution of the number of games users have rated')\n",
    "plt.yscale('log')\n",
    "plt.ylabel('frequency')\n",
    "plt.xlabel('number of ratings')\n",
    "plt.xlim(0, 2500)\n",
    "plt.show()"
   ]
  },
  {
   "cell_type": "code",
   "execution_count": 19,
   "metadata": {
    "collapsed": false
   },
   "outputs": [
    {
     "name": "stdout",
     "output_type": "stream",
     "text": [
      "54502 users have rated at least 50 games.\n"
     ]
    },
    {
     "data": {
      "text/html": [
       "<div>\n",
       "<table border=\"1\" class=\"dataframe\">\n",
       "  <thead>\n",
       "    <tr style=\"text-align: right;\">\n",
       "      <th></th>\n",
       "      <th>user</th>\n",
       "      <th>num_ratings</th>\n",
       "    </tr>\n",
       "  </thead>\n",
       "  <tbody>\n",
       "    <tr>\n",
       "      <th>209993</th>\n",
       "      <td>mrdaxxos</td>\n",
       "      <td>50</td>\n",
       "    </tr>\n",
       "    <tr>\n",
       "      <th>116945</th>\n",
       "      <td>Tubby</td>\n",
       "      <td>50</td>\n",
       "    </tr>\n",
       "    <tr>\n",
       "      <th>161709</th>\n",
       "      <td>eishund</td>\n",
       "      <td>50</td>\n",
       "    </tr>\n",
       "    <tr>\n",
       "      <th>23437</th>\n",
       "      <td>Crz82</td>\n",
       "      <td>50</td>\n",
       "    </tr>\n",
       "    <tr>\n",
       "      <th>94773</th>\n",
       "      <td>RitterFips</td>\n",
       "      <td>50</td>\n",
       "    </tr>\n",
       "  </tbody>\n",
       "</table>\n",
       "</div>"
      ],
      "text/plain": [
       "              user  num_ratings\n",
       "209993    mrdaxxos           50\n",
       "116945       Tubby           50\n",
       "161709     eishund           50\n",
       "23437        Crz82           50\n",
       "94773   RitterFips           50"
      ]
     },
     "execution_count": 19,
     "metadata": {},
     "output_type": "execute_result"
    }
   ],
   "source": [
    "# Remove users who have not rated many games\n",
    "\n",
    "high_n_users = rating_counts[rating_counts.num_ratings >=50]\n",
    "print str(len(high_n_users)) + ' users have rated at least 50 games.'\n",
    "high_n_users.tail()"
   ]
  },
  {
   "cell_type": "code",
   "execution_count": 20,
   "metadata": {
    "collapsed": false
   },
   "outputs": [
    {
     "name": "stdout",
     "output_type": "stream",
     "text": [
      "54502 users\n",
      "3000 games\n"
     ]
    }
   ],
   "source": [
    "ratings_red = ratings[ratings['user'].isin(high_n_users['user'])]\n",
    "n_users = len(ratings_red.user.unique())\n",
    "n_games = len(ratings_red.gameid.unique())\n",
    "print str(n_users) + ' users'\n",
    "print str(n_games) + ' games'"
   ]
  },
  {
   "cell_type": "code",
   "execution_count": 21,
   "metadata": {
    "collapsed": true
   },
   "outputs": [],
   "source": [
    "# Save matrix with only frequest raters\n",
    "\n",
    "ratings_red.to_json('ratings_reduced.json')"
   ]
  },
  {
   "cell_type": "code",
   "execution_count": 25,
   "metadata": {
    "collapsed": false
   },
   "outputs": [
    {
     "name": "stdout",
     "output_type": "stream",
     "text": [
      "4624 users have rated at least 300 games.\n"
     ]
    }
   ],
   "source": [
    "vhigh_n_users = rating_counts[rating_counts.num_ratings >= 300]\n",
    "print str(len(vhigh_n_users)) + ' users have rated at least 300 games.'"
   ]
  },
  {
   "cell_type": "code",
   "execution_count": 26,
   "metadata": {
    "collapsed": false
   },
   "outputs": [
    {
     "name": "stdout",
     "output_type": "stream",
     "text": [
      "4624 users\n",
      "3000 games\n"
     ]
    }
   ],
   "source": [
    "ratings_vred = ratings[ratings['user'].isin(vhigh_n_users['user'])]\n",
    "n_users = ratings_vred.user.unique().shape[0]\n",
    "n_games = ratings_vred.gameid.unique().shape[0]\n",
    "print str(n_users) + ' users'\n",
    "print str(n_games) + ' games'"
   ]
  },
  {
   "cell_type": "code",
   "execution_count": 27,
   "metadata": {
    "collapsed": true
   },
   "outputs": [],
   "source": [
    "# Save matrix with only the most frequest raters\n",
    "\n",
    "ratings_vred.to_json('ratings_vreduced.json')"
   ]
  },
  {
   "cell_type": "code",
   "execution_count": null,
   "metadata": {
    "collapsed": false
   },
   "outputs": [],
   "source": []
  }
 ],
 "metadata": {
  "kernelspec": {
   "display_name": "Python 2",
   "language": "python",
   "name": "python2"
  },
  "language_info": {
   "codemirror_mode": {
    "name": "ipython",
    "version": 2
   },
   "file_extension": ".py",
   "mimetype": "text/x-python",
   "name": "python",
   "nbconvert_exporter": "python",
   "pygments_lexer": "ipython2",
   "version": "2.7.11"
  }
 },
 "nbformat": 4,
 "nbformat_minor": 0
}
