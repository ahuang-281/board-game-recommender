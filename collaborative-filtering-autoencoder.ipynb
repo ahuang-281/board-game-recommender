{
 "cells": [
  {
   "cell_type": "code",
   "execution_count": 44,
   "metadata": {},
   "outputs": [],
   "source": [
    "%matplotlib inline\n",
    "import importlib\n",
    "import scipy\n",
    "import pandas as pd\n",
    "import numpy as np\n",
    "import matplotlib.pyplot as plt\n",
    "from keras_tqdm import TQDMNotebookCallback\n",
    "from sklearn.model_selection import train_test_split\n",
    "from sklearn.manifold import TSNE\n",
    "import keras\n",
    "from keras.layers import *\n",
    "from keras.models import Model, Sequential\n",
    "from keras.callbacks import EarlyStopping\n",
    "from keras.utils.vis_utils import model_to_dot\n",
    "\n",
    "plt.style.use('seaborn')"
   ]
  },
  {
   "cell_type": "code",
   "execution_count": 2,
   "metadata": {},
   "outputs": [
    {
     "data": {
      "text/html": [
       "<div>\n",
       "<style scoped>\n",
       "    .dataframe tbody tr th:only-of-type {\n",
       "        vertical-align: middle;\n",
       "    }\n",
       "\n",
       "    .dataframe tbody tr th {\n",
       "        vertical-align: top;\n",
       "    }\n",
       "\n",
       "    .dataframe thead th {\n",
       "        text-align: right;\n",
       "    }\n",
       "</style>\n",
       "<table border=\"1\" class=\"dataframe\">\n",
       "  <thead>\n",
       "    <tr style=\"text-align: right;\">\n",
       "      <th></th>\n",
       "      <th>gameid</th>\n",
       "      <th>user</th>\n",
       "      <th>score</th>\n",
       "    </tr>\n",
       "  </thead>\n",
       "  <tbody>\n",
       "    <tr>\n",
       "      <th>0</th>\n",
       "      <td>174430</td>\n",
       "      <td>pinbot</td>\n",
       "      <td>9.0</td>\n",
       "    </tr>\n",
       "    <tr>\n",
       "      <th>1000</th>\n",
       "      <td>174430</td>\n",
       "      <td>igomin</td>\n",
       "      <td>10.0</td>\n",
       "    </tr>\n",
       "    <tr>\n",
       "      <th>10000000</th>\n",
       "      <td>63632</td>\n",
       "      <td>ProEvo</td>\n",
       "      <td>7.0</td>\n",
       "    </tr>\n",
       "    <tr>\n",
       "      <th>10000001</th>\n",
       "      <td>63632</td>\n",
       "      <td>Scrabbler</td>\n",
       "      <td>7.0</td>\n",
       "    </tr>\n",
       "    <tr>\n",
       "      <th>10000002</th>\n",
       "      <td>63632</td>\n",
       "      <td>didier_adasoc</td>\n",
       "      <td>5.0</td>\n",
       "    </tr>\n",
       "  </tbody>\n",
       "</table>\n",
       "</div>"
      ],
      "text/plain": [
       "          gameid           user  score\n",
       "0         174430         pinbot    9.0\n",
       "1000      174430         igomin   10.0\n",
       "10000000   63632         ProEvo    7.0\n",
       "10000001   63632      Scrabbler    7.0\n",
       "10000002   63632  didier_adasoc    5.0"
      ]
     },
     "execution_count": 2,
     "metadata": {},
     "output_type": "execute_result"
    }
   ],
   "source": [
    "# Import user-item rating dataframe\n",
    "ratings = pd.read_json('ratings_reduced.json')\n",
    "ratings.head()"
   ]
  },
  {
   "cell_type": "code",
   "execution_count": 3,
   "metadata": {},
   "outputs": [
    {
     "data": {
      "text/html": [
       "<div>\n",
       "<style scoped>\n",
       "    .dataframe tbody tr th:only-of-type {\n",
       "        vertical-align: middle;\n",
       "    }\n",
       "\n",
       "    .dataframe tbody tr th {\n",
       "        vertical-align: top;\n",
       "    }\n",
       "\n",
       "    .dataframe thead th {\n",
       "        text-align: right;\n",
       "    }\n",
       "</style>\n",
       "<table border=\"1\" class=\"dataframe\">\n",
       "  <thead>\n",
       "    <tr style=\"text-align: right;\">\n",
       "      <th></th>\n",
       "      <th>user</th>\n",
       "      <th>gameid</th>\n",
       "      <th>score</th>\n",
       "    </tr>\n",
       "  </thead>\n",
       "  <tbody>\n",
       "    <tr>\n",
       "      <th>0</th>\n",
       "      <td>0</td>\n",
       "      <td>0</td>\n",
       "      <td>9.0</td>\n",
       "    </tr>\n",
       "    <tr>\n",
       "      <th>1000</th>\n",
       "      <td>1</td>\n",
       "      <td>0</td>\n",
       "      <td>10.0</td>\n",
       "    </tr>\n",
       "    <tr>\n",
       "      <th>10000000</th>\n",
       "      <td>2</td>\n",
       "      <td>1</td>\n",
       "      <td>7.0</td>\n",
       "    </tr>\n",
       "    <tr>\n",
       "      <th>10000001</th>\n",
       "      <td>3</td>\n",
       "      <td>1</td>\n",
       "      <td>7.0</td>\n",
       "    </tr>\n",
       "    <tr>\n",
       "      <th>10000002</th>\n",
       "      <td>4</td>\n",
       "      <td>1</td>\n",
       "      <td>5.0</td>\n",
       "    </tr>\n",
       "  </tbody>\n",
       "</table>\n",
       "</div>"
      ],
      "text/plain": [
       "          user  gameid  score\n",
       "0            0       0    9.0\n",
       "1000         1       0   10.0\n",
       "10000000     2       1    7.0\n",
       "10000001     3       1    7.0\n",
       "10000002     4       1    5.0"
      ]
     },
     "execution_count": 3,
     "metadata": {},
     "output_type": "execute_result"
    }
   ],
   "source": [
    "# Convert user names and game IDs to matrix indices\n",
    "userdict = {}\n",
    "for i, user in enumerate(ratings.user.unique()):\n",
    "    userdict[user] = i\n",
    "    \n",
    "gamedict = {}\n",
    "for i, game in enumerate(ratings.gameid.unique()):\n",
    "    gamedict[game] = i\n",
    "    \n",
    "ratings['user'] = ratings['user'].map(userdict.get)\n",
    "ratings['gameid'] = ratings['gameid'].map(gamedict.get)\n",
    "ratings = ratings[['user', 'gameid', 'score']]\n",
    "ratings.head()"
   ]
  },
  {
   "cell_type": "code",
   "execution_count": 4,
   "metadata": {},
   "outputs": [],
   "source": [
    "# Split data in testing and training sets\n",
    "X = ratings[['gameid','user']]\n",
    "y = ratings['score']\n",
    "X_train, X_test, y_train, y_test = train_test_split(X, y, test_size=0.3, random_state=29, stratify=X['gameid'])"
   ]
  },
  {
   "cell_type": "code",
   "execution_count": 5,
   "metadata": {},
   "outputs": [],
   "source": [
    "# Build a user-item score matrices for training and testing\n",
    "x_train = scipy.sparse.coo_matrix((y_train, (X_train['user'],X_train['gameid'])))\n",
    "x_train = x_train.todense().astype('float32')\n",
    "x_test = scipy.sparse.coo_matrix((y_test, (X_test['user'],X_test['gameid'])))\n",
    "x_test = x_test.todense().astype('float32')"
   ]
  },
  {
   "cell_type": "code",
   "execution_count": 12,
   "metadata": {},
   "outputs": [],
   "source": [
    "def subtract_user_mean(x_train, x_test):\n",
    "    \"\"\"This function subtracts out each user's mean rating from their individual ratings\"\"\"\n",
    "    trainset = pd.DataFrame(x_train)\n",
    "    testset = pd.DataFrame(x_test)\n",
    "    \n",
    "    trainset[trainset == 0] = np.nan\n",
    "    testset[testset == 0] = np.nan\n",
    "    \n",
    "    user_means = trainset.mean(axis=1)\n",
    "    trainset = trainset.subtract(user_means, axis=0)\n",
    "    testset = testset.subtract(user_means, axis=0)\n",
    "    \n",
    "    trainset = trainset.fillna(0)\n",
    "    testset = testset.fillna(0)\n",
    "    return trainset.values, testset.values, user_means"
   ]
  },
  {
   "cell_type": "code",
   "execution_count": 6,
   "metadata": {},
   "outputs": [],
   "source": [
    "def remove_biases(x_train, x_test):\n",
    "    trainset = pd.DataFrame(x_train)\n",
    "    testset = pd.DataFrame(x_test)\n",
    "    \n",
    "    trainset[trainset == 0] = np.nan\n",
    "    testset[testset == 0] = np.nan\n",
    "    \n",
    "    global_mean = np.nanmean(trainset.values)\n",
    "    trainset = (trainset-global_mean)\n",
    "    testset = (testset-global_mean)\n",
    "    \n",
    "    item_means = trainset.mean()\n",
    "    user_means = trainset.mean(axis=1)\n",
    "    trainset = trainset - item_means\n",
    "    trainset = trainset.subtract(user_means, axis=0)\n",
    "    testset = testset - item_means\n",
    "    testset = testset.subtract(user_means, axis=0)\n",
    "    \n",
    "    trainset = trainset.fillna(0)\n",
    "    testset = testset.fillna(0)\n",
    "    return trainset.values, testset.values, global_mean, item_means, user_means"
   ]
  },
  {
   "cell_type": "markdown",
   "metadata": {},
   "source": [
    "$$r'_{ui} = r_{ui} - \\mu - b_i - b_u$$\n",
    "$$b_i = \\overline{r}_i - \\mu$$\n",
    "$$b_u = \\overline{r}_u - \\mu$$"
   ]
  },
  {
   "cell_type": "code",
   "execution_count": 9,
   "metadata": {},
   "outputs": [],
   "source": [
    "def replace_biases(ratings, global_mean, user_means, item_means):\n",
    "    rate = pd.DataFrame(ratings)\n",
    "    rate = (rate + global_mean)\n",
    "    rate = rate + item_means\n",
    "    rate = rate.add(user_means, axis=0)\n",
    "    rate = rate.values\n",
    "    rate[rate>10] = 10\n",
    "    rate[rate<1] = 1\n",
    "    return rate"
   ]
  },
  {
   "cell_type": "code",
   "execution_count": 7,
   "metadata": {},
   "outputs": [],
   "source": [
    "x_train, x_test, global_mean, user_means, item_means = remove_biases(x_train, x_test)"
   ]
  },
  {
   "cell_type": "code",
   "execution_count": 8,
   "metadata": {},
   "outputs": [],
   "source": [
    "x_full = x_train + x_test"
   ]
  },
  {
   "cell_type": "code",
   "execution_count": 9,
   "metadata": {},
   "outputs": [],
   "source": [
    "def masked_rmse(mask_value):\n",
    "    def f(y_true, y_pred):\n",
    "        mask_true = K.cast(K.not_equal(y_true, mask_value), K.floatx())\n",
    "        masked_squared_error = K.square(mask_true * (y_true - y_pred))\n",
    "        if (K.sum(mask_true, axis=-1)==0):\n",
    "            masked_rmse = 0\n",
    "        else:\n",
    "            masked_rmse = (K.sum(masked_squared_error, axis=-1)/(K.sum(mask_true, axis=-1)))**0.5\n",
    "        return masked_rmse\n",
    "    return f"
   ]
  },
  {
   "cell_type": "code",
   "execution_count": 10,
   "metadata": {},
   "outputs": [
    {
     "name": "stdout",
     "output_type": "stream",
     "text": [
      "WARNING:tensorflow:From c:\\users\\aaron\\miniconda3\\envs\\venv\\lib\\site-packages\\tensorflow\\python\\ops\\control_flow_ops.py:423: colocate_with (from tensorflow.python.framework.ops) is deprecated and will be removed in a future version.\n",
      "Instructions for updating:\n",
      "Colocations handled automatically by placer.\n",
      "WARNING:tensorflow:From c:\\users\\aaron\\miniconda3\\envs\\venv\\lib\\site-packages\\keras\\backend\\tensorflow_backend.py:3445: calling dropout (from tensorflow.python.ops.nn_ops) with keep_prob is deprecated and will be removed in a future version.\n",
      "Instructions for updating:\n",
      "Please use `rate` instead of `keep_prob`. Rate should be set to `rate = 1 - keep_prob`.\n",
      "_________________________________________________________________\n",
      "Layer (type)                 Output Shape              Param #   \n",
      "=================================================================\n",
      "input_1 (InputLayer)         (None, 4905)              0         \n",
      "_________________________________________________________________\n",
      "dropout_1 (Dropout)          (None, 4905)              0         \n",
      "_________________________________________________________________\n",
      "dense_1 (Dense)              (None, 32)                156992    \n",
      "_________________________________________________________________\n",
      "dense_2 (Dense)              (None, 32)                1056      \n",
      "_________________________________________________________________\n",
      "dense_3 (Dense)              (None, 32)                1056      \n",
      "_________________________________________________________________\n",
      "dense_4 (Dense)              (None, 32)                1056      \n",
      "_________________________________________________________________\n",
      "dense_5 (Dense)              (None, 32)                1056      \n",
      "_________________________________________________________________\n",
      "dense_6 (Dense)              (None, 4905)              161865    \n",
      "=================================================================\n",
      "Total params: 323,081\n",
      "Trainable params: 323,081\n",
      "Non-trainable params: 0\n",
      "_________________________________________________________________\n"
     ]
    }
   ],
   "source": [
    "n_input = x_train.shape[1]\n",
    "\n",
    "inputs = Input(shape=(n_input,))\n",
    "drop = Dropout(0.8)(inputs)\n",
    "encode = Dense(32, activation='selu')(drop)\n",
    "encode = Dense(32, activation='selu')(encode)\n",
    "latent = Dense(32, activation='selu')(encode)\n",
    "decode = Dense(32, activation='selu')(latent)\n",
    "decode = Dense(32, activation='selu')(decode)\n",
    "outputs = Dense(n_input, activation='linear')(decode)\n",
    "model = Model(inputs=inputs, outputs=outputs)\n",
    "model.compile(optimizer=keras.optimizers.Adam(lr=0.001), loss = masked_rmse(0))\n",
    "model.summary()"
   ]
  },
  {
   "cell_type": "code",
   "execution_count": 56,
   "metadata": {},
   "outputs": [
    {
     "name": "stdout",
     "output_type": "stream",
     "text": [
      "_________________________________________________________________\n",
      "Layer (type)                 Output Shape              Param #   \n",
      "=================================================================\n",
      "input_9 (InputLayer)         (None, 4905)              0         \n",
      "_________________________________________________________________\n",
      "dropout_6 (Dropout)          (None, 4905)              0         \n",
      "_________________________________________________________________\n",
      "dense_33 (Dense)             (None, 32)                156992    \n",
      "_________________________________________________________________\n",
      "dense_34 (Dense)             (None, 32)                1056      \n",
      "_________________________________________________________________\n",
      "dense_35 (Dense)             (None, 8)                 264       \n",
      "_________________________________________________________________\n",
      "dense_36 (Dense)             (None, 32)                288       \n",
      "_________________________________________________________________\n",
      "dense_37 (Dense)             (None, 32)                1056      \n",
      "_________________________________________________________________\n",
      "dense_38 (Dense)             (None, 4905)              161865    \n",
      "=================================================================\n",
      "Total params: 321,521\n",
      "Trainable params: 321,521\n",
      "Non-trainable params: 0\n",
      "_________________________________________________________________\n"
     ]
    }
   ],
   "source": [
    "n_input = x_train.shape[1]\n",
    "\n",
    "inputs = Input(shape=(n_input,))\n",
    "drop = Dropout(0.8)(inputs)\n",
    "encode = Dense(32, activation='selu')(drop)\n",
    "encode = Dense(32, activation='selu')(encode)\n",
    "encode = Dense(8, activation='selu')(encode)\n",
    "encode = Dense(32, activation='selu')(encode)\n",
    "encode = Dense(32, activation='selu')(encode)\n",
    "outputs = Dense(n_input, activation='linear')(encode)\n",
    "model = Model(inputs=inputs, outputs=outputs)\n",
    "model.compile(optimizer=keras.optimizers.Adam(lr=0.001), loss = masked_rmse(0))\n",
    "model.summary()"
   ]
  },
  {
   "cell_type": "code",
   "execution_count": 57,
   "metadata": {},
   "outputs": [
    {
     "data": {
      "application/vnd.jupyter.widget-view+json": {
       "model_id": "903fa2c4faba465e84d64c290255135b",
       "version_major": 2,
       "version_minor": 0
      },
      "text/plain": [
       "HBox(children=(IntProgress(value=0, description='Training', max=30, style=ProgressStyle(description_width='ini…"
      ]
     },
     "metadata": {},
     "output_type": "display_data"
    },
    {
     "data": {
      "application/vnd.jupyter.widget-view+json": {
       "model_id": "445a62e54af04161b52647c59249f2ca",
       "version_major": 2,
       "version_minor": 0
      },
      "text/plain": [
       "HBox(children=(IntProgress(value=0, description='Epoch 0', max=58919, style=ProgressStyle(description_width='i…"
      ]
     },
     "metadata": {},
     "output_type": "display_data"
    },
    {
     "data": {
      "application/vnd.jupyter.widget-view+json": {
       "model_id": "a42268e0bfbc49299091f43fd91aa2fc",
       "version_major": 2,
       "version_minor": 0
      },
      "text/plain": [
       "HBox(children=(IntProgress(value=0, description='Epoch 1', max=58919, style=ProgressStyle(description_width='i…"
      ]
     },
     "metadata": {},
     "output_type": "display_data"
    },
    {
     "data": {
      "application/vnd.jupyter.widget-view+json": {
       "model_id": "3451c9ab4bef42f199f83441ca023f8f",
       "version_major": 2,
       "version_minor": 0
      },
      "text/plain": [
       "HBox(children=(IntProgress(value=0, description='Epoch 2', max=58919, style=ProgressStyle(description_width='i…"
      ]
     },
     "metadata": {},
     "output_type": "display_data"
    },
    {
     "data": {
      "application/vnd.jupyter.widget-view+json": {
       "model_id": "0b0c3281fedc4951a948ac9b9ce2644d",
       "version_major": 2,
       "version_minor": 0
      },
      "text/plain": [
       "HBox(children=(IntProgress(value=0, description='Epoch 3', max=58919, style=ProgressStyle(description_width='i…"
      ]
     },
     "metadata": {},
     "output_type": "display_data"
    },
    {
     "data": {
      "application/vnd.jupyter.widget-view+json": {
       "model_id": "952e13c523d44243ad8d64dca471d994",
       "version_major": 2,
       "version_minor": 0
      },
      "text/plain": [
       "HBox(children=(IntProgress(value=0, description='Epoch 4', max=58919, style=ProgressStyle(description_width='i…"
      ]
     },
     "metadata": {},
     "output_type": "display_data"
    },
    {
     "data": {
      "application/vnd.jupyter.widget-view+json": {
       "model_id": "fc4c4de70a4240e58a4538b7c0f2c429",
       "version_major": 2,
       "version_minor": 0
      },
      "text/plain": [
       "HBox(children=(IntProgress(value=0, description='Epoch 5', max=58919, style=ProgressStyle(description_width='i…"
      ]
     },
     "metadata": {},
     "output_type": "display_data"
    },
    {
     "data": {
      "application/vnd.jupyter.widget-view+json": {
       "model_id": "876dae61a819459697a31377a6ff7b71",
       "version_major": 2,
       "version_minor": 0
      },
      "text/plain": [
       "HBox(children=(IntProgress(value=0, description='Epoch 6', max=58919, style=ProgressStyle(description_width='i…"
      ]
     },
     "metadata": {},
     "output_type": "display_data"
    },
    {
     "data": {
      "application/vnd.jupyter.widget-view+json": {
       "model_id": "afbc91bd06504982b56457a2ad0b9829",
       "version_major": 2,
       "version_minor": 0
      },
      "text/plain": [
       "HBox(children=(IntProgress(value=0, description='Epoch 7', max=58919, style=ProgressStyle(description_width='i…"
      ]
     },
     "metadata": {},
     "output_type": "display_data"
    },
    {
     "data": {
      "application/vnd.jupyter.widget-view+json": {
       "model_id": "1fd1bae3a7df4bcd8e6a1222e52da953",
       "version_major": 2,
       "version_minor": 0
      },
      "text/plain": [
       "HBox(children=(IntProgress(value=0, description='Epoch 8', max=58919, style=ProgressStyle(description_width='i…"
      ]
     },
     "metadata": {},
     "output_type": "display_data"
    },
    {
     "data": {
      "application/vnd.jupyter.widget-view+json": {
       "model_id": "f958d4db731c4e0e9fcf24b091f042a7",
       "version_major": 2,
       "version_minor": 0
      },
      "text/plain": [
       "HBox(children=(IntProgress(value=0, description='Epoch 9', max=58919, style=ProgressStyle(description_width='i…"
      ]
     },
     "metadata": {},
     "output_type": "display_data"
    },
    {
     "data": {
      "application/vnd.jupyter.widget-view+json": {
       "model_id": "d88bc42e154047ba83fc841abadb7686",
       "version_major": 2,
       "version_minor": 0
      },
      "text/plain": [
       "HBox(children=(IntProgress(value=0, description='Epoch 10', max=58919, style=ProgressStyle(description_width='…"
      ]
     },
     "metadata": {},
     "output_type": "display_data"
    },
    {
     "data": {
      "application/vnd.jupyter.widget-view+json": {
       "model_id": "0b85f3a515b54ebbbaeee693188d9a8d",
       "version_major": 2,
       "version_minor": 0
      },
      "text/plain": [
       "HBox(children=(IntProgress(value=0, description='Epoch 11', max=58919, style=ProgressStyle(description_width='…"
      ]
     },
     "metadata": {},
     "output_type": "display_data"
    },
    {
     "data": {
      "application/vnd.jupyter.widget-view+json": {
       "model_id": "95391cf2a6f5499a9963375a6f9992f5",
       "version_major": 2,
       "version_minor": 0
      },
      "text/plain": [
       "HBox(children=(IntProgress(value=0, description='Epoch 12', max=58919, style=ProgressStyle(description_width='…"
      ]
     },
     "metadata": {},
     "output_type": "display_data"
    },
    {
     "data": {
      "application/vnd.jupyter.widget-view+json": {
       "model_id": "a1ff38a7a0aa4e97ba981c0d0803e01f",
       "version_major": 2,
       "version_minor": 0
      },
      "text/plain": [
       "HBox(children=(IntProgress(value=0, description='Epoch 13', max=58919, style=ProgressStyle(description_width='…"
      ]
     },
     "metadata": {},
     "output_type": "display_data"
    },
    {
     "data": {
      "application/vnd.jupyter.widget-view+json": {
       "model_id": "26f7fd856d3148318bd9687d80f97dbe",
       "version_major": 2,
       "version_minor": 0
      },
      "text/plain": [
       "HBox(children=(IntProgress(value=0, description='Epoch 14', max=58919, style=ProgressStyle(description_width='…"
      ]
     },
     "metadata": {},
     "output_type": "display_data"
    }
   ],
   "source": [
    "params = {'verbose': 0, 'callbacks': [EarlyStopping(patience=2, restore_best_weights=True), TQDMNotebookCallback(leave_inner=True)]}\n",
    "history = model.fit(x_train, x_train, validation_data=(x_train, x_test), epochs=30, batch_size=128, **params)"
   ]
  },
  {
   "cell_type": "code",
   "execution_count": 38,
   "metadata": {},
   "outputs": [
    {
     "data": {
      "application/vnd.jupyter.widget-view+json": {
       "model_id": "835ebb50624944ff8392782de5d45b80",
       "version_major": 2,
       "version_minor": 0
      },
      "text/plain": [
       "HBox(children=(IntProgress(value=0, description='Training', max=30, style=ProgressStyle(description_width='ini…"
      ]
     },
     "metadata": {},
     "output_type": "display_data"
    },
    {
     "data": {
      "application/vnd.jupyter.widget-view+json": {
       "model_id": "43e8b922d70f4757ab6f8fa1767124f9",
       "version_major": 2,
       "version_minor": 0
      },
      "text/plain": [
       "HBox(children=(IntProgress(value=0, description='Epoch 0', max=58919, style=ProgressStyle(description_width='i…"
      ]
     },
     "metadata": {},
     "output_type": "display_data"
    },
    {
     "data": {
      "application/vnd.jupyter.widget-view+json": {
       "model_id": "f6b0ad61dcd34089956f825d5cf6785d",
       "version_major": 2,
       "version_minor": 0
      },
      "text/plain": [
       "HBox(children=(IntProgress(value=0, description='Epoch 1', max=58919, style=ProgressStyle(description_width='i…"
      ]
     },
     "metadata": {},
     "output_type": "display_data"
    },
    {
     "data": {
      "application/vnd.jupyter.widget-view+json": {
       "model_id": "ed328f4a0f0f4396aa3236e0fc77185a",
       "version_major": 2,
       "version_minor": 0
      },
      "text/plain": [
       "HBox(children=(IntProgress(value=0, description='Epoch 2', max=58919, style=ProgressStyle(description_width='i…"
      ]
     },
     "metadata": {},
     "output_type": "display_data"
    },
    {
     "data": {
      "application/vnd.jupyter.widget-view+json": {
       "model_id": "cbc61c56902d4f52a9f0c317c82cd913",
       "version_major": 2,
       "version_minor": 0
      },
      "text/plain": [
       "HBox(children=(IntProgress(value=0, description='Epoch 3', max=58919, style=ProgressStyle(description_width='i…"
      ]
     },
     "metadata": {},
     "output_type": "display_data"
    },
    {
     "data": {
      "application/vnd.jupyter.widget-view+json": {
       "model_id": "67a65840d43745f9afd030b4cabac077",
       "version_major": 2,
       "version_minor": 0
      },
      "text/plain": [
       "HBox(children=(IntProgress(value=0, description='Epoch 4', max=58919, style=ProgressStyle(description_width='i…"
      ]
     },
     "metadata": {},
     "output_type": "display_data"
    },
    {
     "data": {
      "application/vnd.jupyter.widget-view+json": {
       "model_id": "35b89fd2f1644ed8a15d7d39b0845072",
       "version_major": 2,
       "version_minor": 0
      },
      "text/plain": [
       "HBox(children=(IntProgress(value=0, description='Epoch 5', max=58919, style=ProgressStyle(description_width='i…"
      ]
     },
     "metadata": {},
     "output_type": "display_data"
    },
    {
     "data": {
      "application/vnd.jupyter.widget-view+json": {
       "model_id": "396ae734792e47c3b49f5980e3bf5845",
       "version_major": 2,
       "version_minor": 0
      },
      "text/plain": [
       "HBox(children=(IntProgress(value=0, description='Training', max=30, style=ProgressStyle(description_width='ini…"
      ]
     },
     "metadata": {},
     "output_type": "display_data"
    },
    {
     "data": {
      "application/vnd.jupyter.widget-view+json": {
       "model_id": "31ea83565f294d42ba9b8841aa0d5dee",
       "version_major": 2,
       "version_minor": 0
      },
      "text/plain": [
       "HBox(children=(IntProgress(value=0, description='Epoch 0', max=58919, style=ProgressStyle(description_width='i…"
      ]
     },
     "metadata": {},
     "output_type": "display_data"
    },
    {
     "data": {
      "application/vnd.jupyter.widget-view+json": {
       "model_id": "9414c8abd5d24bfd9b3b4e53832bea00",
       "version_major": 2,
       "version_minor": 0
      },
      "text/plain": [
       "HBox(children=(IntProgress(value=0, description='Epoch 1', max=58919, style=ProgressStyle(description_width='i…"
      ]
     },
     "metadata": {},
     "output_type": "display_data"
    },
    {
     "data": {
      "application/vnd.jupyter.widget-view+json": {
       "model_id": "25432e431d09477394b0e209789d5351",
       "version_major": 2,
       "version_minor": 0
      },
      "text/plain": [
       "HBox(children=(IntProgress(value=0, description='Training', max=30, style=ProgressStyle(description_width='ini…"
      ]
     },
     "metadata": {},
     "output_type": "display_data"
    },
    {
     "data": {
      "application/vnd.jupyter.widget-view+json": {
       "model_id": "d3154db292204e39af8b163f808a67f9",
       "version_major": 2,
       "version_minor": 0
      },
      "text/plain": [
       "HBox(children=(IntProgress(value=0, description='Epoch 0', max=58919, style=ProgressStyle(description_width='i…"
      ]
     },
     "metadata": {},
     "output_type": "display_data"
    },
    {
     "data": {
      "application/vnd.jupyter.widget-view+json": {
       "model_id": "8eac42a7feb94697a0e9172ad95dca28",
       "version_major": 2,
       "version_minor": 0
      },
      "text/plain": [
       "HBox(children=(IntProgress(value=0, description='Epoch 1', max=58919, style=ProgressStyle(description_width='i…"
      ]
     },
     "metadata": {},
     "output_type": "display_data"
    },
    {
     "data": {
      "application/vnd.jupyter.widget-view+json": {
       "model_id": "68cb6c66b01949648378e2d870fd630d",
       "version_major": 2,
       "version_minor": 0
      },
      "text/plain": [
       "HBox(children=(IntProgress(value=0, description='Training', max=30, style=ProgressStyle(description_width='ini…"
      ]
     },
     "metadata": {},
     "output_type": "display_data"
    },
    {
     "data": {
      "application/vnd.jupyter.widget-view+json": {
       "model_id": "0b3ad1ac271c424d91745b2bef41cb1a",
       "version_major": 2,
       "version_minor": 0
      },
      "text/plain": [
       "HBox(children=(IntProgress(value=0, description='Epoch 0', max=58919, style=ProgressStyle(description_width='i…"
      ]
     },
     "metadata": {},
     "output_type": "display_data"
    },
    {
     "data": {
      "application/vnd.jupyter.widget-view+json": {
       "model_id": "53a0dee799d94a4a8efe425f03d9bb10",
       "version_major": 2,
       "version_minor": 0
      },
      "text/plain": [
       "HBox(children=(IntProgress(value=0, description='Epoch 1', max=58919, style=ProgressStyle(description_width='i…"
      ]
     },
     "metadata": {},
     "output_type": "display_data"
    }
   ],
   "source": [
    "n = [8, 16, 32, 64]\n",
    "train_loss = []\n",
    "val_loss = []\n",
    "for i in n:\n",
    "    n_input = x_train.shape[1]\n",
    "    inputs = Input(shape=(n_input,))\n",
    "    encode = Dense(i, activation='selu')(inputs)\n",
    "    encode = Dense(i, activation='selu')(encode)\n",
    "    encode = Dense(i, activation='selu')(encode)\n",
    "    encode = Dense(i, activation='selu')(encode)\n",
    "    encode = Dense(i, activation='selu')(encode)\n",
    "    outputs = Dense(n_input, activation='linear')(encode)\n",
    "    model = Model(inputs=inputs, outputs=outputs)\n",
    "    model.compile(optimizer=keras.optimizers.Adam(lr=0.001), loss = masked_rmse(0))\n",
    "    params = {'verbose': 0, 'callbacks': [EarlyStopping(patience=1, restore_best_weights=True), TQDMNotebookCallback(leave_inner=True)]}\n",
    "    history = model.fit(x_train, x_train, validation_data=(x_train, x_test), epochs=30, batch_size=128, **params)\n",
    "    train_loss.append(np.min(history.history['loss']))\n",
    "    val_loss.append(np.min(history.history['val_loss']))\n",
    "\n",
    "\n"
   ]
  },
  {
   "cell_type": "code",
   "execution_count": 36,
   "metadata": {},
   "outputs": [
    {
     "data": {
      "text/plain": [
       "[<matplotlib.lines.Line2D at 0x2c599c93e80>]"
      ]
     },
     "execution_count": 36,
     "metadata": {},
     "output_type": "execute_result"
    },
    {
     "data": {
      "image/png": "[encoded data removed]",
      "text/plain": [
       "<Figure size 576x396 with 1 Axes>"
      ]
     },
     "metadata": {},
     "output_type": "display_data"
    }
   ],
   "source": [
    "plt.plot(n, train_loss)\n",
    "plt.plot(n, val_loss)"
   ]
  },
  {
   "cell_type": "code",
   "execution_count": 58,
   "metadata": {},
   "outputs": [
    {
     "data": {
      "image/png": "[encoded data removed]",
      "text/plain": [
       "<Figure size 576x396 with 1 Axes>"
      ]
     },
     "metadata": {},
     "output_type": "display_data"
    }
   ],
   "source": [
    "plt.plot(history.history['loss'])\n",
    "plt.plot(history.history['val_loss'])\n",
    "plt.xlabel('epoch')\n",
    "plt.ylabel('RMSE')\n",
    "plt.legend(['training', 'validation'])\n",
    "plt.show()"
   ]
  },
  {
   "cell_type": "code",
   "execution_count": 59,
   "metadata": {},
   "outputs": [
    {
     "data": {
      "text/plain": [
       "1.1055975374713927"
      ]
     },
     "execution_count": 59,
     "metadata": {},
     "output_type": "execute_result"
    }
   ],
   "source": [
    "np.min(history.history['val_loss'])"
   ]
  },
  {
   "cell_type": "code",
   "execution_count": 14,
   "metadata": {},
   "outputs": [
    {
     "data": {
      "text/html": [
       "<div>\n",
       "<style scoped>\n",
       "    .dataframe tbody tr th:only-of-type {\n",
       "        vertical-align: middle;\n",
       "    }\n",
       "\n",
       "    .dataframe tbody tr th {\n",
       "        vertical-align: top;\n",
       "    }\n",
       "\n",
       "    .dataframe thead th {\n",
       "        text-align: right;\n",
       "    }\n",
       "</style>\n",
       "<table border=\"1\" class=\"dataframe\">\n",
       "  <thead>\n",
       "    <tr style=\"text-align: right;\">\n",
       "      <th></th>\n",
       "      <th>gameid</th>\n",
       "      <th>last_updated</th>\n",
       "      <th>player_count</th>\n",
       "      <th>num_voters</th>\n",
       "      <th>name</th>\n",
       "      <th>weight</th>\n",
       "      <th>rank</th>\n",
       "      <th>average_rating</th>\n",
       "      <th>year</th>\n",
       "      <th>families</th>\n",
       "      <th>play_time</th>\n",
       "      <th>attributes</th>\n",
       "      <th>weighted_rating</th>\n",
       "      <th>description</th>\n",
       "    </tr>\n",
       "  </thead>\n",
       "  <tbody>\n",
       "    <tr>\n",
       "      <th>0</th>\n",
       "      <td>1</td>\n",
       "      <td>Tue Mar 19 03:05:58 2019</td>\n",
       "      <td>{'1': {'Recommended': '1', 'Not Recommended': ...</td>\n",
       "      <td>4762</td>\n",
       "      <td>Die Macher</td>\n",
       "      <td>4.3443</td>\n",
       "      <td>218</td>\n",
       "      <td>7.63445</td>\n",
       "      <td>1986</td>\n",
       "      <td>[strategygames]</td>\n",
       "      <td>240</td>\n",
       "      <td>{'boardgamedesigner': 'Karl-Heinz Schmiel', 'b...</td>\n",
       "      <td>7.19502</td>\n",
       "      <td>Die Macher is a game about seven sequential po...</td>\n",
       "    </tr>\n",
       "    <tr>\n",
       "      <th>1</th>\n",
       "      <td>10</td>\n",
       "      <td>Tue Mar 19 02:27:37 2019</td>\n",
       "      <td>{'6+': {'Recommended': '1', 'Not Recommended':...</td>\n",
       "      <td>7353</td>\n",
       "      <td>Elfenland</td>\n",
       "      <td>2.1625</td>\n",
       "      <td>862</td>\n",
       "      <td>6.73148</td>\n",
       "      <td>1998</td>\n",
       "      <td>[familygames]</td>\n",
       "      <td>60</td>\n",
       "      <td>{'boardgamedesigner': 'Alan R. Moon', 'boardga...</td>\n",
       "      <td>6.53778</td>\n",
       "      <td>Elfenland is a redesign of the original White ...</td>\n",
       "    </tr>\n",
       "    <tr>\n",
       "      <th>2</th>\n",
       "      <td>100169</td>\n",
       "      <td>Tue Mar 19 05:07:46 2019</td>\n",
       "      <td>{'1': {'Recommended': '1', 'Not Recommended': ...</td>\n",
       "      <td>148</td>\n",
       "      <td>Hero of Weehawken</td>\n",
       "      <td>2.1579</td>\n",
       "      <td>3991</td>\n",
       "      <td>7.58219</td>\n",
       "      <td>2011</td>\n",
       "      <td>[thematic]</td>\n",
       "      <td>45</td>\n",
       "      <td>{'boardgamedesigner': 'Robert Leonhard', 'boar...</td>\n",
       "      <td>5.72384</td>\n",
       "      <td>Historic Gaming #7&amp;#10;&amp;#10;Hero of Weehawken ...</td>\n",
       "    </tr>\n",
       "    <tr>\n",
       "      <th>3</th>\n",
       "      <td>1002</td>\n",
       "      <td>Tue Mar 19 04:55:28 2019</td>\n",
       "      <td>{'1': {'Recommended': '0', 'Not Recommended': ...</td>\n",
       "      <td>444</td>\n",
       "      <td>Cosmic Eidex</td>\n",
       "      <td>2.6786</td>\n",
       "      <td>2820</td>\n",
       "      <td>6.90013</td>\n",
       "      <td>1998</td>\n",
       "      <td>[strategygames]</td>\n",
       "      <td>60</td>\n",
       "      <td>{'boardgamedesigner': 'Urs Hostettler', 'board...</td>\n",
       "      <td>5.87115</td>\n",
       "      <td>Cosmic Eidex is an intriguing little trick-tak...</td>\n",
       "    </tr>\n",
       "    <tr>\n",
       "      <th>4</th>\n",
       "      <td>100423</td>\n",
       "      <td>Tue Mar 19 00:08:24 2019</td>\n",
       "      <td>{'8+': {'Recommended': '1', 'Not Recommended':...</td>\n",
       "      <td>19106</td>\n",
       "      <td>Elder Sign</td>\n",
       "      <td>2.3571</td>\n",
       "      <td>491</td>\n",
       "      <td>7.00700</td>\n",
       "      <td>2011</td>\n",
       "      <td>[thematic]</td>\n",
       "      <td>90</td>\n",
       "      <td>{'boardgamedesigner': 'Kevin Wilson', 'boardga...</td>\n",
       "      <td>6.85712</td>\n",
       "      <td>Game description from the publisher:&amp;#10;&amp;#10;...</td>\n",
       "    </tr>\n",
       "  </tbody>\n",
       "</table>\n",
       "</div>"
      ],
      "text/plain": [
       "   gameid              last_updated  \\\n",
       "0       1  Tue Mar 19 03:05:58 2019   \n",
       "1      10  Tue Mar 19 02:27:37 2019   \n",
       "2  100169  Tue Mar 19 05:07:46 2019   \n",
       "3    1002  Tue Mar 19 04:55:28 2019   \n",
       "4  100423  Tue Mar 19 00:08:24 2019   \n",
       "\n",
       "                                        player_count  num_voters  \\\n",
       "0  {'1': {'Recommended': '1', 'Not Recommended': ...        4762   \n",
       "1  {'6+': {'Recommended': '1', 'Not Recommended':...        7353   \n",
       "2  {'1': {'Recommended': '1', 'Not Recommended': ...         148   \n",
       "3  {'1': {'Recommended': '0', 'Not Recommended': ...         444   \n",
       "4  {'8+': {'Recommended': '1', 'Not Recommended':...       19106   \n",
       "\n",
       "                name  weight  rank  average_rating  year         families  \\\n",
       "0         Die Macher  4.3443   218         7.63445  1986  [strategygames]   \n",
       "1          Elfenland  2.1625   862         6.73148  1998    [familygames]   \n",
       "2  Hero of Weehawken  2.1579  3991         7.58219  2011       [thematic]   \n",
       "3       Cosmic Eidex  2.6786  2820         6.90013  1998  [strategygames]   \n",
       "4         Elder Sign  2.3571   491         7.00700  2011       [thematic]   \n",
       "\n",
       "   play_time                                         attributes  \\\n",
       "0        240  {'boardgamedesigner': 'Karl-Heinz Schmiel', 'b...   \n",
       "1         60  {'boardgamedesigner': 'Alan R. Moon', 'boardga...   \n",
       "2         45  {'boardgamedesigner': 'Robert Leonhard', 'boar...   \n",
       "3         60  {'boardgamedesigner': 'Urs Hostettler', 'board...   \n",
       "4         90  {'boardgamedesigner': 'Kevin Wilson', 'boardga...   \n",
       "\n",
       "   weighted_rating                                        description  \n",
       "0          7.19502  Die Macher is a game about seven sequential po...  \n",
       "1          6.53778  Elfenland is a redesign of the original White ...  \n",
       "2          5.72384  Historic Gaming #7&#10;&#10;Hero of Weehawken ...  \n",
       "3          5.87115  Cosmic Eidex is an intriguing little trick-tak...  \n",
       "4          6.85712  Game description from the publisher:&#10;&#10;...  "
      ]
     },
     "execution_count": 14,
     "metadata": {},
     "output_type": "execute_result"
    }
   ],
   "source": [
    "# Import game database file in order to parse game IDs back to the game names\n",
    "infodf = pd.read_json('bgg_database.json')\n",
    "infodf.index.name = 'gameid'\n",
    "infodf = infodf.reset_index()\n",
    "del infodf['ratings']\n",
    "infodf.head()"
   ]
  },
  {
   "cell_type": "code",
   "execution_count": 60,
   "metadata": {},
   "outputs": [],
   "source": [
    "pred_full = model.predict(x_full)"
   ]
  },
  {
   "cell_type": "code",
   "execution_count": 61,
   "metadata": {},
   "outputs": [],
   "source": [
    "pred_full[x_full==0] = 0\n",
    "err_w_nan = pred_full-x_full\n",
    "err_w_nan[err_w_nan==0] = np.nan\n",
    "sq_err = np.square(err_w_nan)\n",
    "root_mean_sq_err = np.sqrt(np.nanmean(sq_err, axis=0))\n",
    "mean_err = np.array([root_mean_sq_err])\n",
    "pred_std = np.array([np.nanstd(err_w_nan, axis=0)])"
   ]
  },
  {
   "cell_type": "code",
   "execution_count": 62,
   "metadata": {},
   "outputs": [],
   "source": [
    "user = 'spleenmuncher'"
   ]
  },
  {
   "cell_type": "code",
   "execution_count": 63,
   "metadata": {},
   "outputs": [],
   "source": [
    "rating_input = x_full[userdict[user],:].reshape(1,4905).copy()"
   ]
  },
  {
   "cell_type": "code",
   "execution_count": 64,
   "metadata": {},
   "outputs": [],
   "source": [
    "my_ratings = rating_input.copy()\n",
    "my_ratings[my_ratings!=0] = my_ratings[my_ratings!=0] + np.array([user_means])[my_ratings!=0] + np.array(item_means)[userdict[user]] + global_mean"
   ]
  },
  {
   "cell_type": "code",
   "execution_count": 65,
   "metadata": {},
   "outputs": [],
   "source": [
    "my_pred = model.predict(rating_input)"
   ]
  },
  {
   "cell_type": "code",
   "execution_count": 66,
   "metadata": {},
   "outputs": [],
   "source": [
    "my_pred = my_pred + np.array(user_means) + np.array(item_means)[userdict[user]] + global_mean"
   ]
  },
  {
   "cell_type": "code",
   "execution_count": 67,
   "metadata": {},
   "outputs": [
    {
     "data": {
      "text/html": [
       "<div>\n",
       "<style scoped>\n",
       "    .dataframe tbody tr th:only-of-type {\n",
       "        vertical-align: middle;\n",
       "    }\n",
       "\n",
       "    .dataframe tbody tr th {\n",
       "        vertical-align: top;\n",
       "    }\n",
       "\n",
       "    .dataframe thead th {\n",
       "        text-align: right;\n",
       "    }\n",
       "</style>\n",
       "<table border=\"1\" class=\"dataframe\">\n",
       "  <thead>\n",
       "    <tr style=\"text-align: right;\">\n",
       "      <th></th>\n",
       "      <th>gameid</th>\n",
       "      <th>mat_idx</th>\n",
       "      <th>my_pred</th>\n",
       "      <th>my_rating</th>\n",
       "    </tr>\n",
       "  </thead>\n",
       "  <tbody>\n",
       "    <tr>\n",
       "      <th>0</th>\n",
       "      <td>174430</td>\n",
       "      <td>0</td>\n",
       "      <td>8.790935</td>\n",
       "      <td>0.0</td>\n",
       "    </tr>\n",
       "    <tr>\n",
       "      <th>1</th>\n",
       "      <td>63632</td>\n",
       "      <td>1</td>\n",
       "      <td>6.287340</td>\n",
       "      <td>0.0</td>\n",
       "    </tr>\n",
       "    <tr>\n",
       "      <th>2</th>\n",
       "      <td>68448</td>\n",
       "      <td>2</td>\n",
       "      <td>7.169964</td>\n",
       "      <td>6.0</td>\n",
       "    </tr>\n",
       "    <tr>\n",
       "      <th>3</th>\n",
       "      <td>167791</td>\n",
       "      <td>3</td>\n",
       "      <td>8.104713</td>\n",
       "      <td>7.0</td>\n",
       "    </tr>\n",
       "    <tr>\n",
       "      <th>4</th>\n",
       "      <td>178302</td>\n",
       "      <td>4</td>\n",
       "      <td>7.538388</td>\n",
       "      <td>0.0</td>\n",
       "    </tr>\n",
       "  </tbody>\n",
       "</table>\n",
       "</div>"
      ],
      "text/plain": [
       "   gameid  mat_idx   my_pred  my_rating\n",
       "0  174430        0  8.790935        0.0\n",
       "1   63632        1  6.287340        0.0\n",
       "2   68448        2  7.169964        6.0\n",
       "3  167791        3  8.104713        7.0\n",
       "4  178302        4  7.538388        0.0"
      ]
     },
     "execution_count": 67,
     "metadata": {},
     "output_type": "execute_result"
    }
   ],
   "source": [
    "gamedf = pd.DataFrame.from_dict(gamedict, orient='index').reset_index()\n",
    "gamedf.columns = ['gameid','mat_idx']\n",
    "gamedf['my_pred'] = my_pred[0]\n",
    "gamedf['my_rating'] = my_ratings[0]\n",
    "gamedf.head()"
   ]
  },
  {
   "cell_type": "code",
   "execution_count": 68,
   "metadata": {},
   "outputs": [],
   "source": [
    "gamedf = gamedf.merge(infodf, how='left', left_on='gameid', right_on='gameid')[['gameid', 'name', 'my_pred', 'my_rating', 'average_rating', 'num_voters']]"
   ]
  },
  {
   "cell_type": "code",
   "execution_count": 71,
   "metadata": {},
   "outputs": [
    {
     "data": {
      "text/html": [
       "<div>\n",
       "<style scoped>\n",
       "    .dataframe tbody tr th:only-of-type {\n",
       "        vertical-align: middle;\n",
       "    }\n",
       "\n",
       "    .dataframe tbody tr th {\n",
       "        vertical-align: top;\n",
       "    }\n",
       "\n",
       "    .dataframe thead th {\n",
       "        text-align: right;\n",
       "    }\n",
       "</style>\n",
       "<table border=\"1\" class=\"dataframe\">\n",
       "  <thead>\n",
       "    <tr style=\"text-align: right;\">\n",
       "      <th></th>\n",
       "      <th>gameid</th>\n",
       "      <th>name</th>\n",
       "      <th>my_pred</th>\n",
       "      <th>my_rating</th>\n",
       "      <th>average_rating</th>\n",
       "      <th>num_voters</th>\n",
       "      <th>std</th>\n",
       "      <th>RMSE</th>\n",
       "      <th>popularity</th>\n",
       "    </tr>\n",
       "  </thead>\n",
       "  <tbody>\n",
       "    <tr>\n",
       "      <th>0</th>\n",
       "      <td>174430</td>\n",
       "      <td>Gloomhaven</td>\n",
       "      <td>8.790935</td>\n",
       "      <td>0.0</td>\n",
       "      <td>8.91228</td>\n",
       "      <td>23504</td>\n",
       "      <td>1.433502</td>\n",
       "      <td>1.435282</td>\n",
       "      <td>60.0</td>\n",
       "    </tr>\n",
       "    <tr>\n",
       "      <th>1</th>\n",
       "      <td>63632</td>\n",
       "      <td>Jerusalem</td>\n",
       "      <td>6.287340</td>\n",
       "      <td>0.0</td>\n",
       "      <td>6.74812</td>\n",
       "      <td>709</td>\n",
       "      <td>1.028262</td>\n",
       "      <td>1.031527</td>\n",
       "      <td>2520.0</td>\n",
       "    </tr>\n",
       "    <tr>\n",
       "      <th>2</th>\n",
       "      <td>68448</td>\n",
       "      <td>7 Wonders</td>\n",
       "      <td>7.169964</td>\n",
       "      <td>6.0</td>\n",
       "      <td>7.78490</td>\n",
       "      <td>67739</td>\n",
       "      <td>1.052449</td>\n",
       "      <td>1.052545</td>\n",
       "      <td>4.0</td>\n",
       "    </tr>\n",
       "    <tr>\n",
       "      <th>3</th>\n",
       "      <td>167791</td>\n",
       "      <td>Terraforming Mars</td>\n",
       "      <td>8.104713</td>\n",
       "      <td>7.0</td>\n",
       "      <td>8.40232</td>\n",
       "      <td>36736</td>\n",
       "      <td>1.176985</td>\n",
       "      <td>1.177093</td>\n",
       "      <td>23.0</td>\n",
       "    </tr>\n",
       "    <tr>\n",
       "      <th>4</th>\n",
       "      <td>178302</td>\n",
       "      <td>Welcome to Centerville</td>\n",
       "      <td>7.538388</td>\n",
       "      <td>0.0</td>\n",
       "      <td>7.06078</td>\n",
       "      <td>463</td>\n",
       "      <td>1.114885</td>\n",
       "      <td>1.114885</td>\n",
       "      <td>3232.0</td>\n",
       "    </tr>\n",
       "  </tbody>\n",
       "</table>\n",
       "</div>"
      ],
      "text/plain": [
       "   gameid                    name   my_pred  my_rating  average_rating  \\\n",
       "0  174430              Gloomhaven  8.790935        0.0         8.91228   \n",
       "1   63632               Jerusalem  6.287340        0.0         6.74812   \n",
       "2   68448               7 Wonders  7.169964        6.0         7.78490   \n",
       "3  167791       Terraforming Mars  8.104713        7.0         8.40232   \n",
       "4  178302  Welcome to Centerville  7.538388        0.0         7.06078   \n",
       "\n",
       "   num_voters       std      RMSE  popularity  \n",
       "0       23504  1.433502  1.435282        60.0  \n",
       "1         709  1.028262  1.031527      2520.0  \n",
       "2       67739  1.052449  1.052545         4.0  \n",
       "3       36736  1.176985  1.177093        23.0  \n",
       "4         463  1.114885  1.114885      3232.0  "
      ]
     },
     "execution_count": 71,
     "metadata": {},
     "output_type": "execute_result"
    }
   ],
   "source": [
    "gamedf['popularity'] = gamedf['num_voters'].rank(ascending=False)\n",
    "gamedf.head()"
   ]
  },
  {
   "cell_type": "code",
   "execution_count": 73,
   "metadata": {},
   "outputs": [],
   "source": [
    "gamedf['std'] = pred_std.T\n",
    "gamedf['RMSE'] = mean_err.T\n",
    "gamedf = gamedf.sort_values('my_pred', ascending=False)"
   ]
  },
  {
   "cell_type": "code",
   "execution_count": 80,
   "metadata": {},
   "outputs": [
    {
     "data": {
      "text/html": [
       "<div>\n",
       "<style scoped>\n",
       "    .dataframe tbody tr th:only-of-type {\n",
       "        vertical-align: middle;\n",
       "    }\n",
       "\n",
       "    .dataframe tbody tr th {\n",
       "        vertical-align: top;\n",
       "    }\n",
       "\n",
       "    .dataframe thead th {\n",
       "        text-align: right;\n",
       "    }\n",
       "</style>\n",
       "<table border=\"1\" class=\"dataframe\">\n",
       "  <thead>\n",
       "    <tr style=\"text-align: right;\">\n",
       "      <th></th>\n",
       "      <th>gameid</th>\n",
       "      <th>name</th>\n",
       "      <th>my_pred</th>\n",
       "      <th>average_rating</th>\n",
       "      <th>num_voters</th>\n",
       "      <th>popularity</th>\n",
       "    </tr>\n",
       "  </thead>\n",
       "  <tbody>\n",
       "    <tr>\n",
       "      <th>3240</th>\n",
       "      <td>235802</td>\n",
       "      <td>Too Many Bones: Undertow</td>\n",
       "      <td>9.314951</td>\n",
       "      <td>8.96092</td>\n",
       "      <td>631</td>\n",
       "      <td>2718.5</td>\n",
       "    </tr>\n",
       "    <tr>\n",
       "      <th>4640</th>\n",
       "      <td>242722</td>\n",
       "      <td>Here I Stand (500th Anniversary Reprint Edition)</td>\n",
       "      <td>9.118732</td>\n",
       "      <td>8.69876</td>\n",
       "      <td>225</td>\n",
       "      <td>4417.0</td>\n",
       "    </tr>\n",
       "    <tr>\n",
       "      <th>351</th>\n",
       "      <td>7935</td>\n",
       "      <td>1844: Switzerland</td>\n",
       "      <td>9.106171</td>\n",
       "      <td>8.33923</td>\n",
       "      <td>180</td>\n",
       "      <td>4686.0</td>\n",
       "    </tr>\n",
       "    <tr>\n",
       "      <th>39</th>\n",
       "      <td>32989</td>\n",
       "      <td>Axis Empires: Totaler Krieg!</td>\n",
       "      <td>9.041317</td>\n",
       "      <td>8.37052</td>\n",
       "      <td>229</td>\n",
       "      <td>4392.5</td>\n",
       "    </tr>\n",
       "    <tr>\n",
       "      <th>227</th>\n",
       "      <td>193867</td>\n",
       "      <td>1822: The Railways of Great Britain</td>\n",
       "      <td>9.002617</td>\n",
       "      <td>8.50138</td>\n",
       "      <td>182</td>\n",
       "      <td>4669.0</td>\n",
       "    </tr>\n",
       "    <tr>\n",
       "      <th>2621</th>\n",
       "      <td>224517</td>\n",
       "      <td>Brass: Birmingham</td>\n",
       "      <td>8.982116</td>\n",
       "      <td>8.63405</td>\n",
       "      <td>4815</td>\n",
       "      <td>516.0</td>\n",
       "    </tr>\n",
       "    <tr>\n",
       "      <th>4370</th>\n",
       "      <td>68820</td>\n",
       "      <td>Enemy Action: Ardennes</td>\n",
       "      <td>8.963823</td>\n",
       "      <td>8.67158</td>\n",
       "      <td>297</td>\n",
       "      <td>3973.5</td>\n",
       "    </tr>\n",
       "    <tr>\n",
       "      <th>4302</th>\n",
       "      <td>63170</td>\n",
       "      <td>1817</td>\n",
       "      <td>8.911486</td>\n",
       "      <td>8.73544</td>\n",
       "      <td>268</td>\n",
       "      <td>4154.5</td>\n",
       "    </tr>\n",
       "    <tr>\n",
       "      <th>2449</th>\n",
       "      <td>220308</td>\n",
       "      <td>Gaia Project</td>\n",
       "      <td>8.909788</td>\n",
       "      <td>8.56949</td>\n",
       "      <td>8593</td>\n",
       "      <td>273.0</td>\n",
       "    </tr>\n",
       "    <tr>\n",
       "      <th>609</th>\n",
       "      <td>108018</td>\n",
       "      <td>Riichi Mahjong</td>\n",
       "      <td>8.837430</td>\n",
       "      <td>8.43058</td>\n",
       "      <td>188</td>\n",
       "      <td>4632.5</td>\n",
       "    </tr>\n",
       "  </tbody>\n",
       "</table>\n",
       "</div>"
      ],
      "text/plain": [
       "      gameid                                              name   my_pred  \\\n",
       "3240  235802                          Too Many Bones: Undertow  9.314951   \n",
       "4640  242722  Here I Stand (500th Anniversary Reprint Edition)  9.118732   \n",
       "351     7935                                 1844: Switzerland  9.106171   \n",
       "39     32989                      Axis Empires: Totaler Krieg!  9.041317   \n",
       "227   193867               1822: The Railways of Great Britain  9.002617   \n",
       "2621  224517                                 Brass: Birmingham  8.982116   \n",
       "4370   68820                            Enemy Action: Ardennes  8.963823   \n",
       "4302   63170                                              1817  8.911486   \n",
       "2449  220308                                      Gaia Project  8.909788   \n",
       "609   108018                                    Riichi Mahjong  8.837430   \n",
       "\n",
       "      average_rating  num_voters  popularity  \n",
       "3240         8.96092         631      2718.5  \n",
       "4640         8.69876         225      4417.0  \n",
       "351          8.33923         180      4686.0  \n",
       "39           8.37052         229      4392.5  \n",
       "227          8.50138         182      4669.0  \n",
       "2621         8.63405        4815       516.0  \n",
       "4370         8.67158         297      3973.5  \n",
       "4302         8.73544         268      4154.5  \n",
       "2449         8.56949        8593       273.0  \n",
       "609          8.43058         188      4632.5  "
      ]
     },
     "execution_count": 80,
     "metadata": {},
     "output_type": "execute_result"
    }
   ],
   "source": [
    "gamedf.head(10)[['gameid', 'name', 'my_pred', 'average_rating', 'num_voters', 'popularity']]"
   ]
  },
  {
   "cell_type": "code",
   "execution_count": 81,
   "metadata": {},
   "outputs": [
    {
     "name": "stderr",
     "output_type": "stream",
     "text": [
      "c:\\users\\aaron\\miniconda3\\envs\\venv\\lib\\site-packages\\ipykernel_launcher.py:4: UserWarning: Boolean Series key will be reindexed to match DataFrame index.\n",
      "  after removing the cwd from sys.path.\n"
     ]
    },
    {
     "data": {
      "text/html": [
       "<div>\n",
       "<style scoped>\n",
       "    .dataframe tbody tr th:only-of-type {\n",
       "        vertical-align: middle;\n",
       "    }\n",
       "\n",
       "    .dataframe tbody tr th {\n",
       "        vertical-align: top;\n",
       "    }\n",
       "\n",
       "    .dataframe thead th {\n",
       "        text-align: right;\n",
       "    }\n",
       "</style>\n",
       "<table border=\"1\" class=\"dataframe\">\n",
       "  <thead>\n",
       "    <tr style=\"text-align: right;\">\n",
       "      <th></th>\n",
       "      <th>gameid</th>\n",
       "      <th>name</th>\n",
       "      <th>my_pred</th>\n",
       "      <th>average_rating</th>\n",
       "      <th>num_voters</th>\n",
       "      <th>popularity</th>\n",
       "    </tr>\n",
       "  </thead>\n",
       "  <tbody>\n",
       "    <tr>\n",
       "      <th>2621</th>\n",
       "      <td>224517</td>\n",
       "      <td>Brass: Birmingham</td>\n",
       "      <td>8.982116</td>\n",
       "      <td>8.63405</td>\n",
       "      <td>4815</td>\n",
       "      <td>516.0</td>\n",
       "    </tr>\n",
       "    <tr>\n",
       "      <th>2449</th>\n",
       "      <td>220308</td>\n",
       "      <td>Gaia Project</td>\n",
       "      <td>8.909788</td>\n",
       "      <td>8.56949</td>\n",
       "      <td>8593</td>\n",
       "      <td>273.0</td>\n",
       "    </tr>\n",
       "    <tr>\n",
       "      <th>0</th>\n",
       "      <td>174430</td>\n",
       "      <td>Gloomhaven</td>\n",
       "      <td>8.790935</td>\n",
       "      <td>8.91228</td>\n",
       "      <td>23504</td>\n",
       "      <td>60.0</td>\n",
       "    </tr>\n",
       "    <tr>\n",
       "      <th>2529</th>\n",
       "      <td>175640</td>\n",
       "      <td>Vinhos Deluxe Edition</td>\n",
       "      <td>8.729107</td>\n",
       "      <td>8.24893</td>\n",
       "      <td>2519</td>\n",
       "      <td>956.5</td>\n",
       "    </tr>\n",
       "    <tr>\n",
       "      <th>3067</th>\n",
       "      <td>175914</td>\n",
       "      <td>Food Chain Magnate</td>\n",
       "      <td>8.683999</td>\n",
       "      <td>8.18605</td>\n",
       "      <td>9311</td>\n",
       "      <td>256.0</td>\n",
       "    </tr>\n",
       "    <tr>\n",
       "      <th>2601</th>\n",
       "      <td>162886</td>\n",
       "      <td>Spirit Island</td>\n",
       "      <td>8.651888</td>\n",
       "      <td>8.38891</td>\n",
       "      <td>9757</td>\n",
       "      <td>233.0</td>\n",
       "    </tr>\n",
       "    <tr>\n",
       "      <th>2457</th>\n",
       "      <td>161533</td>\n",
       "      <td>Lisboa</td>\n",
       "      <td>8.616892</td>\n",
       "      <td>8.19692</td>\n",
       "      <td>3845</td>\n",
       "      <td>640.0</td>\n",
       "    </tr>\n",
       "    <tr>\n",
       "      <th>2474</th>\n",
       "      <td>193738</td>\n",
       "      <td>Great Western Trail</td>\n",
       "      <td>8.603271</td>\n",
       "      <td>8.28808</td>\n",
       "      <td>18302</td>\n",
       "      <td>95.0</td>\n",
       "    </tr>\n",
       "    <tr>\n",
       "      <th>2770</th>\n",
       "      <td>28720</td>\n",
       "      <td>Brass: Lancashire</td>\n",
       "      <td>8.526196</td>\n",
       "      <td>8.11884</td>\n",
       "      <td>14647</td>\n",
       "      <td>140.0</td>\n",
       "    </tr>\n",
       "    <tr>\n",
       "      <th>2578</th>\n",
       "      <td>19777</td>\n",
       "      <td>Indonesia</td>\n",
       "      <td>8.498173</td>\n",
       "      <td>7.83536</td>\n",
       "      <td>3486</td>\n",
       "      <td>714.0</td>\n",
       "    </tr>\n",
       "  </tbody>\n",
       "</table>\n",
       "</div>"
      ],
      "text/plain": [
       "      gameid                   name   my_pred  average_rating  num_voters  \\\n",
       "2621  224517      Brass: Birmingham  8.982116         8.63405        4815   \n",
       "2449  220308           Gaia Project  8.909788         8.56949        8593   \n",
       "0     174430             Gloomhaven  8.790935         8.91228       23504   \n",
       "2529  175640  Vinhos Deluxe Edition  8.729107         8.24893        2519   \n",
       "3067  175914     Food Chain Magnate  8.683999         8.18605        9311   \n",
       "2601  162886          Spirit Island  8.651888         8.38891        9757   \n",
       "2457  161533                 Lisboa  8.616892         8.19692        3845   \n",
       "2474  193738    Great Western Trail  8.603271         8.28808       18302   \n",
       "2770   28720      Brass: Lancashire  8.526196         8.11884       14647   \n",
       "2578   19777              Indonesia  8.498173         7.83536        3486   \n",
       "\n",
       "      popularity  \n",
       "2621       516.0  \n",
       "2449       273.0  \n",
       "0           60.0  \n",
       "2529       956.5  \n",
       "3067       256.0  \n",
       "2601       233.0  \n",
       "2457       640.0  \n",
       "2474        95.0  \n",
       "2770       140.0  \n",
       "2578       714.0  "
      ]
     },
     "execution_count": 81,
     "metadata": {},
     "output_type": "execute_result"
    }
   ],
   "source": [
    "owned_filter = gamedf.my_rating!=0\n",
    "popularity_max = len(gamedf[owned_filter])*10\n",
    "popularity_filter = gamedf.popularity <= popularity_max\n",
    "gamedf.sort_values('my_pred', ascending=False)[popularity_filter].head(10)[['gameid', 'name', 'my_pred', 'average_rating', 'num_voters', 'popularity']]"
   ]
  },
  {
   "cell_type": "code",
   "execution_count": null,
   "metadata": {},
   "outputs": [],
   "source": []
  }
 ],
 "metadata": {
  "kernelspec": {
   "display_name": "Python 3",
   "language": "python",
   "name": "python3"
  },
  "language_info": {
   "codemirror_mode": {
    "name": "ipython",
    "version": 3
   },
   "file_extension": ".py",
   "mimetype": "text/x-python",
   "name": "python",
   "nbconvert_exporter": "python",
   "pygments_lexer": "ipython3",
   "version": "3.7.1"
  }
 },
 "nbformat": 4,
 "nbformat_minor": 2
}
